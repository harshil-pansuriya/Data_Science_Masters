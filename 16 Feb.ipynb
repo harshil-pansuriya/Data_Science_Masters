{
 "cells": [
  {
   "cell_type": "markdown",
   "id": "44e3fe85-4094-4f69-91e2-62bf62032090",
   "metadata": {},
   "source": [
    "## 1. \n",
    "## What is a database? Differentiate between SQL and NoSQL databases.\n",
    "#### SQL databases are relational databases that store data in tables with predefined relationships, while NoSQL databases store data in a non-tabular format. \n",
    "#### SQL databases use SQL to manipulate and query data, while NoSQL databases use various languages, such as JavaScript and JSON.\n",
    "#### SQL databases are used in many applications and are particularly useful for applications that require transactions and data consistency, such as banking systems, eCommerce websites, and enterprise resource planning (ERP) systems."
   ]
  },
  {
   "cell_type": "markdown",
   "id": "b5c9dafb-8262-4d53-8147-37c0c54ab80a",
   "metadata": {},
   "source": [
    "# 2.\n",
    "## What is DDL? Explain why CREATE, DROP, ALTER, and TRUNCATE are used with an example.\n",
    "#### DDL stands for Data Definition Language, which is a set of SQL commands used to define the structure and schema of a database. DDL commands are used to create, modify, and delete database objects such as tables, views, indexes, and constraints.\n",
    "### CREATE :\n",
    "#### --> The CREATE command is used to create a new database object, such as a table, view, or index.\n",
    "### DROP :\n",
    "#### -->The DROP command is used to delete a database object, such as a table, view, or index.\n",
    "### ALTER :\n",
    "#### --> The ALTER command is used to modify the structure of an existing database object, such as a table or index. \n",
    "### TRUNCATE :\n",
    "#### -->The TRUNCATE command is used to delete all data from a table, but not the table itself.\n",
    "\n",
    "## Ex:\n",
    "\n",
    "#### CREATE TABLE customers (id INT PRIMARY KEY,name VARCHAR(50),email VARCHAR(100),age INT);\n",
    "#### DROP TABLE customers;\n",
    "#### ALTER TABLE customers ADD Address VARCHAR(100);\n",
    "#### TRUNCATE TABLE customers;"
   ]
  },
  {
   "cell_type": "markdown",
   "id": "e3bfd162-4f79-4d57-b55b-7f100112ea05",
   "metadata": {},
   "source": [
    "# 3.\n",
    "## What is DML? Explain INSERT, UPDATE, and DELETE with an example.\n",
    "#### DML stands for Data Manipulation Language, which is a set of SQL commands used to manage the data within a database. DML commands are used to insert, update, and delete data in a table.\n",
    "### INSERT :\n",
    "#### --> The INSERT command is used to add new rows of data to a table.\n",
    "### UPDATE :\n",
    "#### --> The UPDATE command is used to modify existing data in a table.\n",
    "### DELETE :\n",
    "#### --> The DELETE command is used to remove rows of data from a table.\n",
    "\n",
    "## EX:\n",
    "#### INSERT INTO customers (id, name, email, age)\n",
    "#### VALUES (1, 'harsh patel', 'harsh@gmail.com', 30);\n",
    "#### UPDATE customers SET age = 35 WHERE id = 1;\n",
    "#### DELETE FROM customers WHERE id = 1;"
   ]
  },
  {
   "cell_type": "code",
   "execution_count": null,
   "id": "d937b9d9-560e-471e-bde4-8dd60f8e77c7",
   "metadata": {},
   "outputs": [],
   "source": []
  },
  {
   "cell_type": "markdown",
   "id": "2a17d9f0-fdf4-4345-b3cd-11639ad6655d",
   "metadata": {},
   "source": [
    "# 4.\n",
    "## What is DQL? Explain SELECT with an example.\n",
    "#### DQL stands for Data Query Language, which is a set of SQL commands used to query and retrieve data from a database. DQL commands are used to retrieve data from one or more tables in a database.\n",
    "#### SELECT * FROM users;\n",
    "#### SELECT email FROM users WHERE name =\"Harsh patel\";"
   ]
  },
  {
   "cell_type": "markdown",
   "id": "168f5130-8b8c-47e9-a6a1-85a7efc5b3e1",
   "metadata": {},
   "source": [
    "# 5.\n",
    "## Explain Primary Key and Foreign Key.\n",
    "### Primary Key:\n",
    "#### --> A primary key is a unique identifier for a record in a table. It is a column or a set of columns that uniquely identify each row in a table.\n",
    "#### --> Primary keys are used to enforce data integrity and ensure that each row in a table is unique. A table can have only one primary key, and it cannot contain null values. Examples of primary key columns include social security number, employee ID, and customer ID.\n",
    "\n",
    "### Foreign Key:\n",
    "#### --> A foreign key is a column or a set of columns in one table that refers to the primary key of another table. It is used to establish relationships between tables and enforce referential integrity. A foreign key in one table is always a primary key in another table. \n",
    "#### -->For example, in a database that tracks customers and orders, the order table would contain a foreign key column that references the customer ID column in the customer table. This ensures that each order is associated with a valid customer."
   ]
  },
  {
   "cell_type": "markdown",
   "id": "c675222d-96b2-4b6e-806a-6616f34e4ec9",
   "metadata": {},
   "source": [
    "# 6.\n",
    "## Write a python code to connect MySQL to python. Explain the cursor() and execute() method.\n",
    "#### import mysql.connector\n",
    "#### cnx = mysql.connector.connect(\n",
    "#### host=\"localhost\",\n",
    "#### user=\"username\",\n",
    "#### password=\"password\",\n",
    "#### database=\"database_name\"\n",
    "#### )\n",
    "#### cursor = cnx.cursor()\n",
    "#### query = \"SELECT * FROM customers\"\n",
    "#### cursor.execute(query)"
   ]
  },
  {
   "cell_type": "markdown",
   "id": "efb1084b-6a87-4b2a-a942-0c227da168c3",
   "metadata": {},
   "source": [
    "# 7.\n",
    "## Give the order of execution of SQL clauses in an SQL query.\n",
    "\n",
    "### FROM\n",
    "#### -->  This clause specifies the table or tables from which data will be retrieved. It is the first clause that is executed in a SQL query.\n",
    "### WHERE\n",
    "#### --> This clause is used to filter the data based on certain conditions. It is executed after the FROM clause and before the SELECT clause.\n",
    "### GROUP BY\n",
    "#### --> This clause is used to group the data based on one or more columns. It is executed after the WHERE clause and before the SELECT clause.\n",
    "### HAVING \n",
    "#### --> This clause is used to filter the groups based on certain conditions. It is executed after the GROUP BY clause and before the SELECT clause.\n",
    "### SELECT\n",
    "#### --> This clause is used to select the columns that will be included in the result set. It is executed after the FROM, WHERE, GROUP BY, and HAVING clauses.\n",
    "### ORDER BY\n",
    "#### --> This clause is used to sort the result set based on one or more columns. It is executed after the SELECT clause.\n",
    "### LIMIT\n",
    "#### --> This clause is used to limit the number of rows returned by the query or to specify the starting point for retrieving rows. It is executed after the ORDER BY clause."
   ]
  },
  {
   "cell_type": "code",
   "execution_count": null,
   "id": "cf86628d-d139-4419-bbe8-2c8baec49fd8",
   "metadata": {},
   "outputs": [],
   "source": []
  },
  {
   "cell_type": "code",
   "execution_count": null,
   "id": "e3ad792d-5942-4212-a780-04b74f8d8553",
   "metadata": {},
   "outputs": [],
   "source": []
  },
  {
   "cell_type": "code",
   "execution_count": null,
   "id": "298fb2e0-1ad5-4e49-94bc-1e91013d29bd",
   "metadata": {},
   "outputs": [],
   "source": []
  },
  {
   "cell_type": "code",
   "execution_count": null,
   "id": "330bc38e-d484-4110-9984-c3711db9c921",
   "metadata": {},
   "outputs": [],
   "source": []
  },
  {
   "cell_type": "code",
   "execution_count": null,
   "id": "ed54794f-8054-4783-8759-15e3f4d34392",
   "metadata": {},
   "outputs": [],
   "source": []
  },
  {
   "cell_type": "code",
   "execution_count": null,
   "id": "9146f437-4029-4bb2-8f41-d85dccbcc4ec",
   "metadata": {},
   "outputs": [],
   "source": []
  },
  {
   "cell_type": "code",
   "execution_count": null,
   "id": "2200edc2-fc81-482b-a25a-24206262f4e4",
   "metadata": {},
   "outputs": [],
   "source": []
  },
  {
   "cell_type": "code",
   "execution_count": null,
   "id": "5cf46b22-42e1-41d2-a87d-41664d86337c",
   "metadata": {},
   "outputs": [],
   "source": []
  },
  {
   "cell_type": "code",
   "execution_count": null,
   "id": "acba52c9-915d-4ec7-b4ba-625382227a1a",
   "metadata": {},
   "outputs": [],
   "source": []
  },
  {
   "cell_type": "code",
   "execution_count": null,
   "id": "fedd7074-bfcb-4895-b1b9-a841c951a0a8",
   "metadata": {},
   "outputs": [],
   "source": []
  },
  {
   "cell_type": "code",
   "execution_count": null,
   "id": "73f71634-36af-4e22-926e-bafa61860b41",
   "metadata": {},
   "outputs": [],
   "source": []
  },
  {
   "cell_type": "code",
   "execution_count": null,
   "id": "4a9594ad-50d2-4373-85ab-a5459eab8702",
   "metadata": {},
   "outputs": [],
   "source": []
  }
 ],
 "metadata": {
  "kernelspec": {
   "display_name": "Python 3 (ipykernel)",
   "language": "python",
   "name": "python3"
  },
  "language_info": {
   "codemirror_mode": {
    "name": "ipython",
    "version": 3
   },
   "file_extension": ".py",
   "mimetype": "text/x-python",
   "name": "python",
   "nbconvert_exporter": "python",
   "pygments_lexer": "ipython3",
   "version": "3.10.8"
  }
 },
 "nbformat": 4,
 "nbformat_minor": 5
}
