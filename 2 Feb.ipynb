{
 "cells": [
  {
   "cell_type": "markdown",
   "id": "09b03139-e957-41d5-b975-9eb44027df79",
   "metadata": {},
   "source": [
    "## 1. Characteristics of Tuple"
   ]
  },
  {
   "cell_type": "markdown",
   "id": "1e544263-5d79-44a9-a3f4-696eb60feaa4",
   "metadata": {},
   "source": [
    "### Yes,Tuple is immutable.\n",
    "### A tuple is an ordered, immutable, and heterogeneous collection of elements. Immutable means once a tuple ### is  created, its elements can't be changed or modified."
   ]
  },
  {
   "cell_type": "markdown",
   "id": "231ac709-d7c8-4451-9a8f-0b94822efcae",
   "metadata": {},
   "source": [
    "## 2.Two tuple methods in python"
   ]
  },
  {
   "cell_type": "markdown",
   "id": "8de4034f-41b4-4b56-8497-92d10a20107a",
   "metadata": {},
   "source": [
    "#### 1] count(): This method returns the number of occurrences of a given element in the tuple.\n",
    "#### 2] index(): This method returns the index of the first occurrence of a given element in the tuple.\n"
   ]
  },
  {
   "cell_type": "code",
   "execution_count": 1,
   "id": "42785ffe-6f65-44f5-8c5f-3d72c8cd1d08",
   "metadata": {},
   "outputs": [
    {
     "data": {
      "text/plain": [
       "2"
      ]
     },
     "execution_count": 1,
     "metadata": {},
     "output_type": "execute_result"
    }
   ],
   "source": [
    "t1=(1,2,3,4,5,3)\n",
    "t1.count(3)"
   ]
  },
  {
   "cell_type": "code",
   "execution_count": 2,
   "id": "f1e01fe3-3345-44f6-b1e7-2b587286af2d",
   "metadata": {},
   "outputs": [
    {
     "data": {
      "text/plain": [
       "3"
      ]
     },
     "execution_count": 2,
     "metadata": {},
     "output_type": "execute_result"
    }
   ],
   "source": [
    "t1.index(4)"
   ]
  },
  {
   "cell_type": "markdown",
   "id": "7cef1e0e-43eb-473e-9e52-4b165e9cda56",
   "metadata": {
    "tags": []
   },
   "source": [
    "#### Tuples have only two built-in methods compared to lists because tuples are meant to be simple, lightweight, and efficient data structures. Lists are more versatile and have more methods because they are meant to be more flexible and powerful. Tuples are designed to be used in specific cases where immutability and performance are important."
   ]
  },
  {
   "cell_type": "markdown",
   "id": "da74b51d-0fb0-4d16-a5bd-7cd71a83da67",
   "metadata": {},
   "source": [
    "## 3. Set : Datatype don't allow duplicate items"
   ]
  },
  {
   "cell_type": "code",
   "execution_count": 4,
   "id": "7c936b88-2448-429e-a1ea-7010f25f0f07",
   "metadata": {},
   "outputs": [
    {
     "data": {
      "text/plain": [
       "{1, 2, 3, 4}"
      ]
     },
     "execution_count": 4,
     "metadata": {},
     "output_type": "execute_result"
    }
   ],
   "source": [
    "list=[1, 1, 1, 2, 1, 3, 1, 4, 2, 1, 2, 2, 2, 3, 2, 4, 3, 1, 3, 2, 3, 3, 3, 4, 4, 1, 4, 2, 4, 3, 4, 4]\n",
    "set(list)"
   ]
  },
  {
   "cell_type": "markdown",
   "id": "bedae05b-36ef-4bb1-b11c-c2bb5a746ee1",
   "metadata": {},
   "source": [
    "## 4. Difference between union() an update()"
   ]
  },
  {
   "cell_type": "markdown",
   "id": "fd685ebc-3e9e-4521-b931-d6cd1aae0d48",
   "metadata": {},
   "source": [
    "#### union() union thw two sets while update() add the element of one to another ."
   ]
  },
  {
   "cell_type": "code",
   "execution_count": 18,
   "id": "c3a7482b-6159-42a4-b14f-6daf5df96530",
   "metadata": {},
   "outputs": [
    {
     "name": "stdout",
     "output_type": "stream",
     "text": [
      "{1, 2, 3, 4, 'abc', 5, 'xyz'}\n"
     ]
    }
   ],
   "source": [
    "set1 = {1, 2, 3,\"abc\"}\n",
    "set2 = {3, 4, 5,\"xyz\"}\n",
    "\n",
    "set3 = set1.union(set2)\n",
    "print(set3)"
   ]
  },
  {
   "cell_type": "code",
   "execution_count": 21,
   "id": "7571b576-c114-46ea-809d-c962a576081f",
   "metadata": {},
   "outputs": [
    {
     "name": "stdout",
     "output_type": "stream",
     "text": [
      "{1, 2, 3, 4, 'abc', 5, 'xyz'}\n"
     ]
    }
   ],
   "source": [
    "set1 = {1, 2, 3}\n",
    "set2 = {3, 4, 5,\"xyz\",\"abc\"}\n",
    "        \n",
    "set1.update(set2)\n",
    "print(set1)"
   ]
  },
  {
   "cell_type": "markdown",
   "id": "e5139a51-e0a9-4c54-891d-d828c27ca12e",
   "metadata": {},
   "source": [
    "## 5. Dictionary"
   ]
  },
  {
   "cell_type": "markdown",
   "id": "b203e5a5-085e-4963-a638-ab9c601223f7",
   "metadata": {},
   "source": [
    "##### A dictionary in Python is an unordered collection of key-value pairs, where each key is unique and is\n",
    "\n",
    "##### used to access its associated value. Dictionaries are created using curly braces {} and can contain any type \n",
    "\n",
    "##### of objects, including other dictionaries, as values.\n"
   ]
  },
  {
   "cell_type": "code",
   "execution_count": 31,
   "id": "3a0bd57e-512b-4e7f-ae51-60ec42d5bf9c",
   "metadata": {},
   "outputs": [
    {
     "data": {
      "text/plain": [
       "{'Series': 'Peaky Blinders',\n",
       " 'Actor': 'Thomas Shelby',\n",
       " 'Seasons': 6,\n",
       " 'Lang': 'English'}"
      ]
     },
     "execution_count": 31,
     "metadata": {},
     "output_type": "execute_result"
    }
   ],
   "source": [
    "d={\"Series\" : \"Peaky Blinders\" , \"Actor\" : \"Thomas Shelby\" ,\"Seasons\" : 6}\n",
    "d\n",
    "d[\"Lang\"] =\"English\"\n",
    "d"
   ]
  },
  {
   "cell_type": "markdown",
   "id": "e41c3afa-356c-4ad2-b54d-30ea16716914",
   "metadata": {},
   "source": [
    "## 6. Nested Dictionary\n"
   ]
  },
  {
   "cell_type": "markdown",
   "id": "a457ca00-1144-4cad-9003-ce0b795eaabc",
   "metadata": {},
   "source": [
    "#### Yes,we can create a nested dictionary in Python."
   ]
  },
  {
   "cell_type": "code",
   "execution_count": 34,
   "id": "a0f1f478-0a25-4b93-b0e9-a397d7851d97",
   "metadata": {},
   "outputs": [
    {
     "data": {
      "text/plain": [
       "{'person1': {'name': 'Harshil', 'age': 19},\n",
       " 'person2': {'name': 'Harshil', 'state': 'Gujarat'}}"
      ]
     },
     "execution_count": 34,
     "metadata": {},
     "output_type": "execute_result"
    }
   ],
   "source": [
    "d = {'person1': {'name': 'Harshil', 'age': 19},'person2': {'name': 'Harshil', 'state': 'Gujarat'}}\n",
    "d"
   ]
  },
  {
   "cell_type": "markdown",
   "id": "74a6e4c6-d61c-45fd-bcda-d28609b1a303",
   "metadata": {},
   "source": [
    "## 7. setdefault()"
   ]
  },
  {
   "cell_type": "code",
   "execution_count": 37,
   "id": "3c8c777b-d1f3-4019-8814-7969fc4de440",
   "metadata": {},
   "outputs": [
    {
     "data": {
      "text/plain": [
       "{'language': 'python',\n",
       " 'course': 'data science masters',\n",
       " 'Topics': ['python', 'machine learning', 'deep learning']}"
      ]
     },
     "execution_count": 37,
     "metadata": {},
     "output_type": "execute_result"
    }
   ],
   "source": [
    "d2={\"language\":\"python\",\"course\":\"data science masters\"}\n",
    "d2.setdefault(\"Topics\",[\"python\",\"machine learning\",\"deep learning\"])\n",
    "d2"
   ]
  },
  {
   "cell_type": "markdown",
   "id": "168b6ffa-e462-41de-9915-fd7826a0ca63",
   "metadata": {},
   "source": [
    "### 8. View Objects in Dictionaries"
   ]
  },
  {
   "cell_type": "code",
   "execution_count": 53,
   "id": "7a22dd90-e8dc-4aee-bd08-1c916421392b",
   "metadata": {},
   "outputs": [
    {
     "name": "stdout",
     "output_type": "stream",
     "text": [
      "dict_keys(['Sport', 'Teams'])\n",
      "\n",
      "dict_values(['Cricket', ['India', 'Australia', 'England', 'South Africa', 'Sri Lanka', 'New Zealand']])\n",
      "\n",
      "dict_items([('Sport', 'Cricket'), ('Teams', ['India', 'Australia', 'England', 'South Africa', 'Sri Lanka', 'New Zealand'])])\n",
      "\n"
     ]
    }
   ],
   "source": [
    "d3={'Sport': 'Cricket' , 'Teams': ['India', 'Australia', 'England', 'South Africa', 'Sri Lanka', 'New Zealand']}\n",
    "print(d3.keys(),end=\"\\n\\n\")\n",
    "print(d3.values(),end=\"\\n\\n\")\n",
    "print(d3.items(),end=\"\\n\\n\")"
   ]
  },
  {
   "cell_type": "code",
   "execution_count": null,
   "id": "b964f19e-116f-46a4-9034-3d093161cf8b",
   "metadata": {},
   "outputs": [],
   "source": []
  }
 ],
 "metadata": {
  "kernelspec": {
   "display_name": "Python 3 (ipykernel)",
   "language": "python",
   "name": "python3"
  },
  "language_info": {
   "codemirror_mode": {
    "name": "ipython",
    "version": 3
   },
   "file_extension": ".py",
   "mimetype": "text/x-python",
   "name": "python",
   "nbconvert_exporter": "python",
   "pygments_lexer": "ipython3",
   "version": "3.10.8"
  }
 },
 "nbformat": 4,
 "nbformat_minor": 5
}
