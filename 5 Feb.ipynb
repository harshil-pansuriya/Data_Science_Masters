{
 "cells": [
  {
   "cell_type": "markdown",
   "id": "123864c6-626c-47da-b7bb-424b79e16bed",
   "metadata": {},
   "source": [
    "# 1. . Explain Class and Object with respect to Object-Oriented Programming. Give a suitable example."
   ]
  },
  {
   "cell_type": "markdown",
   "id": "62bc2451-e2b3-4c77-8274-209626f48603",
   "metadata": {},
   "source": [
    "#### 1] A Class is like an object constructor, or a \"blueprint\" for creating objects.\n",
    "#### 2] Objects contain methods. Methods in objects are functions that belong to the object  and an objecct is instance of class.\n",
    "#### Ex. movie has story,charecters also types : romantic,thriller,action"
   ]
  },
  {
   "cell_type": "markdown",
   "id": "2ba4fe69-ed02-40ae-8a9f-14c65d128ae5",
   "metadata": {},
   "source": [
    "# 2. Name the four pillars of OOPs."
   ]
  },
  {
   "cell_type": "markdown",
   "id": "8533e05f-0c01-457b-882d-60935d2b6458",
   "metadata": {},
   "source": [
    "#### 1] Inheritance\n",
    "#### 2] Polymorphism\n",
    "#### 3] Encapsulation\n",
    "#### 4] Abstraction"
   ]
  },
  {
   "cell_type": "markdown",
   "id": "410a599a-1c19-4a65-844e-fc901c9a03ce",
   "metadata": {},
   "source": [
    "# 3. Explain why the __init__() function is used. Give a suitable example."
   ]
  },
  {
   "cell_type": "markdown",
   "id": "4fd4f445-c5e3-4b66-82b1-b35f6f998ecb",
   "metadata": {},
   "source": [
    "#### __init__ is known as constructor and it is  used to initialize the attributes of an object when it is first created. \n",
    "\n",
    "#### The __init__ method is called automatically when a new object is created from the class."
   ]
  },
  {
   "cell_type": "code",
   "execution_count": 1,
   "id": "48cef58e-6a10-4e4f-9a22-b0c1f175cd07",
   "metadata": {},
   "outputs": [
    {
     "name": "stdout",
     "output_type": "stream",
     "text": [
      "RR Phantom\n",
      "Black\n",
      "2022\n"
     ]
    }
   ],
   "source": [
    "class Car:\n",
    "    def __init__(self, model, color, year):\n",
    "        self.model = model\n",
    "        self.color = color\n",
    "        self.year = year\n",
    "\n",
    "Car = Car(\"RR Phantom\", \"Black\", 2022)\n",
    "\n",
    "print(Car.model)\n",
    "print(Car.color)\n",
    "print(Car.year)"
   ]
  },
  {
   "cell_type": "markdown",
   "id": "58067628-8736-42af-a9b4-f59b50aa61d1",
   "metadata": {},
   "source": [
    "# 4. Why self is used in OOPs?"
   ]
  },
  {
   "cell_type": "markdown",
   "id": "cd40299a-aed9-43d7-bfae-a69c7101e800",
   "metadata": {},
   "source": [
    "#### In OOPs self is a reference to the current instance of the class. It is used to access the attributes and\n",
    "\n",
    "#### methods of an object from within the class"
   ]
  },
  {
   "cell_type": "markdown",
   "id": "9b446766-16db-49cb-a418-64bbd067604a",
   "metadata": {},
   "source": [
    "# 5. What is inheritance? Give an example for each type of inheritance."
   ]
  },
  {
   "cell_type": "markdown",
   "id": "a3c411b3-33df-4c76-966e-3ded1e51fa6b",
   "metadata": {},
   "source": [
    "#### Inheritance is mechanism in OOPs which allows you to create a new class that is a modified version of an existing class. \n",
    "#### It also allows the subclass to reuse the attributes and methods of the superclass, which can save time and effort in writing and maintaining code."
   ]
  },
  {
   "cell_type": "markdown",
   "id": "b21232f3-4966-436e-ab18-13c9a4233537",
   "metadata": {},
   "source": [
    "### 1] Single inheritance"
   ]
  },
  {
   "cell_type": "code",
   "execution_count": 2,
   "id": "c5b0181f-ec45-4817-bbfe-61737f531e1d",
   "metadata": {},
   "outputs": [
    {
     "name": "stdout",
     "output_type": "stream",
     "text": [
      "Name: Tom\n",
      "Species: Dog\n",
      "Breed: Labrador\n"
     ]
    }
   ],
   "source": [
    "class Animal:\n",
    "    def __init__(self, name, species):\n",
    "        self.name = name\n",
    "        self.species = species\n",
    "\n",
    "    def display_info(self):\n",
    "        print(f\"Name: {self.name}\\nSpecies: {self.species}\")\n",
    "\n",
    "class Dog(Animal):\n",
    "    def __init__(self, name, breed):\n",
    "        Animal.__init__(self, name, species=\"Dog\")\n",
    "        self.breed = breed\n",
    "\n",
    "    def display_info(self):\n",
    "        Animal.display_info(self)\n",
    "        print(f\"Breed: {self.breed}\")\n",
    "\n",
    "my_dog = Dog(\"Tom\", \"Labrador\")\n",
    "my_dog.display_info()"
   ]
  },
  {
   "cell_type": "markdown",
   "id": "4066f75f-8c72-4af9-b66f-b15866ad6577",
   "metadata": {},
   "source": [
    "### 2] Multi-level inheritance"
   ]
  },
  {
   "cell_type": "code",
   "execution_count": 3,
   "id": "10fd07fd-b47a-4342-a297-177ec97532e1",
   "metadata": {},
   "outputs": [
    {
     "name": "stdout",
     "output_type": "stream",
     "text": [
      "Name: Harshil\n",
      "Age: 23\n",
      "Roll Number: GS1007\n",
      "Department: Computer Science\n"
     ]
    }
   ],
   "source": [
    "class Person:\n",
    "    def __init__(self, name, age):\n",
    "        self.name = name\n",
    "        self.age = age\n",
    "\n",
    "    def display_info(self):\n",
    "        print(f\"Name: {self.name}\\nAge: {self.age}\")\n",
    "\n",
    "class Student(Person):\n",
    "    def __init__(self, name, age, roll_number):\n",
    "        Person.__init__(self, name, age)\n",
    "        self.roll_number = roll_number\n",
    "\n",
    "    def display_info(self):\n",
    "        Person.display_info(self)\n",
    "        print(f\"Roll Number: {self.roll_number}\")\n",
    "\n",
    "class GraduateStudent(Student):\n",
    "    def __init__(self, name, age, roll_number, department):\n",
    "        Student.__init__(self, name, age, roll_number)\n",
    "        self.department = department\n",
    "\n",
    "    def display_info(self):\n",
    "        Student.display_info(self)\n",
    "        print(f\"Department: {self.department}\")\n",
    "\n",
    "my_student = GraduateStudent(\"Harshil\", 23, \"GS1007\", \"Computer Science\")\n",
    "my_student.display_info()"
   ]
  },
  {
   "cell_type": "markdown",
   "id": "332c16ad-08ee-44f9-8f0b-542ea9d1e946",
   "metadata": {},
   "source": [
    "### 3] Multiple inheritance"
   ]
  },
  {
   "cell_type": "code",
   "execution_count": 4,
   "id": "3db01bb2-157f-4cbd-9b0b-2ee8c1ba6a4e",
   "metadata": {},
   "outputs": [
    {
     "name": "stdout",
     "output_type": "stream",
     "text": [
      "Gopalnath\n",
      "Grandfather name : Gopalnath\n",
      "Father name : Ramkishan\n",
      "Son name : Hari\n"
     ]
    }
   ],
   "source": [
    "class Grandfather:\n",
    "\n",
    "\tdef __init__(self, grandfathername):\n",
    "\t\tself.grandfather = grandfathername\n",
    "\n",
    "class Father(Grandfather):\n",
    "\tdef __init__(self, fathername, grandfathername):\n",
    "\t\tself.father = fathername\n",
    "\n",
    "\t\tGrandfather.__init__(self, grandfathername)\n",
    "\n",
    "class Son(Father):\n",
    "\tdef __init__(self, sonname, fathername, grandfathername):\n",
    "\t\tself.son = sonname\n",
    "\n",
    "\t\tFather.__init__(self, fathername, grandfathername)\n",
    "\n",
    "\tdef name(self):\n",
    "\t\tprint('Grandfather name :', self.grandfather)\n",
    "\t\tprint(\"Father name :\", self.father)\n",
    "\t\tprint(\"Son name :\", self.son)\n",
    "\n",
    "s1 = Son('Hari', 'Ramkishan', 'Gopalnath')\n",
    "print(s1.grandfather)\n",
    "s1.name()"
   ]
  },
  {
   "cell_type": "markdown",
   "id": "edc24c89-3b79-44d7-8d7b-5674c16211a6",
   "metadata": {},
   "source": [
    "### 4] Hierarchical Inheritance"
   ]
  },
  {
   "cell_type": "code",
   "execution_count": 5,
   "id": "a964d539-611a-443d-a633-129299a0e2c9",
   "metadata": {},
   "outputs": [
    {
     "name": "stdout",
     "output_type": "stream",
     "text": [
      "This function is in parent class.\n",
      "This function is in child 1.\n",
      "This function is in parent class.\n",
      "This function is in child 2.\n"
     ]
    }
   ],
   "source": [
    "class Parent:\n",
    "\tdef func1(self):\n",
    "\t\tprint(\"This function is in parent class.\")\n",
    "\n",
    "class Child1(Parent):\n",
    "\tdef func2(self):\n",
    "\t\tprint(\"This function is in child 1.\")\n",
    "\n",
    "class Child2(Parent):\n",
    "\tdef func3(self):\n",
    "\t\tprint(\"This function is in child 2.\")\n",
    "\n",
    "object1 = Child1()\n",
    "object2 = Child2()\n",
    "object1.func1()\n",
    "object1.func2()\n",
    "object2.func1()\n",
    "object2.func3()"
   ]
  },
  {
   "cell_type": "markdown",
   "id": "5e72417d-a453-4359-9529-cdf7cb6b3f6f",
   "metadata": {},
   "source": [
    "### 5] Hybrid Inheritance"
   ]
  },
  {
   "cell_type": "code",
   "execution_count": 7,
   "id": "c2953997-f0a4-4500-9591-631f3c76a26f",
   "metadata": {},
   "outputs": [
    {
     "name": "stdout",
     "output_type": "stream",
     "text": [
      "This function is in Movie.\n",
      "This function is in Charecter 1. \n"
     ]
    }
   ],
   "source": [
    "class Movie:\n",
    "\tdef fun1(self):\n",
    "\t\tprint(\"This function is in Movie.\")\n",
    "\n",
    "\n",
    "class Charecter1(Movie):\n",
    "\tdef fun2(self):\n",
    "\t\tprint(\"This function is in Charecter 1. \")\n",
    "\n",
    "\n",
    "class Charecter2(Movie):\n",
    "\tdef fun3(self):\n",
    "\t\tprint(\"This function is in Charecter 2.\")\n",
    "\n",
    "\n",
    "class Charecter3(Charecter1, Movie):\n",
    "\tdef fun4(self):\n",
    "\t\tprint(\"This function is in Charecter 3.\")\n",
    "\n",
    "object = Charecter3()\n",
    "object.func1()\n",
    "object.func3()\n",
    "object.func2()"
   ]
  },
  {
   "cell_type": "code",
   "execution_count": null,
   "id": "58050ca6-8689-4fdb-9974-10089ece07bf",
   "metadata": {},
   "outputs": [],
   "source": []
  },
  {
   "cell_type": "code",
   "execution_count": null,
   "id": "2b80946a-f60d-479b-bf48-48a2c78352cb",
   "metadata": {},
   "outputs": [],
   "source": []
  }
 ],
 "metadata": {
  "kernelspec": {
   "display_name": "Python 3 (ipykernel)",
   "language": "python",
   "name": "python3"
  },
  "language_info": {
   "codemirror_mode": {
    "name": "ipython",
    "version": 3
   },
   "file_extension": ".py",
   "mimetype": "text/x-python",
   "name": "python",
   "nbconvert_exporter": "python",
   "pygments_lexer": "ipython3",
   "version": "3.10.8"
  }
 },
 "nbformat": 4,
 "nbformat_minor": 5
}
