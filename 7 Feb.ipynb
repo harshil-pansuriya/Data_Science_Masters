{
 "cells": [
  {
   "cell_type": "markdown",
   "id": "3d37bd71-ea86-46af-9aba-8938fe757ab4",
   "metadata": {},
   "source": [
    "### 1.  You are writing code for a company. The requirement of the company is that you create a python function that will check whether the password entered by the user is correct or not. The function should take the password as input and return the string “Valid Password” if the entered password follows the below-given password guidelines else it should return “Invalid Password”."
   ]
  },
  {
   "cell_type": "code",
   "execution_count": 1,
   "id": "0e1d9620-85ab-4816-89ca-4b533578c693",
   "metadata": {},
   "outputs": [
    {
     "name": "stdout",
     "output_type": "stream",
     "text": [
      "Valid Password\n"
     ]
    }
   ],
   "source": [
    "def validate_password(password):\n",
    "    \n",
    "    if len(password) != 10:\n",
    "        return \"Invalid Password\"\n",
    "    if sum(char.isdigit() for char in password) < 1:\n",
    "        return \"Invalid Password\"\n",
    "    if sum(char.isupper() for char in password) < 2:\n",
    "        return \"Invalid Password\"\n",
    "    if sum(char.islower() for char in password) < 2:\n",
    "        return \"Invalid Password\"\n",
    "    if sum(not char.isalnum() for char in password) < 3:\n",
    "        return \"Invalid Password\"\n",
    "    return \"Valid Password\"\n",
    "\n",
    "password = \"PaSs@123!!\"\n",
    "result = validate_password(password)\n",
    "print(result)"
   ]
  },
  {
   "cell_type": "code",
   "execution_count": null,
   "id": "ecaacbb4-429d-499c-81e9-b05150631b58",
   "metadata": {},
   "outputs": [],
   "source": []
  },
  {
   "cell_type": "markdown",
   "id": "1f46b63c-e3a9-4d66-aba7-38bae2603669",
   "metadata": {},
   "source": [
    "## 2. "
   ]
  },
  {
   "cell_type": "markdown",
   "id": "6a2ee8ea-8f93-4d55-b416-f324fdb248fb",
   "metadata": {},
   "source": [
    "### 1] Check if the string starts with a particular letter"
   ]
  },
  {
   "cell_type": "code",
   "execution_count": 6,
   "id": "4c280b4d-fb3c-414c-a500-a8b8106cce92",
   "metadata": {},
   "outputs": [
    {
     "data": {
      "text/plain": [
       "True"
      ]
     },
     "execution_count": 6,
     "metadata": {},
     "output_type": "execute_result"
    }
   ],
   "source": [
    "str1=\"Harsh\"\n",
    "letter=\"H\"\n",
    "ans= (lambda x : True if x[0] == \"H\" else False)\n",
    "ans(str1)"
   ]
  },
  {
   "cell_type": "markdown",
   "id": "7df048f3-a4a5-4342-a313-ace00a7d8294",
   "metadata": {},
   "source": [
    "### 2] Check if the string is numeric"
   ]
  },
  {
   "cell_type": "code",
   "execution_count": 12,
   "id": "71252346-613d-4674-8656-0cec76ffbc8f",
   "metadata": {},
   "outputs": [
    {
     "data": {
      "text/plain": [
       "True"
      ]
     },
     "execution_count": 12,
     "metadata": {},
     "output_type": "execute_result"
    }
   ],
   "source": [
    "str1=\"12345\"\n",
    "ans= (lambda x : True if x.isnumeric() else False)\n",
    "ans(str1)"
   ]
  },
  {
   "cell_type": "markdown",
   "id": "0a9f9661-e9a3-42ca-bf37-24b04ee7afb1",
   "metadata": {},
   "source": [
    "### 3] Sort a list of tuples having fruit names and their quantity. [(\"mango\",99),(\"orange\",80), (\"grapes\", 1000)]"
   ]
  },
  {
   "cell_type": "code",
   "execution_count": 25,
   "id": "8cf26342-f320-4751-8fa5-16880d2d7a2a",
   "metadata": {},
   "outputs": [
    {
     "name": "stdout",
     "output_type": "stream",
     "text": [
      "[('orange', 80), ('mango', 99), ('grapes', 1000)]\n",
      "[('grapes', 1000), ('mango', 99), ('orange', 80)]\n"
     ]
    }
   ],
   "source": [
    "given_list = [(\"mango\",99),(\"orange\",80), (\"grapes\", 1000)]\n",
    "\n",
    "ans=sorted(given_list,key=lambda x : x[1])\n",
    "print(ans)\n",
    "ans=sorted(given_list,key=lambda x : x[0])\n",
    "print(ans)"
   ]
  },
  {
   "cell_type": "markdown",
   "id": "2ac522de-1209-4292-8c9d-f2fe21eda06e",
   "metadata": {},
   "source": [
    "### 4] Find the squares of numbers from 1 to 10"
   ]
  },
  {
   "cell_type": "code",
   "execution_count": 27,
   "id": "57087ac9-ecc8-482e-ab44-3f4dfdda6e27",
   "metadata": {},
   "outputs": [
    {
     "data": {
      "text/plain": [
       "[1, 4, 9, 16, 25, 36, 49, 64, 81, 100]"
      ]
     },
     "execution_count": 27,
     "metadata": {},
     "output_type": "execute_result"
    }
   ],
   "source": [
    "given_list= (i for i in range(1,11))\n",
    "ans=list(map(lambda x : x**2 ,given_list))\n",
    "ans"
   ]
  },
  {
   "cell_type": "markdown",
   "id": "1d78d746-6edf-4268-94d2-76900a9cf148",
   "metadata": {},
   "source": [
    "### 5] Find the cube root of numbers from 1 to 10"
   ]
  },
  {
   "cell_type": "code",
   "execution_count": 28,
   "id": "67a6b255-d40a-4adf-8107-04b70d3d62d5",
   "metadata": {},
   "outputs": [
    {
     "data": {
      "text/plain": [
       "[1, 8, 27, 64, 125, 216, 343, 512, 729, 1000]"
      ]
     },
     "execution_count": 28,
     "metadata": {},
     "output_type": "execute_result"
    }
   ],
   "source": [
    "given_list= (i for i in range(1,11))\n",
    "ans=list(map(lambda x : x**3 ,given_list))\n",
    "ans"
   ]
  },
  {
   "cell_type": "markdown",
   "id": "e253723a-695d-414d-86e8-88362fbce0bb",
   "metadata": {},
   "source": [
    "### 6]  Check if a given number is even"
   ]
  },
  {
   "cell_type": "code",
   "execution_count": 48,
   "id": "f0b40691-293d-4d50-984e-094ae2dd2a5d",
   "metadata": {},
   "outputs": [
    {
     "name": "stdout",
     "output_type": "stream",
     "text": [
      "False\n"
     ]
    }
   ],
   "source": [
    "given_num=23467\n",
    "ans=(lambda x : True if x%2==0 else False )\n",
    "print(ans(given_num))"
   ]
  },
  {
   "cell_type": "markdown",
   "id": "07d7252b-d590-416c-8782-f1564d12da86",
   "metadata": {},
   "source": [
    "### 7] Filter odd numbers from the given list.\n",
    "\n",
    "        [1,2,3,4,5,6,7,8,9,10]"
   ]
  },
  {
   "cell_type": "code",
   "execution_count": 49,
   "id": "65030d50-5db6-4b3d-a396-7e87fd887c8a",
   "metadata": {},
   "outputs": [
    {
     "data": {
      "text/plain": [
       "[1, 3, 5, 7, 9]"
      ]
     },
     "execution_count": 49,
     "metadata": {},
     "output_type": "execute_result"
    }
   ],
   "source": [
    "given_list= [1,2,3,4,5,6,7,8,9,10]\n",
    "ans=list(filter(lambda x : x%2!=0 ,given_list))\n",
    "ans"
   ]
  },
  {
   "cell_type": "markdown",
   "id": "af48699e-30fe-4b4c-aca6-ceaa07ddad63",
   "metadata": {},
   "source": [
    "### 8] Sort a list of integers into positive and negative integers lists.\n",
    "\n",
    "      [1,2,3,4,5,6,-1,-2,-3,-4,-5,0]"
   ]
  },
  {
   "cell_type": "code",
   "execution_count": 53,
   "id": "7b3da11b-b96b-4081-a4fa-215d31255b0e",
   "metadata": {},
   "outputs": [
    {
     "data": {
      "text/plain": [
       "[-5, -4, -3, -2, -1, 0, 1, 2, 3, 4, 5, 6]"
      ]
     },
     "execution_count": 53,
     "metadata": {},
     "output_type": "execute_result"
    }
   ],
   "source": [
    "given_list= [1,2,3,4,5,6,-1,-2,-3,-4,-5,0]\n",
    "ans= sorted(filter(lambda x : x<0,given_list))+ sorted (filter(lambda x : x>=0 ,given_list)) \n",
    "ans"
   ]
  },
  {
   "cell_type": "code",
   "execution_count": null,
   "id": "161ce95f-c986-4906-bebe-4ac82e9b6747",
   "metadata": {},
   "outputs": [],
   "source": []
  }
 ],
 "metadata": {
  "kernelspec": {
   "display_name": "Python 3 (ipykernel)",
   "language": "python",
   "name": "python3"
  },
  "language_info": {
   "codemirror_mode": {
    "name": "ipython",
    "version": 3
   },
   "file_extension": ".py",
   "mimetype": "text/x-python",
   "name": "python",
   "nbconvert_exporter": "python",
   "pygments_lexer": "ipython3",
   "version": "3.10.8"
  }
 },
 "nbformat": 4,
 "nbformat_minor": 5
}
