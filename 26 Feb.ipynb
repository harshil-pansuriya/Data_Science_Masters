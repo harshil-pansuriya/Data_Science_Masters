{
 "cells": [
  {
   "cell_type": "code",
   "execution_count": 3,
   "id": "a720801f-2d9e-44c6-841e-724a7e50272d",
   "metadata": {},
   "outputs": [],
   "source": [
    "import numpy as np\n",
    "list_ = [ '1' , '2' , '3' , '4' , '5'] \n",
    "array_list = np.array(object = list_)"
   ]
  },
  {
   "cell_type": "markdown",
   "id": "81263423-0e47-4cba-b1c3-21ded39f6656",
   "metadata": {},
   "source": [
    "# 1.\n",
    "## Is there any difference in the data type of variables list_ and array_list? If there is then write a code to print the data types of both the variables. \n"
   ]
  },
  {
   "cell_type": "code",
   "execution_count": 4,
   "id": "ea578c55-4c8c-4403-a9f7-3562459f977c",
   "metadata": {},
   "outputs": [
    {
     "name": "stdout",
     "output_type": "stream",
     "text": [
      "<class 'list'>\n",
      "<class 'numpy.ndarray'>\n"
     ]
    }
   ],
   "source": [
    "print(type(list_))\n",
    "print(type(array_list))"
   ]
  },
  {
   "cell_type": "markdown",
   "id": "a7a1758f-b093-443c-8667-6cd29d3bde88",
   "metadata": {},
   "source": [
    "# 2.\n",
    "## Write a code to print the data type of each and every element of both the variables list_ and arra_list."
   ]
  },
  {
   "cell_type": "code",
   "execution_count": 5,
   "id": "2c11597f-2165-4033-96a8-a707951c1888",
   "metadata": {},
   "outputs": [
    {
     "name": "stdout",
     "output_type": "stream",
     "text": [
      "<class 'str'>\n",
      "<class 'str'>\n",
      "<class 'str'>\n",
      "<class 'str'>\n",
      "<class 'str'>\n"
     ]
    }
   ],
   "source": [
    "for i in range(len(list_)):\n",
    "    print(type(list_[i]))"
   ]
  },
  {
   "cell_type": "code",
   "execution_count": 6,
   "id": "cf010d3b-87cf-4aae-8e83-7190651a9677",
   "metadata": {},
   "outputs": [
    {
     "name": "stdout",
     "output_type": "stream",
     "text": [
      "<class 'numpy.str_'>\n",
      "<class 'numpy.str_'>\n",
      "<class 'numpy.str_'>\n",
      "<class 'numpy.str_'>\n",
      "<class 'numpy.str_'>\n"
     ]
    }
   ],
   "source": [
    "for i in range(len(array_list)):\n",
    "    print(type(array_list[i]))"
   ]
  },
  {
   "cell_type": "markdown",
   "id": "2e30d500-ec51-4305-9d5c-0bdb4f4bf4db",
   "metadata": {},
   "source": [
    "## --> Considering the following changes in the variable, array_list:"
   ]
  },
  {
   "cell_type": "code",
   "execution_count": 7,
   "id": "02807933-e63b-45e8-8b4b-670d12080646",
   "metadata": {},
   "outputs": [],
   "source": [
    "array_list = np.array(object = list_, dtype = int)"
   ]
  },
  {
   "cell_type": "markdown",
   "id": "53dc01a0-c0ca-4f3b-9634-79452d50c37f",
   "metadata": {},
   "source": [
    "# 3.\n",
    "## Will there be any difference in the data type of the elements present in both the variables, list_ and arra_list? If so then print the data types of each and every element present in both the variables, list_ and arra_list."
   ]
  },
  {
   "cell_type": "code",
   "execution_count": 8,
   "id": "33407eef-5083-4507-a516-73a8c3145277",
   "metadata": {},
   "outputs": [
    {
     "name": "stdout",
     "output_type": "stream",
     "text": [
      "<class 'str'>\n",
      "<class 'str'>\n",
      "<class 'str'>\n",
      "<class 'str'>\n",
      "<class 'str'>\n"
     ]
    }
   ],
   "source": [
    "for i in range(len(list_)):\n",
    "    print(type(list_[i]))"
   ]
  },
  {
   "cell_type": "code",
   "execution_count": 9,
   "id": "221a03db-f023-431c-9d45-a170cdf0bd05",
   "metadata": {},
   "outputs": [
    {
     "name": "stdout",
     "output_type": "stream",
     "text": [
      "<class 'numpy.int64'>\n",
      "<class 'numpy.int64'>\n",
      "<class 'numpy.int64'>\n",
      "<class 'numpy.int64'>\n",
      "<class 'numpy.int64'>\n"
     ]
    }
   ],
   "source": [
    "for i in range(len(array_list)):\n",
    "    print(type(array_list[i]))"
   ]
  },
  {
   "cell_type": "markdown",
   "id": "a3049233-4be3-49b8-bbc7-c171a169fd3f",
   "metadata": {},
   "source": [
    "## --> Considering the following changes in the variable, array_list:"
   ]
  },
  {
   "cell_type": "code",
   "execution_count": 10,
   "id": "18faf163-b54a-461f-b778-b65c14b8a450",
   "metadata": {},
   "outputs": [],
   "source": [
    "import numpy as np\n",
    "num_list = [ [ 1 , 2 , 3 ] , [ 4 , 5 , 6 ] ]\n",
    "num_array = np.array(object = num_list)"
   ]
  },
  {
   "cell_type": "markdown",
   "id": "c3d0690e-d124-46c9-b45a-c17ce8ce8f50",
   "metadata": {},
   "source": [
    "# 4.\n",
    "## Write a code to find the following characteristics of variable, num_array:\n",
    "## 1]shape 2] size"
   ]
  },
  {
   "cell_type": "code",
   "execution_count": 12,
   "id": "508474f9-dbff-4ab9-9060-edb939db1a01",
   "metadata": {},
   "outputs": [
    {
     "data": {
      "text/plain": [
       "(2, 3)"
      ]
     },
     "execution_count": 12,
     "metadata": {},
     "output_type": "execute_result"
    }
   ],
   "source": [
    "num_array.shape"
   ]
  },
  {
   "cell_type": "code",
   "execution_count": 13,
   "id": "120fae5c-b27d-4962-a968-72af7ae4ab65",
   "metadata": {},
   "outputs": [
    {
     "data": {
      "text/plain": [
       "6"
      ]
     },
     "execution_count": 13,
     "metadata": {},
     "output_type": "execute_result"
    }
   ],
   "source": [
    "num_array.size"
   ]
  },
  {
   "cell_type": "markdown",
   "id": "886aa481-8429-4160-91b1-62d9d7832b0b",
   "metadata": {},
   "source": [
    "# 5.\n",
    "## Write a code to create numpy array of 3*3 matrix containing zeros only, using a numpy array creation function."
   ]
  },
  {
   "cell_type": "code",
   "execution_count": 15,
   "id": "4cce952a-0866-4ee7-818d-976d2977aa6d",
   "metadata": {},
   "outputs": [
    {
     "data": {
      "text/plain": [
       "array([[0., 0., 0.],\n",
       "       [0., 0., 0.],\n",
       "       [0., 0., 0.]])"
      ]
     },
     "execution_count": 15,
     "metadata": {},
     "output_type": "execute_result"
    }
   ],
   "source": [
    "x=np.zeros((3,3))\n",
    "x"
   ]
  },
  {
   "cell_type": "markdown",
   "id": "bc048c36-85dd-4823-bd9c-0072d95e41a4",
   "metadata": {},
   "source": [
    "# 6.\n",
    "## Create an identity matrix of shape (5,5) using numpy functions?\n"
   ]
  },
  {
   "cell_type": "code",
   "execution_count": 18,
   "id": "3f13f561-f647-42a6-9296-3d4691239cac",
   "metadata": {},
   "outputs": [
    {
     "data": {
      "text/plain": [
       "array([[1., 0., 0., 0., 0.],\n",
       "       [0., 1., 0., 0., 0.],\n",
       "       [0., 0., 1., 0., 0.],\n",
       "       [0., 0., 0., 1., 0.],\n",
       "       [0., 0., 0., 0., 1.]])"
      ]
     },
     "execution_count": 18,
     "metadata": {},
     "output_type": "execute_result"
    }
   ],
   "source": [
    "x=np.eye(5,5)\n",
    "x"
   ]
  },
  {
   "cell_type": "code",
   "execution_count": null,
   "id": "463083e3-55c3-471d-bca9-0f0189358b3c",
   "metadata": {},
   "outputs": [],
   "source": []
  }
 ],
 "metadata": {
  "kernelspec": {
   "display_name": "Python 3 (ipykernel)",
   "language": "python",
   "name": "python3"
  },
  "language_info": {
   "codemirror_mode": {
    "name": "ipython",
    "version": 3
   },
   "file_extension": ".py",
   "mimetype": "text/x-python",
   "name": "python",
   "nbconvert_exporter": "python",
   "pygments_lexer": "ipython3",
   "version": "3.10.8"
  }
 },
 "nbformat": 4,
 "nbformat_minor": 5
}
