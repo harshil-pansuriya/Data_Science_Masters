{
 "cells": [
  {
   "cell_type": "markdown",
   "id": "4aa10705-32a6-456e-bd54-5c8e3d08e27a",
   "metadata": {},
   "source": [
    "# 1.\n",
    "## What are the three measures of central tendency?\n",
    "### 1] Mean: The mean is the arithmetic average of a set of numbers. To find the mean, you add up all the numbers in the set and divide by the total number of numbers.\n",
    "\n",
    "### 2] Median: The median is the middle value of a set of numbers. To find the median, you arrange the numbers in order from smallest to largest and then choose the middle number. If there is an even number of numbers, you take the average of the two middle numbers.\n",
    "\n",
    "### 3] Mode: The mode is the value that appears most frequently in a set of numbers. To find the mode, you look for the number that occurs most often. It is possible for a set of numbers to have no mode, or to have more than one mode."
   ]
  },
  {
   "cell_type": "markdown",
   "id": "c605d96c-36d1-4a3b-a0b1-f1b8aebdf17a",
   "metadata": {},
   "source": [
    "# 2.\n",
    "## What is the difference between the mean, median, and mode? How are they used to measure the central tendency of a dataset?\n",
    "### --> All three measures of central tendency are useful in different situations, depending on the distribution of the dataset and the nature of the data. In general, the mean is used when the data is normally distributed and has no extreme values, the median is used when the data is skewed or has extreme values, and the mode is used when the data is categorical or nominal. However, it is always important to consider the characteristics of the dataset and the goals of the analysis when choosing the appropriate measure of central tendency."
   ]
  },
  {
   "cell_type": "markdown",
   "id": "7bd2ad0b-f9db-4d5b-9668-28ceaa86079a",
   "metadata": {},
   "source": [
    "# 3.\n",
    "## Measure the three measures of central tendency for the given height data:[178,177,176,177,178.2,178,175,179,180,175,178.9,176.2,177,172.5,178,176.5]"
   ]
  },
  {
   "cell_type": "code",
   "execution_count": 1,
   "id": "84209645-9589-4e53-bd0b-0d8d8d81051a",
   "metadata": {},
   "outputs": [
    {
     "name": "stdout",
     "output_type": "stream",
     "text": [
      "177.01875\n",
      "177.0\n",
      "ModeResult(mode=array([177.]), count=array([3]))\n"
     ]
    },
    {
     "name": "stderr",
     "output_type": "stream",
     "text": [
      "/tmp/ipykernel_2708/1927407220.py:6: FutureWarning: Unlike other reduction functions (e.g. `skew`, `kurtosis`), the default behavior of `mode` typically preserves the axis it acts along. In SciPy 1.11.0, this behavior will change: the default value of `keepdims` will become False, the `axis` over which the statistic is taken will be eliminated, and the value None will no longer be accepted. Set `keepdims` to True or False to avoid this warning.\n",
      "  print(st.mode(data))\n"
     ]
    }
   ],
   "source": [
    "import numpy as np\n",
    "from scipy import stats as st\n",
    "data=[178,177,176,177,178.2,178,175,179,180,175,178.9,176.2,177,172.5,178,176.5]\n",
    "print(np.mean(data))\n",
    "print(np.median(data))\n",
    "print(st.mode(data))"
   ]
  },
  {
   "cell_type": "markdown",
   "id": "aaab7218-f4f7-42d0-b5ec-d965bffeb99c",
   "metadata": {},
   "source": [
    "# 4.\n",
    "##  Find the standard deviation for the given data:\n",
    "[178,177,176,177,178.2,178,175,179,180,175,178.9,176.2,177,172.5,178,176.5]"
   ]
  },
  {
   "cell_type": "code",
   "execution_count": 2,
   "id": "009911a2-adf7-49ab-9a16-19bf405591e8",
   "metadata": {},
   "outputs": [
    {
     "name": "stdout",
     "output_type": "stream",
     "text": [
      "1.7885814036548633\n"
     ]
    }
   ],
   "source": [
    "print(np.std(data))"
   ]
  },
  {
   "cell_type": "markdown",
   "id": "0a637382-0dfa-4b44-8c23-9f08d36e1d13",
   "metadata": {},
   "source": [
    "# 5.\n",
    "## How are measures of dispersion such as range, variance, and standard deviation used to describe the spread of a dataset? Provide an example.\n",
    "### --> The spread of a dataset refers to how much the data values differ from each other.\n",
    "#### 1] Range: The range is the simplest measure of dispersion and is defined as the difference between the maximum and minimum values in a dataset. For example, if the minimum value in a dataset is 10 and the maximum value is 50, the range is 50 - 10 = 40.\n",
    "\n",
    "#### 2] Variance: The variance is a measure of how much the data values deviate from the mean (average) value. It is calculated by finding the average of the squared differences between each data point and the mean. A higher variance indicates a wider spread of data points.\n",
    "\n",
    "#### 3] Standard Deviation: The standard deviation is the square root of the variance and is used to describe how spread out the data values are from the mean. It is commonly used to identify outliers and determine if the data is normally distributed."
   ]
  },
  {
   "cell_type": "markdown",
   "id": "56e2cc70-aabb-4a09-9bc3-5f45cc41558c",
   "metadata": {
    "jp-MarkdownHeadingCollapsed": true,
    "tags": []
   },
   "source": [
    "# 6.\n",
    "## What is a Venn diagram?\n",
    "### --> A Venn diagram is a visual representation of the relationships between sets of items. It consists of a series of overlapping circles or other shapes, with each circle representing a set and the overlap between circles representing the intersection of sets. Venn diagrams are often used to illustrate concepts in mathematics, logic, and statistics, as well as in other fields where sets and their relationships are important."
   ]
  },
  {
   "cell_type": "markdown",
   "id": "63e54014-151a-4a70-94ba-5fce9ab43f6e",
   "metadata": {
    "tags": []
   },
   "source": [
    "# 7.\n",
    "## For the two given sets A = (2,3,4,5,6,7) & B = (0,2,6,8,10). Find:\n",
    "### (i) A B \n",
    "#### --> (2,6)\n",
    "### (ii) A ⋃ B\n",
    "#### --> (0,2,3,4,5,6,7,8,10)"
   ]
  },
  {
   "cell_type": "markdown",
   "id": "5338bbd6-50df-4022-a6b9-9cdf76e81402",
   "metadata": {},
   "source": [
    "# 8.\n",
    "## What do you understand about skewness in data?\n",
    "### -->  Skewness is a measure of the asymmetry of a probability distribution. It describes the degree to which a dataset deviates from a symmetric distribution. A distribution is said to be symmetric if it is identical on both sides when divided at the center point. Skewed data, on the other hand, has a long tail on one side, while the other side is shorter."
   ]
  },
  {
   "cell_type": "markdown",
   "id": "0e4a2018-a3bb-4a5e-9b60-15f95a4ca31c",
   "metadata": {},
   "source": [
    "# 9.\n",
    "## If a data is right skewed then what will be the position of median with respect to mean?\n",
    "### --> If a data is right skewed, the position of the median with respect to the mean will typically be less than the mean."
   ]
  },
  {
   "cell_type": "markdown",
   "id": "33e41107-d6c4-4192-8484-7e93b9233627",
   "metadata": {},
   "source": [
    "# 10.\n",
    "## Explain the difference between covariance and correlation. How are these measures used in statistical analysis?\n",
    "#### --> Covariance and correlation are two measures of the relationship between two variables in statistics. Both measures are used to describe how two variables are related, but they differ in their scale and interpretation.\n",
    "\n",
    "#### --> Covariance is often used to calculate the variance of a portfolio of stocks, while correlation is used to measure the degree to which two stocks move in tandem. In regression analysis, both covariance and correlation are used to estimate the slope of the regression line and to assess the goodness of fit of the regression model."
   ]
  },
  {
   "cell_type": "markdown",
   "id": "5643f3d9-08af-4e98-ba21-c1c6d7c0f399",
   "metadata": {},
   "source": [
    "# 11.\n",
    "## What is the formula for calculating the sample mean? Provide an example calculation for a dataset.\n",
    "### --> Sample mean = Sum of all value presented in a Sample / Sample size"
   ]
  },
  {
   "cell_type": "code",
   "execution_count": 3,
   "id": "d74a18c8-ac11-41fc-ba1b-a927d4d4002b",
   "metadata": {},
   "outputs": [
    {
     "data": {
      "text/plain": [
       "30.0"
      ]
     },
     "execution_count": 3,
     "metadata": {},
     "output_type": "execute_result"
    }
   ],
   "source": [
    "data=[10,20,30,40,50]\n",
    "size=len(data)\n",
    "mean=(10+20+30+40+50)/size\n",
    "mean"
   ]
  },
  {
   "cell_type": "markdown",
   "id": "40fe4868-bbd4-4cf4-ae52-6908921e58a7",
   "metadata": {},
   "source": [
    "# 12.\n",
    "## For a normal distribution data what is the relationship between its measure of central tendency?\n",
    "#### --> For a normal distribution, the measures of central tendency, namely the mean, median, and mode, are equal. In a normal distribution, the data is symmetrically distributed around the mean, so the median and mode will also be at the same point as the mean."
   ]
  },
  {
   "cell_type": "markdown",
   "id": "e9c8a526-e220-4da4-87cc-643b054a75bf",
   "metadata": {},
   "source": [
    "# 13.\n",
    "## How is covariance different from correlation?\n",
    "## Covariance has any real value but correlation has value in interval [-1,1]"
   ]
  },
  {
   "cell_type": "markdown",
   "id": "92f9e98a-e3c0-471c-b01b-7bc6c1ad5e2c",
   "metadata": {},
   "source": [
    "# 14.\n",
    "## How do outliers affect measures of central tendency and dispersion? Provide an example."
   ]
  },
  {
   "cell_type": "code",
   "execution_count": 4,
   "id": "59e30aaf-c1b3-48f2-95a3-408244fb9345",
   "metadata": {},
   "outputs": [
    {
     "name": "stdout",
     "output_type": "stream",
     "text": [
      "35.0\n",
      "35.0\n",
      "ModeResult(mode=array([10]), count=array([1]))\n",
      "17.07825127659933\n",
      "291.6666666666667\n"
     ]
    },
    {
     "name": "stderr",
     "output_type": "stream",
     "text": [
      "/tmp/ipykernel_2708/2639437994.py:5: FutureWarning: Unlike other reduction functions (e.g. `skew`, `kurtosis`), the default behavior of `mode` typically preserves the axis it acts along. In SciPy 1.11.0, this behavior will change: the default value of `keepdims` will become False, the `axis` over which the statistic is taken will be eliminated, and the value None will no longer be accepted. Set `keepdims` to True or False to avoid this warning.\n",
      "  print(st.mode(data))\n"
     ]
    }
   ],
   "source": [
    "data=[10,20,30,40,50,60]\n",
    "\n",
    "print(np.mean(data))\n",
    "print(np.median(data))\n",
    "print(st.mode(data))\n",
    "print(np.std(data))\n",
    "print(np.var(data))"
   ]
  },
  {
   "cell_type": "code",
   "execution_count": 5,
   "id": "c8a7c22b-e76b-482b-8ecc-a9f1cc3aca4f",
   "metadata": {},
   "outputs": [
    {
     "name": "stdout",
     "output_type": "stream",
     "text": [
      "115.71428571428571\n",
      "40.0\n",
      "ModeResult(mode=array([10]), count=array([1]))\n",
      "198.34005019209832\n",
      "39338.775510204076\n"
     ]
    },
    {
     "name": "stderr",
     "output_type": "stream",
     "text": [
      "/tmp/ipykernel_2708/2410331743.py:5: FutureWarning: Unlike other reduction functions (e.g. `skew`, `kurtosis`), the default behavior of `mode` typically preserves the axis it acts along. In SciPy 1.11.0, this behavior will change: the default value of `keepdims` will become False, the `axis` over which the statistic is taken will be eliminated, and the value None will no longer be accepted. Set `keepdims` to True or False to avoid this warning.\n",
      "  print(st.mode(data))\n"
     ]
    }
   ],
   "source": [
    "data=[10,20,30,40,50,60,600]\n",
    "\n",
    "print(np.mean(data))\n",
    "print(np.median(data))\n",
    "print(st.mode(data))\n",
    "print(np.std(data))\n",
    "print(np.var(data))"
   ]
  },
  {
   "cell_type": "markdown",
   "id": "d73e18b6-11bc-4bdc-9a5f-a13383974a7d",
   "metadata": {},
   "source": [
    "#### So we can see just one outliers have big impact on central tendency and despiration"
   ]
  },
  {
   "cell_type": "code",
   "execution_count": null,
   "id": "32c16c82-d843-4ed8-b987-1bbe2b067095",
   "metadata": {},
   "outputs": [],
   "source": []
  }
 ],
 "metadata": {
  "kernelspec": {
   "display_name": "Python 3 (ipykernel)",
   "language": "python",
   "name": "python3"
  },
  "language_info": {
   "codemirror_mode": {
    "name": "ipython",
    "version": 3
   },
   "file_extension": ".py",
   "mimetype": "text/x-python",
   "name": "python",
   "nbconvert_exporter": "python",
   "pygments_lexer": "ipython3",
   "version": "3.10.8"
  }
 },
 "nbformat": 4,
 "nbformat_minor": 5
}
