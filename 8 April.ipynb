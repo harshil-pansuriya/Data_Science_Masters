{
 "cells": [
  {
   "cell_type": "markdown",
   "id": "639b0f7d-c281-470d-8f98-08eaac7c1785",
   "metadata": {},
   "source": [
    "# 1.\n",
    "## In order to predict house price based on several characteristics, such as location, square footage, number of bedrooms, etc., you are developing an SVM regression model. Which regression metric in this situation would be the best to employ?\n",
    "### In the given scenario of predicting house prices based on various characteristics, some regression metrics that would be suitable to employ are:\n",
    "#### 1] Mean Squared Error (MSE):MSE measures the average squared difference between the predicted house prices and the actual prices. It penalizes larger errors more than smaller ones. MSE is commonly used and provides a comprehensive view of the overall prediction accuracy.\n",
    "#### 2] Root Mean Squared Error (RMSE):RMSE is the square root of MSE and is often preferred because it is in the same unit as the target variable (house price). RMSE provides a measure of the average magnitude of the prediction errors.\n",
    "#### 3] Mean Absolute Error (MAE):MAE calculates the average absolute difference between the predicted and actual house prices. Unlike MSE, it does not emphasize larger errors. MAE provides a measure of the average prediction error magnitude.\n",
    "#### 4] R-squared (Coefficient of Determination):R-squared represents the proportion of the variance in the house prices that is explained by the model. It ranges from 0 to 1, with a higher value indicating a better fit. R-squared helps assess how well the regression model captures the variability in the target variable."
   ]
  },
  {
   "cell_type": "markdown",
   "id": "f7bcf66c-56d9-41e3-9958-8cb6ee8c9f16",
   "metadata": {},
   "source": [
    "# 2.\n",
    "## You have built an SVM regression model and are trying to decide between using MSE or R-squared as your evaluation metric. Which metric would be more appropriate if your goal is to predict the actual price of a house as accurately as possible?\n",
    "### ->If the goal is to predict the actual price of a house as accurately as possible, the most appropriate evaluation metric to consider would be Mean Squared Error (MSE).\n",
    "### ->MSE measures the average squared difference between the predicted house prices and the actual prices. It penalizes larger errors more than smaller ones. By minimizing the MSE, the model aims to reduce the overall prediction error and make predictions that are as close as possible to the true house prices.\n",
    "### ->On the other hand, R-squared (Coefficient of Determination) provides an assessment of the proportion of the variance in the house prices that is explained by the model. While R-squared is a useful metric for evaluating the model's overall goodness of fit and its ability to capture the variability in the target variable, it does not directly quantify the accuracy of individual predictions."
   ]
  },
  {
   "cell_type": "markdown",
   "id": "af63d487-0488-4ce8-86ff-c32f4e27ad15",
   "metadata": {},
   "source": [
    "# 3.\n",
    "## You have a dataset with a significant number of outliers and are trying to select an appropriate regression metric to use with your SVM model. Which metric would be the most appropriate in this scenario?\n",
    "### -.In a scenario where the dataset contains a significant number of outliers, Mean Absolute Error (MAE) would be the most appropriate regression metric to use with an SVM model.\n",
    "### -.Outliers are data points that significantly deviate from the overall pattern in the dataset. They can have a substantial impact on metrics like Mean Squared Error (MSE) and Root Mean Squared Error (RMSE) because these metrics square the differences between predicted and actual values. As a result, outliers with large deviations can disproportionately influence the error calculation.\n",
    "### -.MAE, on the other hand, calculates the average absolute difference between predicted and actual values. It is less sensitive to outliers since it does not square the differences. MAE treats all errors with equal weight, providing a robust measure of the average prediction error magnitude. It gives a more balanced representation of the errors, making it suitable for datasets with significant outliers.\n",
    "### -.By using MAE as the regression metric, the SVM model will be evaluated based on the average absolute difference between predicted and actual values, giving a more reliable measure of prediction accuracy, even in the presence of outliers."
   ]
  },
  {
   "cell_type": "markdown",
   "id": "956a7269-345b-4da5-8143-09f435af1a13",
   "metadata": {},
   "source": [
    "# 4\n",
    "## You have built an SVM regression model using a polynomial kernel and are trying to select the best metric to evaluate its performance. You have calculated both MSE and RMSE and found that both values are very close. Which metric should you choose to use in this case?\n",
    "### -> In the given scenario where you have built an SVM regression model using a polynomial kernel, and both Mean Squared Error (MSE) and Root Mean Squared Error (RMSE) values are very close, either metric can be chosen to evaluate the model's performance. The decision depends on the specific context and preference.\n",
    "### -> MSE measures the average squared difference between predicted and actual values, providing a comprehensive view of the overall prediction accuracy. However, since MSE is in squared units, it may be harder to interpret directly in the original scale of the target variable.\n",
    "### -> RMSE is the square root of MSE and is often preferred because it is in the same unit as the target variable, making it easier to interpret. RMSE provides a measure of the average magnitude of the prediction errors, similar to standard deviation.\n",
    "### -> In this case, since both MSE and RMSE values are very close, there is little difference between the two metrics. You can choose either metric based on personal preference or the preference of the stakeholders. If interpretability and presenting results in the original scale of the target variable are important, you may choose RMSE. However, if you are more concerned with penalizing larger errors more than smaller ones, you may opt for MSE."
   ]
  },
  {
   "cell_type": "markdown",
   "id": "e755de95-6b59-417c-b623-446230da0a8d",
   "metadata": {},
   "source": [
    "# 5.\n",
    "## You are comparing the performance of different SVM regression models using different kernels (linear, polynomial, and RBF) and are trying to select the best evaluation metric. Which metric would be most appropriate if your goal is to measure how well the model explains the variance in the target variable?\n",
    "### -> if the goal is to measure how well the SVM regression models explain the variance in the target variable, the most appropriate evaluation metric to consider would be R-squared (Coefficient of Determination).\n",
    "### -> R-squared quantifies the proportion of the variance in the target variable that is explained by the model. It ranges from 0 to 1, where 0 indicates that the model does not explain any variance, and 1 indicates that the model perfectly explains the variance. R-squared provides an assessment of the goodness of fit of the model and its ability to capture the variability in the target variable.\n",
    "### -> When comparing different SVM regression models with different kernels (linear, polynomial, and RBF), R-squared allows you to evaluate their respective abilities to explain the variance. A higher R-squared value indicates a better fit of the model to the data and a higher proportion of variance explained.\n",
    "### -> By considering R-squared as the evaluation metric, you can directly compare the performance of the different SVM regression models in capturing the variability in the target variable. It helps to identify the model that provides the best explanation of the variance and indicates the model's effectiveness in capturing the underlying patterns and relationships in the data."
   ]
  },
  {
   "cell_type": "code",
   "execution_count": null,
   "id": "b610b383-b537-4f7c-9bbb-d4db36cc2e02",
   "metadata": {},
   "outputs": [],
   "source": []
  }
 ],
 "metadata": {
  "kernelspec": {
   "display_name": "Python 3 (ipykernel)",
   "language": "python",
   "name": "python3"
  },
  "language_info": {
   "codemirror_mode": {
    "name": "ipython",
    "version": 3
   },
   "file_extension": ".py",
   "mimetype": "text/x-python",
   "name": "python",
   "nbconvert_exporter": "python",
   "pygments_lexer": "ipython3",
   "version": "3.10.8"
  }
 },
 "nbformat": 4,
 "nbformat_minor": 5
}
