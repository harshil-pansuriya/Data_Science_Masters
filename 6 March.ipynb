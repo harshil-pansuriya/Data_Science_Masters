{
 "cells": [
  {
   "cell_type": "markdown",
   "id": "5cb0cf56-6d95-44a3-97a5-d1410214289a",
   "metadata": {},
   "source": [
    "# 1.\n",
    "## What is Statistics?\n",
    "### --> Statistics is the science of collecting,organizing and analysing the data."
   ]
  },
  {
   "cell_type": "markdown",
   "id": "d12ab311-42a7-4f40-aa69-bb38f7704dba",
   "metadata": {
    "tags": []
   },
   "source": [
    "# 2.\n",
    "## Define the different types of statistics and give an example of when each type might be used.\n",
    "### 1] Descriptive Statistics: Descriptive statistics is the branch of statistics that deals with the analysis of data and summarizes the main characteristics of the data.\n",
    "### 2] Inferential Statistics: Inferential statistics is the branch of statistics that deals with making inferences about a population based on a sample of data"
   ]
  },
  {
   "cell_type": "markdown",
   "id": "ab09c735-73bb-46bc-a50a-8896d71689b8",
   "metadata": {},
   "source": [
    "# 3.\n",
    "## What are the different types of data and how do they differ from each other? Provide an example of each type of data.\n",
    "\n",
    "### 1] Nominal Data: Nominal data is categorical data that cannot be ranked or ordered. It consists of discrete categories, and there is no inherent order or value associated with each category.\n",
    "#### --> Example: Hair color, eye color, or types of fruit.\n",
    "\n",
    "### 2] Ordinal Data: Ordinal data is categorical data that can be ranked or ordered. It consists of categories that can be placed in a logical order, but the difference between the categories is not equal.\n",
    "#### --> Example: Grades (A, B, C, D, F), or ranking of a race (1st place, 2nd place, 3rd place, etc.).\n",
    "\n",
    "### 3] Interval Data: Interval data is numerical data that has equal intervals between values. It does not have a true zero point and can have negative values.\n",
    "#### --> Example: Temperature measured in Celsius or Fahrenheit.\n",
    "\n",
    "### 4] Ratio Data: Ratio data is numerical data that has equal intervals between values and has a true zero point. It can't have negative values.\n",
    "#### --> Example: Height, weight, or income.\n",
    "\n",
    "### 5] Discrete Data: Discrete data is data that can only take on specific values, usually integers. It is countable and cannot be broken down into smaller parts.\n",
    "#### --> Example: Number of children in a family, or the number of cars in a parking lot.\n",
    "\n",
    "### 6] Continuous Data: Continuous data is data that can take on any value within a range. It is measured and can be divided into smaller and smaller parts."
   ]
  },
  {
   "cell_type": "markdown",
   "id": "5f0e8849-d0a4-4747-9fa5-1e47d6862f78",
   "metadata": {},
   "source": [
    "# 4.\n",
    "## Categorise the following datasets with respect to quantitative and qualitative data types:\n",
    "\n",
    "## 1] Grading in exam: A+, A, B+, B, C+, C, D, E\n",
    "### --> qualitative\n",
    "## 2] Colour of mangoes: yellow, green, orange, red\n",
    "### --> qualitative\n",
    "## 3] Height data of a class: [178.9, 179, 179.5, 176, 177.2, 178.3, 175.8,...]\n",
    "### --> quantitative\n",
    "## 4] Number of mangoes exported by a farm: [500, 600, 478, 672, ...]\n",
    "### --> quantitative"
   ]
  },
  {
   "cell_type": "markdown",
   "id": "dc42382e-d0d5-42b3-a67a-90e229b7c124",
   "metadata": {},
   "source": [
    "# 5.\n",
    "# Explain the concept of levels of measurement and give an example of a variable for each level.\n",
    "\n",
    "## 1]Nominal Level: At this level of measurement, data is classified into categories with no inherent order or rank. Nominal data is qualitative, and each category is mutually exclusive.\n",
    "### --> Example: Gender (Male, Female).\n",
    "\n",
    "## ]Ordinal Level: At this level of measurement, data is ranked or ordered. The categories have a specific order, but the difference between each category is not equal.\n",
    "### --> Example: letter grades (A, B, C, D, F).\n",
    "\n",
    "## 3]Interval Level: At this level of measurement, data is measured on a scale with equal intervals between the values. The scale has no true zero point.\n",
    "### --> Example: Temperature measured in Celsius or Fahrenheit.\n",
    "\n",
    "## 4]Ratio Level: At this level of measurement, data is measured on a scale with equal intervals between the values and a true zero point.\n",
    "### --> Example: Height, weight"
   ]
  },
  {
   "cell_type": "markdown",
   "id": "d8494881-1597-4b9e-b622-c45186d7134b",
   "metadata": {},
   "source": [
    "# 6.\n",
    "## Why is it important to understand the level of measurement when analyzing data? Provide an example to illustrate your answer.\n",
    "### --> It is important to understand the level of measurement when analyzing data because it helps in selecting the appropriate statistical tests and interpreting the results accurately. Different statistical methods are designed to analyze data of different levels of measurement. Using a statistical method that is not appropriate for the level of measurement can lead to incorrect conclusions.\n",
    "\n",
    "### --> For example, let's say we want to compare the average income of two groups of people: Group A and Group B. Group A is comprised of people who have a college degree, and Group B is comprised of people who do not have a college degree. To analyze this data, we need to understand the level of measurement of income.\n",
    "### --> If income is measured at the nominal level, we can only compare the frequencies or proportions of people in each group who earn different income categories. We cannot compute a meaningful average income for each group or compare the average income between the two groups.\n",
    "### --> If income is measured at the ordinal level, we can compare the median income of each group, which represents the middle income value. We can also use non-parametric tests to compare the income distributions between the two groups."
   ]
  },
  {
   "cell_type": "markdown",
   "id": "c8bd00ca-d340-4e33-8a83-b91cdaadb9fb",
   "metadata": {},
   "source": [
    "# 7.\n",
    "## How nominal data type is different from ordinal data type.\n",
    "### --> Nominal and ordinal data types are both types of categorical data, but they differ in terms of the level of measurement and the types of analyses that can be performed on them. Nominal data is a categorical variable where the data values are mutually exclusive, and there is no inherent order or ranking to the categories. In other words, nominal data cannot be arranged in a meaningful order, and each category is equally important."
   ]
  },
  {
   "cell_type": "markdown",
   "id": "9c08aa7a-a27b-4a8d-bb04-35752d2a8fd7",
   "metadata": {},
   "source": [
    "# 8.\n",
    "## Which type of plot can be used to display data in terms of range?\n",
    "### --> Histogram is used to display data interms of range."
   ]
  },
  {
   "cell_type": "markdown",
   "id": "0e3ce126-e9d6-4f0d-bcbf-fac439e96426",
   "metadata": {},
   "source": [
    "# 9.\n",
    "## Describe the difference between descriptive and inferential statistics. Give an example of each type of statistics and explain how they are used.\n",
    "### --> descriptive statistics are used to describe and summarize the characteristics of a data set, while inferential statistics are used to draw conclusions about a larger population based on a sample of data. Both types of statistics are essential in analyzing and interpreting data."
   ]
  },
  {
   "cell_type": "markdown",
   "id": "3ca9e29f-876d-4395-9964-3874771887de",
   "metadata": {},
   "source": [
    "# 10.\n",
    "## What are some common measures of central tendency and variability used in statistics? Explain how each measure can be used to describe a dataset.\n",
    "### Common measures of central tendency include:\n",
    "\n",
    "#### 1] Mean: The arithmetic mean is the sum of all the data values divided by the total number of data points. The mean provides a measure of the typical value of the data set.\n",
    "\n",
    "#### 2] Median: The median is the middle value of a sorted data set. It divides the data set into two equal halves, with half the values above the median and half the values below the median. The median is less affected by extreme values than the mean.\n",
    "\n",
    "#### 3] Mode: The mode is the most frequent value in a data set. It is useful when the data set contains categorical variables or when there is more than one peak in the distribution.\n",
    "\n",
    "### Common measures of variability include:\n",
    "\n",
    "#### 1] Range: The range is the difference between the largest and smallest values in a data set. It gives an indication of how spread out the data are.\n",
    "\n",
    "#### 2] Variance: The variance is a measure of how spread out the data are from the mean. It is calculated by taking the sum of the squared differences between each data point and the mean, divided by the total number of data points.\n",
    "\n",
    "#### 3] Standard deviation: The standard deviation is the square root of the variance. It measures the average distance between each data point and the mean. A larger standard deviation indicates a greater degree of variability in the data set."
   ]
  },
  {
   "cell_type": "code",
   "execution_count": null,
   "id": "d9918f6a-b821-4a7b-853e-6ed9224d12bd",
   "metadata": {},
   "outputs": [],
   "source": []
  }
 ],
 "metadata": {
  "kernelspec": {
   "display_name": "Python 3 (ipykernel)",
   "language": "python",
   "name": "python3"
  },
  "language_info": {
   "codemirror_mode": {
    "name": "ipython",
    "version": 3
   },
   "file_extension": ".py",
   "mimetype": "text/x-python",
   "name": "python",
   "nbconvert_exporter": "python",
   "pygments_lexer": "ipython3",
   "version": "3.10.8"
  }
 },
 "nbformat": 4,
 "nbformat_minor": 5
}
