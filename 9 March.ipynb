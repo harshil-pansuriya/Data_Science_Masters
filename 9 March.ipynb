{
 "cells": [
  {
   "cell_type": "markdown",
   "id": "70f66ad2-a4d8-43f1-a24f-f2fa96c0eb35",
   "metadata": {},
   "source": [
    "# 1.\n",
    "## What are the Probability Mass Function (PMF) and Probability Density Function (PDF)? Explain with an example.\n",
    "### --> Both the Probability Mass Function (PMF) and the Probability Density Function (PDF) are mathematical functions used in probability theory to describe the probability distribution of a random variable\n",
    "### -->The PMF is used to describe the probability distribution of a discrete random variable, which can only take on a finite or countably infinite set of values.\n",
    "### --> In PMF if p(X=x) is probability mass function then it must be satisfy the following condition:\n",
    "#### 1] p(x)>=0\n",
    "#### 2] Σp(x) = 1\n",
    "\n",
    "### --> the PDF is used to describe the probability distribution of a continuous random variable, which can take on any value in a continuous range. \n",
    "### --> In PMF if f(x) is probability distribution function then it must be satisfy the following condition:\n",
    "#### 1] f(x)>=0 , -inf < x < inf\n",
    "#### 2] integration -inf to inf f(x)dx = 1\n",
    "####     f(x)=x^2, 0<x<1 and f(x)=0, otherwise"
   ]
  },
  {
   "cell_type": "markdown",
   "id": "ed069d19-0cd9-443d-8171-be79428f8c80",
   "metadata": {},
   "source": [
    "# 2.\n",
    "## What is Cumulative Density Function (CDF)? Explain with an example. Why CDF is used?\n",
    "\n",
    "### -->The Cumulative Density Function (CDF) is a mathematical function used in probability theory to describe the probability that a random variable X takes on a value less than or equal to a certain value x. In other words, the CDF of a random variable X is defined as:\n",
    "#### F(x) = P(X ≤ x)\n",
    "### -->The CDF gives the cumulative probability distribution of the random variable, and it can be used to calculate probabilities of intervals and ranges of values of X.\n",
    "#### --> For example, consider a standard normal distribution with a mean of 0 and a standard deviation of 1. The CDF of this distribution gives the probability that a random variable X, which follows a standard normal distribution, takes on a value less than or equal to a certain value x. This CDF is denoted by Φ(x) and is given by:\n",
    "#### Φ(x) = P(X ≤ x) = ∫_{-∞}^{x} f(u) du\n",
    "\n",
    "#### --> the CDF can be used to calculate other useful quantities such as percentiles and quartiles of the distribution."
   ]
  },
  {
   "cell_type": "markdown",
   "id": "30dcb704-8065-47c2-8304-52beebafa166",
   "metadata": {},
   "source": [
    "# 3.\n",
    "## What are some examples of situations where the normal distribution might be used as a model? Explain how the parameters of the normal distribution relate to the shape of the distribution.\n",
    "\n",
    "#### --> The normal distribution is widely used as a model in many fields, particularly in statistics and data analysis, due to its mathematical properties and because it is often found to be a good approximation for real-world phenomena\n",
    "### Ex:\n",
    "#### 1] Height of individuals in a population\n",
    "#### 2] Test scores in a standardized exam\n",
    "#### 3] Errors in measurements or observations\n",
    "#### 4] Stock market returns\n",
    "#### 5] Blood pressure measurements\n",
    "\n",
    "#### --> The normal distribution is characterized by two parameters: the mean (μ) and the standard deviation (σ). The mean determines the center of the distribution, while the standard deviation controls the spread of the distribution.\n",
    "#### --> If the mean is increased or decreased, the entire distribution will shift to the right or left, respectively. This means that the probabilities of getting values higher or lower than a certain point will also change.\n",
    "#### --> If the standard deviation is increased, the distribution will become more spread out, and there will be a greater probability of getting values far from the mean."
   ]
  },
  {
   "cell_type": "markdown",
   "id": "c00eea6c-fbf6-45ae-b558-83f6b1faf280",
   "metadata": {},
   "source": [
    "# 4.\n",
    "## Explain the importance of Normal Distribution. Give a few real-life examples of Normal Distribution.\n",
    "### Importance :\n",
    "#### 1]It is a useful model: Normal distribution is a widely used model in statistics as it provides a good approximation for many real-world phenomena. This is because it follows a bell-shaped curve, and many variables in nature tend to follow this type of distribution.\n",
    "#### 2]It simplifies complex data: Normal distribution can be used to simplify complex data by converting it into a standardized form that can be easily analyzed and understood.\n",
    "#### 3]It allows for hypothesis testing: Normal distribution is often used for hypothesis testing, where a researcher compares a sample mean to a population mean to determine whether the difference is statistically significant.\n",
    "\n",
    "### Ex:\n",
    "#### 1]Height of individuals in a population\n",
    "#### 2]IQ scores in a population\n",
    "#### 3]Body weight of a population\n",
    "#### 4]Blood pressure measurements\n"
   ]
  },
  {
   "cell_type": "markdown",
   "id": "88b50b41-bb21-4f53-b71a-848e404b2f18",
   "metadata": {},
   "source": [
    "# 5.\n",
    "## What is Bernaulli Distribution? Give an Example. What is the difference between Bernoulli Distribution and Binomial Distribution?\n",
    "### Bernoulli distribution is a discrete probability distribution that models the outcome of a single binary experiment, where there are only two possible outcomes - success or failure. It is named after Swiss mathematician Jacob Bernoulli. The probability of success is denoted by p, and the probability of failure is denoted by q = 1-p.\n",
    "\n",
    "#### An example of Bernoulli distribution is the outcome of a coin toss, where success can be defined as getting a head, and failure can be defined as getting a tail. The probability of success is 0.5, and the probability of failure is also 0.5."
   ]
  },
  {
   "cell_type": "markdown",
   "id": "3767b4f1-0399-4104-9424-69a6c86028fe",
   "metadata": {},
   "source": [
    "# 6.\n",
    "##  Consider a dataset with a mean of 50 and a standard deviation of 10. If we assume that the dataset is normally distributed, what is the probability that a randomly selected observation will be greater than 60? Use the appropriate formula and show your calculations.\n",
    "\n",
    "z = (x - μ) / σ\n",
    "where:\n",
    "x = the value we want to find the probability for (in this case, x = 60)\n",
    "μ = the mean of the dataset (μ = 50)\n",
    "σ = the standard deviation of the dataset (σ = 10)\n",
    "z = the z-score, which represents the number of standard deviations away from the mean that x is\n",
    "\n",
    "Substituting the values given, we get:\n",
    "\n",
    "z = (60 - 50) / 10\n",
    "z = 1\n",
    "z value = 0.8413\n",
    "ans=1-0.8413 = .1587 \n"
   ]
  },
  {
   "cell_type": "markdown",
   "id": "a533ad67-98ac-4c33-b28d-ed6538cc86d9",
   "metadata": {},
   "source": [
    "# 7.\n",
    "## Explain uniform Distribution with an example.\n",
    "\n",
    "### Uniform distribution is a continuous probability distribution that describes a situation where all outcomes in a given range are equally likely to occur. In other words, it means that every value within a specific range has an equal probability of being chosen.\n",
    "\n",
    "#### --> For example, consider a fair coin toss. The outcome of the coin toss can either be heads or tails, and the probability of getting either heads or tails is equal (0.5 or 50%). This is an example of a discrete uniform distribution."
   ]
  },
  {
   "cell_type": "markdown",
   "id": "337d26a7-9562-4390-b5db-c0e909ecadc5",
   "metadata": {},
   "source": [
    "# 8.\n",
    "## What is the z score? State the importance of the z score.\n",
    "\n",
    "### -->The z-score, also known as the standard score, is a statistical measurement that indicates how many standard deviations a data point is from the mean of a distribution. It is a normalized value that allows us to compare data points from different distributions on the same scale.\n",
    "\n",
    "### The formula for calculating the z-score is:\n",
    "### z = (x - μ) / σ\n",
    "#### Where:\n",
    "#### x = the data point \n",
    "#### μ = the mean of the distribution\n",
    "#### σ = the standard deviation of the distribution\n",
    "### Importance:\n",
    "#### 1]Identify and analyze outliers#### \n",
    "#### 2]Compare data from different distributions: \n",
    "#### 3]Calculate probability\n",
    "#### 4]Set thresholds: "
   ]
  },
  {
   "cell_type": "markdown",
   "id": "18b76c1b-b70b-4ddd-9cfc-dd05ecef15ff",
   "metadata": {},
   "source": [
    "# 9.\n",
    "## What is Central Limit Theorem? State the significance of the Central Limit Theorem.\n",
    "### --> The Central Limit Theorem (CLT) is a fundamental concept in statistics that describes the behavior of the means of a large number of independent and identically distributed random variables, regardless of the underlying distribution of those variables.\n",
    "### --> The significance of the Central Limit Theorem lies in its practical applications. It is the basis for many statistical tests and procedures, including hypothesis testing, confidence intervals, and the construction of sampling distributions."
   ]
  },
  {
   "cell_type": "markdown",
   "id": "e02801a6-a639-4f6b-9088-2d87d205ef4d",
   "metadata": {},
   "source": [
    "# 10.\n",
    "## State the assumptions of the Central Limit Theorem.\n",
    "\n",
    "### 1]Independence: The sample data should be independent, which means that the occurrence of one event should not affect the occurrence of any other event in the sample.\n",
    "\n",
    "### 2]Identically distributed: The sample data should be identically distributed, which means that the data should be drawn from the same population and have the same underlying distribution.\n",
    "\n",
    "### 3]Sample size: The sample size should be large enough to ensure that the sample mean has a normal distribution. The general rule of thumb is that the sample size should be at least 30. However, in some cases, a smaller sample size can be sufficient if the underlying population distribution is normal or nearly normal.\n",
    "\n",
    "### 4]Finite variance: The population should have a finite variance. This means that the values of the sample data should not be too spread out."
   ]
  },
  {
   "cell_type": "code",
   "execution_count": null,
   "id": "f796b89d-dcb3-4abf-a873-03c000874f0d",
   "metadata": {},
   "outputs": [],
   "source": []
  }
 ],
 "metadata": {
  "kernelspec": {
   "display_name": "Python 3 (ipykernel)",
   "language": "python",
   "name": "python3"
  },
  "language_info": {
   "codemirror_mode": {
    "name": "ipython",
    "version": 3
   },
   "file_extension": ".py",
   "mimetype": "text/x-python",
   "name": "python",
   "nbconvert_exporter": "python",
   "pygments_lexer": "ipython3",
   "version": "3.10.8"
  }
 },
 "nbformat": 4,
 "nbformat_minor": 5
}
