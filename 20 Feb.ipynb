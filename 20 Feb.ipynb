{
 "cells": [
  {
   "cell_type": "markdown",
   "id": "b15dc4ce-1815-4277-8bf2-bcbed310e895",
   "metadata": {},
   "source": [
    "# 1.\n",
    "## Explain GET and POST methods.\n",
    "\n",
    "#### --> In HTTP (Hypertext Transfer Protocol), the two most common methods used for requesting resources from a server are GET and POST.\n",
    "### GET Method:\n",
    "#### The GET method is used to retrieve data from a server.When a GET request is sent, the requested data is included in the URL as a query string.GET requests are considered to be idempotent, which means that making the same request multiple times will always result in the same response.\n",
    "#### --> Example: A GET request can be used to retrieve the content of a webpage or an image from a server.\n",
    "\n",
    "### POST Method:\n",
    "#### The POST method is used to send data to a server.When a POST request is sent, the data is included in the body of the request rather than in the URL.POST requests are not idempotent, which means that making the same request multiple times may result in different responses.\n",
    "#### --> Example:A POST request can be used to submit a form or to upload a file to a server."
   ]
  },
  {
   "cell_type": "markdown",
   "id": "e2381e8a-88ed-407d-9604-4b4bb184149e",
   "metadata": {},
   "source": [
    "# 2.\n",
    "## Why is request used in Flask?\n",
    "#### -->In Flask, the request object is used to handle incoming HTTP requests. It allows the Flask application to extract data from the incoming request and use it in the application's code. The request object provides access to the HTTP headers, URL parameters, query strings, form data, and files that were sent in the request.\n",
    "\n",
    "### Here are some common use cases for the request object in Flask:\n",
    "\n",
    "#### 1] Accessing form data: The request object can be used to access the data that was submitted through a form on a web page.\n",
    "\n",
    "#### 2] Handling file uploads: The request object can be used to handle file uploads that were submitted through a form on a web page.\n",
    "\n",
    "#### 3] Processing URL parameters: The request object can be used to extract data from the URL parameters that were included in the request.\n",
    "\n",
    "#### 4] Accessing cookies: The request object can be used to access cookies that were sent with the request.\n",
    "\n",
    "#### 5] Handling HTTP headers: The request object can be used to access the HTTP headers that were included in the request."
   ]
  },
  {
   "cell_type": "markdown",
   "id": "5293eece-bf63-44fc-bd31-0a3bf9fbc11e",
   "metadata": {},
   "source": [
    "# 3.\n",
    "## Why is redirect() used in Flask?\n",
    "\n",
    "#### --> In Flask, the 'redirect()' function is used to redirect a client to a different URL. This can be useful in a number of situations, such as when a user submits a form and you want to redirect them to a confirmation page, or when you want to enforce a certain URL structure and redirect clients to the correct URL.\n",
    "\n",
    "#### --> The 'redirect()' function takes a URL as an argument and returns a response object with a 302 status code and a 'Location' header set to the URL."
   ]
  },
  {
   "cell_type": "markdown",
   "id": "1b3c7c8e-f5c6-4c7f-9c42-c9078352cd89",
   "metadata": {},
   "source": [
    "# 4.\n",
    "## What are templates in Flask? Why is the render_template() function used?\n",
    "#### --> Templates in Flask are used to generate HTML pages dynamically based on data provided by the application. Templates allow the developer to separate the presentation logic (HTML, CSS, etc.) from the application logic (Python code) in a clean and maintainable way.\n",
    "#### --> The \"render_template()\" function in Flask is used to render a Jinja2 template and generate an HTML page that can be sent back to the client. The render_template() function takes the name of the template file as its first argument and any additional data that should be passed to the template as keyword arguments."
   ]
  },
  {
   "cell_type": "markdown",
   "id": "de5d0e35-1df0-4f5e-80ae-f0589dbf453d",
   "metadata": {},
   "source": [
    "# 5.\n",
    "## Create a simple API. Use Postman to test it. Attach the screenshot of the output in the Jupyter Notebook."
   ]
  },
  {
   "cell_type": "code",
   "execution_count": null,
   "id": "83daba50-d083-499b-a21e-153bba6592a9",
   "metadata": {},
   "outputs": [],
   "source": []
  }
 ],
 "metadata": {
  "kernelspec": {
   "display_name": "Python 3 (ipykernel)",
   "language": "python",
   "name": "python3"
  },
  "language_info": {
   "codemirror_mode": {
    "name": "ipython",
    "version": 3
   },
   "file_extension": ".py",
   "mimetype": "text/x-python",
   "name": "python",
   "nbconvert_exporter": "python",
   "pygments_lexer": "ipython3",
   "version": "3.10.8"
  }
 },
 "nbformat": 4,
 "nbformat_minor": 5
}
