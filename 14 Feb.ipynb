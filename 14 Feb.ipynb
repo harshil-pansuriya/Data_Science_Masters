{
 "cells": [
  {
   "cell_type": "markdown",
   "id": "cc031587-95f8-42a8-8ad1-568b1f8473e4",
   "metadata": {},
   "source": [
    "# 1.\n",
    "### What is multithreading in python? hy is it used? Name the module used to handle threads in python"
   ]
  },
  {
   "cell_type": "markdown",
   "id": "50303abe-8732-4ca5-a385-0653017829e6",
   "metadata": {},
   "source": [
    "#### --> Multithreading is a technique in Python that allows multiple threads of execution to run concurrently              within a single process.\n",
    "#### --> Multithreading is used to improve the performance of applications that involve heavy computation or I/O-           bound operations by utilizing the available processing power of the machine more efficiently. By dividing a         large task into smaller sub-tasks that can be executed simultaneously by different threads, the overall             processing time can be reduced.\n",
    "#### --> In Python, the threading module is used to handle threads. This module provides a simple way to create and manage threads in Python."
   ]
  },
  {
   "cell_type": "markdown",
   "id": "e31a1bf0-fbfe-4c37-b394-fb9347dc8ed0",
   "metadata": {},
   "source": [
    "# 2.\n",
    "### Why threading module used? rite the use of the following functions\n",
    "\n",
    "#### 1] activeCount():\n",
    "#### This function returns the number of thread objects that are currently alive in the program. An object is considered alive if its start() method has been called but its run() method has not yet completed.\n",
    "\n",
    "#### 2] currentThread(): \n",
    "#### This function returns a reference to the current thread object. The thread object represents the thread from which the function is called.\n",
    "\n",
    "#### 3] enumerate(): \n",
    "#### This function returns a list of all thread objects that are currently alive in the program. An object is considered alive if its start() method has been called but its run() method has not yet completed."
   ]
  },
  {
   "cell_type": "markdown",
   "id": "e8f70375-7c9e-4030-9dca-7e653b1ba011",
   "metadata": {},
   "source": [
    "# 3.\n",
    "### Explain the following functions:\n",
    "\n",
    "### 1] run() : \n",
    "#### --> This method defines the behavior of the thread when it is running. It must be overridden in a subclass of the Thread class to implement the thread's functionality.\n",
    "### 2] start():\n",
    "#### --> This method starts the thread by calling its run() method in a separate thread of execution. The start() method returns immediately, and the new thread begins executing in parallel with the parent thread.\n",
    "### 3] join():\n",
    "#### --> This method blocks the calling thread until the thread on which it is called has completed execution. This is useful when you want to wait for a thread to finish before continuing with the main program.\n",
    "### 4] isAlive():\n",
    "#### --> This method returns a boolean value indicating whether the thread is currently running (True) or has completed execution (False)."
   ]
  },
  {
   "cell_type": "markdown",
   "id": "90825094-f9d1-4d49-b254-d8a1214df473",
   "metadata": {},
   "source": [
    "# 4.\n",
    "###  Write a python program to create two threads. Thread one must print the list of squares and thread two must print the list of cubes"
   ]
  },
  {
   "cell_type": "code",
   "execution_count": 19,
   "id": "18be52e2-0d0e-43d3-82bf-f5edc472d0bb",
   "metadata": {},
   "outputs": [],
   "source": [
    "import threading\n",
    "def test(id):\n",
    "    if id == 1:\n",
    "        for i in [1,2,3,4,5,6,7,8,9]:\n",
    "            print(i*i,end=\" -> \")\n",
    "        print(\"\")\n",
    "    else:\n",
    "        for i in [1,2,3,4,5,6,7,8,9]:\n",
    "            print(i*i*i,end=\"-> \")"
   ]
  },
  {
   "cell_type": "code",
   "execution_count": 20,
   "id": "97a5fb97-d160-4dd9-8d36-b6e81b5920cd",
   "metadata": {},
   "outputs": [
    {
     "data": {
      "text/plain": [
       "[<Thread(Thread-17 (test), initial)>, <Thread(Thread-18 (test), initial)>]"
      ]
     },
     "execution_count": 20,
     "metadata": {},
     "output_type": "execute_result"
    }
   ],
   "source": [
    "thread=[threading.Thread(target=test,args=(i,)) for i in [1,2]]\n",
    "thread"
   ]
  },
  {
   "cell_type": "code",
   "execution_count": 21,
   "id": "f960bb4a-d55e-4174-9247-9aa9f31a6e9c",
   "metadata": {},
   "outputs": [
    {
     "name": "stdout",
     "output_type": "stream",
     "text": [
      "1 -> 4 -> 9 -> 16 -> 25 -> 36 -> 49 -> 64 -> 81 -> \n",
      "1-> 8-> 27-> 64-> 125-> 216-> 343-> 512-> 729-> "
     ]
    }
   ],
   "source": [
    "for t in thread:\n",
    "    t.start()"
   ]
  },
  {
   "cell_type": "markdown",
   "id": "f0c7786d-a65a-47d9-8ef0-fb9c3e168af3",
   "metadata": {},
   "source": [
    "# 5.\n",
    "### State advantages and disadvantages of multithreading"
   ]
  },
  {
   "cell_type": "markdown",
   "id": "12b88a58-6273-4e0d-ab48-33786171544f",
   "metadata": {},
   "source": [
    "## Advantages \n",
    "### 1] Improved performance:    \n",
    "#### Multithreading can improve the performance of a program by allowing it to perform multiple tasks simultaneously. This can result in faster execution times and better responsiveness.\n",
    "### 2] Better resource utilization:     \n",
    "#### Multithreading can make better use of available resources, such as CPU time and memory, by allowing multiple threads to run concurrently.\n",
    "### 3] Simplified program structure:     \n",
    "#### Multithreading can simplify the structure of a program by allowing it to be broken down into smaller, more manageable pieces that can be executed concurrently.\n",
    "\n",
    "## Disadvantages\n",
    "\n",
    "### 1] Increased complexity:     \n",
    "#### Multithreading can increase the complexity of a program, making it more difficult to understand, debug, and maintain.\n",
    "### 2]Synchronization issues:    \n",
    "#### Multithreading can introduce synchronization issues, such as race conditions and deadlocks, which can cause unpredictable behavior and make it difficult to ensure the correctness of the program.\n",
    "### 3] Resource contention:     \n",
    "#### Multithreading can lead to resource contention, where multiple threads compete for the same resources, such as memory or I/O devices. This can result in reduced performance or even program failure.\n",
    "### 4] Difficulty of debugging:     \n",
    "#### Multithreading can make debugging more difficult, as errors may be difficult to reproduce and diagnose due to the unpredictable nature of thread execution."
   ]
  },
  {
   "cell_type": "markdown",
   "id": "c914a715-87de-43aa-b5e4-64b966a2276e",
   "metadata": {},
   "source": [
    "# 6.\n",
    "### Explain deadlocks and race conditions.\n",
    "\n",
    "### Deadlock: \n",
    "#### A deadlock occurs when two or more threads are blocked waiting for each other to release resources they need in order to proceed. This can happen when two threads each hold a resource that the other thread needs to continue, or when one thread is waiting for a resource that another thread is holding indefinitely. Deadlocks can cause a program to hang indefinitely and can be difficult to detect and resolve.\n",
    "\n",
    "### Race condition: \n",
    "#### A race condition occurs when two or more threads access shared data or resources in an unpredictable order, leading to unexpected results or program behavior. For example, if two threads try to update the same variable at the same time, the result may depend on which thread executes first. Race conditions can cause bugs and other program errors, and can be difficult to diagnose and reproduce."
   ]
  },
  {
   "cell_type": "code",
   "execution_count": null,
   "id": "4f6a43eb-93bc-4f4c-af85-0d525c0084d9",
   "metadata": {},
   "outputs": [],
   "source": []
  },
  {
   "cell_type": "code",
   "execution_count": null,
   "id": "148d01ab-7112-4e8b-9bc2-2bd16c494edc",
   "metadata": {},
   "outputs": [],
   "source": []
  },
  {
   "cell_type": "code",
   "execution_count": null,
   "id": "43c4b9a5-d0a1-470c-8c10-7fff63f271e4",
   "metadata": {},
   "outputs": [],
   "source": []
  },
  {
   "cell_type": "code",
   "execution_count": null,
   "id": "25f71070-3e4c-4d6d-9496-aa8efc5520e8",
   "metadata": {},
   "outputs": [],
   "source": []
  },
  {
   "cell_type": "code",
   "execution_count": null,
   "id": "ba413cbd-78cc-40bd-82bb-b0bb6e5d9279",
   "metadata": {},
   "outputs": [],
   "source": []
  },
  {
   "cell_type": "code",
   "execution_count": null,
   "id": "228a876f-3c50-44c3-b617-871560384101",
   "metadata": {},
   "outputs": [],
   "source": []
  },
  {
   "cell_type": "code",
   "execution_count": null,
   "id": "215b335d-f16d-4aab-b8d5-56a691263865",
   "metadata": {},
   "outputs": [],
   "source": []
  },
  {
   "cell_type": "code",
   "execution_count": null,
   "id": "700edbf2-91dd-4177-b012-de79e8cf2f3e",
   "metadata": {},
   "outputs": [],
   "source": []
  },
  {
   "cell_type": "code",
   "execution_count": null,
   "id": "76ef84cd-017b-47f7-87ea-1da0b5077230",
   "metadata": {},
   "outputs": [],
   "source": []
  },
  {
   "cell_type": "code",
   "execution_count": null,
   "id": "9ef343d7-fbae-4c7d-8c94-450d5858e80e",
   "metadata": {},
   "outputs": [],
   "source": []
  },
  {
   "cell_type": "code",
   "execution_count": null,
   "id": "45b7e85c-5756-4605-b58a-6c681eaa2c79",
   "metadata": {},
   "outputs": [],
   "source": []
  },
  {
   "cell_type": "code",
   "execution_count": null,
   "id": "41f628bd-de37-47ce-8a2d-68851d656302",
   "metadata": {},
   "outputs": [],
   "source": []
  },
  {
   "cell_type": "code",
   "execution_count": null,
   "id": "ca257644-869f-4ade-986f-16c8866c6682",
   "metadata": {},
   "outputs": [],
   "source": []
  },
  {
   "cell_type": "code",
   "execution_count": null,
   "id": "19d1062c-6777-465d-bada-0e8af392eb82",
   "metadata": {},
   "outputs": [],
   "source": []
  },
  {
   "cell_type": "code",
   "execution_count": null,
   "id": "8dbde812-3d6c-4e5b-ab32-51d1a000172a",
   "metadata": {},
   "outputs": [],
   "source": []
  },
  {
   "cell_type": "code",
   "execution_count": null,
   "id": "909ae2df-5262-42d6-a13c-dc4d0b02b597",
   "metadata": {},
   "outputs": [],
   "source": []
  },
  {
   "cell_type": "code",
   "execution_count": null,
   "id": "e182efe9-368d-44a0-bae9-3ba4c2408f03",
   "metadata": {},
   "outputs": [],
   "source": []
  },
  {
   "cell_type": "code",
   "execution_count": null,
   "id": "24949b8e-334a-4a82-9d4d-7aac3a994753",
   "metadata": {},
   "outputs": [],
   "source": []
  },
  {
   "cell_type": "code",
   "execution_count": null,
   "id": "bffb4daa-b8fa-4e98-8704-f3c30f0a28ec",
   "metadata": {},
   "outputs": [],
   "source": []
  },
  {
   "cell_type": "code",
   "execution_count": null,
   "id": "b9a748c1-d9aa-470b-97aa-c78906b66548",
   "metadata": {},
   "outputs": [],
   "source": []
  },
  {
   "cell_type": "code",
   "execution_count": null,
   "id": "f6e61c39-bbfb-4a0d-be9e-145a52bd98e3",
   "metadata": {},
   "outputs": [],
   "source": []
  },
  {
   "cell_type": "code",
   "execution_count": null,
   "id": "2a6272be-9810-48d3-b24a-f457a5513e5d",
   "metadata": {},
   "outputs": [],
   "source": []
  },
  {
   "cell_type": "code",
   "execution_count": null,
   "id": "047aea3b-5598-4535-a19b-c5550481bfe9",
   "metadata": {},
   "outputs": [],
   "source": []
  }
 ],
 "metadata": {
  "kernelspec": {
   "display_name": "Python 3 (ipykernel)",
   "language": "python",
   "name": "python3"
  },
  "language_info": {
   "codemirror_mode": {
    "name": "ipython",
    "version": 3
   },
   "file_extension": ".py",
   "mimetype": "text/x-python",
   "name": "python",
   "nbconvert_exporter": "python",
   "pygments_lexer": "ipython3",
   "version": "3.10.8"
  }
 },
 "nbformat": 4,
 "nbformat_minor": 5
}
