{
 "cells": [
  {
   "cell_type": "markdown",
   "id": "e15374a1-96cf-4829-976b-ecf468d14d60",
   "metadata": {},
   "source": [
    "# 1.\n",
    "## What are missing values in a dataset? Why is it essential to handle missing values? Name some algorithms that are not affected by missing values.\n",
    "### --> Missing values in a dataset refer to the absence of data or information for certain observations or variables. They can occur for various reasons, such as data collection errors, measurement issues, or incomplete data entry. Handling missing values is essential in data analysis and machine learning because they can introduce bias, affect statistical measures, and impact the accuracy and reliability of the results obtained from the data.\n",
    "### this algorithms are nnot affected y missing values\n",
    "#### 1] Decision Trees\n",
    "#### 3] Random Forests\n",
    "#### 2] Support Vector Machines (SVM)\n",
    "#### 4] K-nearest Neighbors (KNN)\n",
    "#### 5] Naive Bayes"
   ]
  },
  {
   "cell_type": "markdown",
   "id": "9953d177-1ed9-4574-888b-513fb06f5690",
   "metadata": {},
   "source": [
    "# 2.\n",
    "## List down techniques used to handle missing data. Give an example of each with python code.\n",
    "### 1] mean / median imputation\n",
    "### 2] random sample imputation\n",
    "### 3] capturing nan value with new feature\n",
    "### 4] end distribution imputation\n",
    "### 5] arbitrary value imputation\n",
    "### 6] frequent category imputation"
   ]
  },
  {
   "cell_type": "markdown",
   "id": "fb173bc2-a8d2-490c-ac8a-60fbe5908724",
   "metadata": {},
   "source": [
    "# 3.\n",
    "## Explain the imbalanced data. What will happen if imbalanced data is not handled?\n",
    "### --> Imbalanced data refers to a situation where the distribution of classes in a dataset is not equal, resulting in one or more classes being under-represented compared to others. This can occur in various machine learning and statistical modeling tasks, such as classification, where the target variable or outcome variable is imbalanced, i.e., one class occurs much less frequently than the other class(es).\n",
    "### 1] Reduced Model Performance: A model trained on imbalanced data may show poor performance in terms of accuracy, precision, recall, F1-score, or other evaluation metrics, as it may have a low ability to correctly predict the minority class, which is often of more interest in imbalanced datasets.\n",
    "\n",
    "### 2] Increased False Negatives or False Positives: Depending on the class of interest, an imbalanced dataset may result in higher false negative rates (missed detection of the minority class) or false positive rates (false alarms for the minority class), leading to incorrect predictions and decisions.\n",
    "\n",
    "### 3] Biased Model: Models trained on imbalanced data may become biased towards the majority class, as they are exposed to more examples of the majority class during training. This can result in a biased model that may not generalize well to real-world scenarios."
   ]
  },
  {
   "cell_type": "markdown",
   "id": "27e921cc-cbca-421f-947b-79d3da169771",
   "metadata": {},
   "source": [
    "# 4.\n",
    "## What are Up-sampling and Down-sampling? Explain with an example when up-sampling and down- sampling are required.\n",
    "### 1] Up-sampling: Up-sampling involves increasing the number of instances in the minority class to balance the class distribution. This can be done by duplicating existing minority class instances or by generating synthetic examples of the minority class using techniques such as SMOTE (Synthetic Minority Over-sampling Technique) or ADASYN (Adaptive Synthetic Sampling). This creates a balanced dataset with an equal representation of all classes, which can help the model to learn the patterns of the minority class more effectively.\n",
    "#### Example:Let's say you have a dataset for credit card fraud detection, where the majority class is \"non-fraudulent\" transactions and the minority class is \"fraudulent\" transactions. However, the dataset is highly imbalanced, with only 1% of the transactions labeled as fraud. In this case, you can use up-sampling to generate synthetic examples of the minority class (fraudulent transactions) using SMOTE or ADASYN to increase the representation of the minority class in the dataset, thus creating a balanced dataset for training a machine learning model.\n",
    "\n",
    "### 2] Down-sampling:Down-sampling involves reducing the number of instances in the majority class to balance the class distribution. This can be done by randomly selecting a subset of instances from the majority class or by using techniques such as Tomek links or neighborhood cleaning rule to remove instances from the majority class that are close to the minority class. This creates a balanced dataset with equal representation of all classes, which can prevent the model from being biased towards the majority class.\n",
    "#### Example:Let's say you have a dataset for medical diagnosis, where the majority class is \"healthy\" patients and the minority class is \"disease\" patients. However, the dataset is imbalanced, with a much higher representation of healthy patients compared to disease patients. In this case, you can use down-sampling to randomly select a subset of instances from the majority class (healthy patients) or use Tomek links or neighborhood cleaning rule to remove instances from the majority class that are close to the minority class, thus creating a balanced dataset for training a machine learning model."
   ]
  },
  {
   "cell_type": "markdown",
   "id": "d737b0ec-eeec-4926-ad61-aa4668145d42",
   "metadata": {},
   "source": [
    "# 5.\n",
    "## What is data Augmentation? Explain SMOTE.\n",
    "### Data augmentation is a technique used in machine learning to artificially increase the size of a dataset by creating new training examples from the original data. This technique is commonly used in image processing and computer vision tasks, but can also be applied to other types of data, such as text or time series data.\n",
    "\n",
    "### SMOTE (Synthetic Minority Over-sampling Technique) is a popular data augmentation technique specifically used for addressing the issue of imbalanced data in classification tasks. SMOTE works by generating synthetic examples of the minority class (i.e., the class with fewer instances) to increase its representation in the dataset, thereby balancing the class distribution."
   ]
  },
  {
   "cell_type": "markdown",
   "id": "37c4def0-70fc-49b0-9bf4-319946546e60",
   "metadata": {
    "tags": []
   },
   "source": [
    "# 6.\n",
    "## What are outliers in a dataset? Why is it essential to handle outliers?\n",
    "### --> Outliers are data points in a dataset that deviate significantly from the rest of the data, often characterized by being unusually high or low in value compared to the majority of the data points. Outliers can be caused by various factors such as measurement errors, data entry errors, sampling errors, or genuine extreme values in the underlying data distribution.\n",
    "\n",
    "### It is essential to handle outliers in a dataset for the following reasons:\n",
    "#### Impact on statistical measures\n",
    "#### Impact on machine learning models\n",
    "#### Influence on decision-making\n",
    "#### Data quality and integrity"
   ]
  },
  {
   "cell_type": "markdown",
   "id": "0e314019-6977-4bfc-ab02-808623ae7ac7",
   "metadata": {},
   "source": [
    "# 7.\n",
    "## You are working on a project that requires analyzing customer data. However, you notice that some of the data is missing. What are some techniques you can use to handle the missing data in your analysis?\n",
    "### 1]mean/median imputation\n",
    "### 2]random sample imputation\n",
    "### 3]frequent category imputation"
   ]
  },
  {
   "cell_type": "markdown",
   "id": "d7641cf7-a6f5-4943-9df1-4133425605f4",
   "metadata": {},
   "source": [
    "# 8.\n",
    "## You are working with a large dataset and find that a small percentage of the data is missing. What are some strategies you can use to determine if the missing data is missing at random or if there is a pattern to the missing data?\n",
    "### 1]look for the patterns / creating plots\n",
    "### 2]check for correlation between the missing data and other variables\n",
    "### 3]use imputations techniques because there is a small percentage of the data is missing"
   ]
  },
  {
   "cell_type": "markdown",
   "id": "aae07fbe-bbd6-47fb-a3c2-b28e8e8b63f7",
   "metadata": {},
   "source": [
    "# 9.\n",
    "## Suppose you are working on a medical diagnosis project and find that the majority of patients in the dataset do not have the condition of interest, while a small percentage do. What are some strategies you can use to evaluate the performance of your machine learning model on this imbalanced dataset?\n",
    "### 1] we can use SMOTE technique.\n",
    "### 2] we can do data inter polation\n",
    "### 3] we can use upsampling."
   ]
  },
  {
   "cell_type": "markdown",
   "id": "b99c61a4-7a56-4ee3-9089-b8e82d06dca9",
   "metadata": {},
   "source": [
    "# 10.\n",
    "## When attempting to estimate customer satisfaction for a project, you discover that the dataset is unbalanced, with the bulk of customers reporting being satisfied. What methods can you employ to balance the dataset and down-sample the majority class?\n",
    "### 1] Random under-sampling: In this method, a random subset of samples from the majority class is removed to balance the class distribution. This can be achieved by randomly selecting a subset of samples from the majority class equal to the size of the minority class.\n",
    "### 2] Tomek links: Tomek links are pairs of samples from different classes that are closest to each other. Removing the majority class samples from Tomek links can help in balancing the dataset.\n",
    "### 3] Neighborhood Cleaning Rule (NCR): NCR is an under-sampling technique that removes some samples from the majority class that are in the vicinity of minority class samples. This method can help in reducing noise from the majority class and balancing the dataset."
   ]
  },
  {
   "cell_type": "markdown",
   "id": "1dd339b9-61b3-41c0-bbca-7f1d4f25ded0",
   "metadata": {},
   "source": [
    "# 11.\n",
    "## You discover that the dataset is unbalanced with a low percentage of occurrences while working on a project that requires you to estimate the occurrence of a rare event. What methods can you employ to balance the dataset and up-sample the minority class?\n",
    "### 1] Oversampling:This involves creating new instances for the minority class to balance the dataset. This can be done by replicating existing instances or generating synthetic instances using techniques like SMOTE (Synthetic Minority Over-sampling Technique).\n",
    "### 2] Synthetic Sampling:This involves creating new instances for the minority class using statistical methods such as bootstrapping, which randomly resamples the available data to create a new dataset.\n",
    "### 3] Cost-Sensitive Learning:This involves assigning higher costs to errors in predicting the minority class. This can be done by adjusting the cost matrix or by using a different loss function that emphasizes the minority class.\n",
    "### 4] Anomaly Detection:This involves identifying the minority class as an anomaly or outlier and using methods such as one-class classification or clustering to identify the minority class."
   ]
  },
  {
   "cell_type": "code",
   "execution_count": null,
   "id": "5debd53f-283b-4b1c-99cb-1f13e7d1deef",
   "metadata": {},
   "outputs": [],
   "source": []
  }
 ],
 "metadata": {
  "kernelspec": {
   "display_name": "Python 3 (ipykernel)",
   "language": "python",
   "name": "python3"
  },
  "language_info": {
   "codemirror_mode": {
    "name": "ipython",
    "version": 3
   },
   "file_extension": ".py",
   "mimetype": "text/x-python",
   "name": "python",
   "nbconvert_exporter": "python",
   "pygments_lexer": "ipython3",
   "version": "3.10.8"
  }
 },
 "nbformat": 4,
 "nbformat_minor": 5
}
