{
 "cells": [
  {
   "cell_type": "markdown",
   "id": "011d77b1-5de7-4eca-a7f5-f62a3948d933",
   "metadata": {},
   "source": [
    "# 1.\n",
    "## What is an exception in python? Write the difference between Exceptions and syntax error.\n",
    "#### --> In Python, an exception is an error that occurs during the execution of a program. When an exception is encountered, the program execution is interrupted, and the error message is displayed, providing information about the cause of the error.\n",
    "#### --> Exceptions are used to handle errors and unexpected situations that may occur during program execution, such as input/output errors, division by zero, or file not found errors.\n",
    "#### --> The main difference between exceptions and syntax errors is that exceptions occur during program execution when something unexpected happens, while syntax errors occur during the parsing of the Python code before the program is executed."
   ]
  },
  {
   "cell_type": "markdown",
   "id": "92ebd67f-c3de-4d76-b7bc-0becf4921efa",
   "metadata": {},
   "source": [
    "# 2.\n",
    "## What happens when an exception is not handled? Explain with an example.\n"
   ]
  },
  {
   "cell_type": "code",
   "execution_count": null,
   "id": "9802093a-b00d-4d5a-b3fe-021710560a96",
   "metadata": {},
   "outputs": [],
   "source": [
    "a=1\n",
    "a/0\n",
    "print(\"Exception occured and not handled\")"
   ]
  },
  {
   "cell_type": "code",
   "execution_count": null,
   "id": "3dea6dec-80a3-4d83-8264-bdfd3882f5e6",
   "metadata": {},
   "outputs": [],
   "source": [
    "def divide(a,b):\n",
    "    try:\n",
    "        result =a/b\n",
    "    except:\n",
    "        print(\"divison by zero\")\n",
    "    print(\"exception handled\")"
   ]
  },
  {
   "cell_type": "code",
   "execution_count": null,
   "id": "03d41d66-0c01-4fad-b20d-c33d993efc43",
   "metadata": {},
   "outputs": [],
   "source": [
    "divide(1,0)"
   ]
  },
  {
   "cell_type": "markdown",
   "id": "65385a3e-ddf5-4772-8482-23c3b7f076d4",
   "metadata": {},
   "source": [
    "# 3.\n",
    "## Which python statements are used to catch and handled exceptions? Explain with an example.\n",
    "#### --> In Python, the try...except statement is used to catch and handle exceptions. The try block contains the code that may raise an exception, and the except block contains the code that is executed if an exception is raised."
   ]
  },
  {
   "cell_type": "code",
   "execution_count": null,
   "id": "c302cc4c-994b-497f-a44e-8843d37de48f",
   "metadata": {},
   "outputs": [],
   "source": [
    "try:\n",
    "    x = 5 / 0\n",
    "except AttributeError:\n",
    "    print(\"Error: Attribute error\")\n",
    "except ZeroDivisionError:\n",
    "    print(\"Error: division by zero\")"
   ]
  },
  {
   "cell_type": "markdown",
   "id": "9235e9b0-4986-45ff-b730-94cb9f00a92c",
   "metadata": {},
   "source": [
    "# 4.\n",
    "## Explain with an example:\n",
    "### 1] try and else:\n",
    "#### --> The try...else statement is used to specify code that should be executed if no exception is raised in the try block. "
   ]
  },
  {
   "cell_type": "code",
   "execution_count": null,
   "id": "c7cb8bd6-abef-4ce4-a198-37d4bf7073d4",
   "metadata": {},
   "outputs": [],
   "source": [
    "try:\n",
    "    x = 5 / 2\n",
    "except ZeroDivisionError:\n",
    "    print(\"Error: division by zero\")\n",
    "else:\n",
    "    print(\"Result is:\", x)"
   ]
  },
  {
   "cell_type": "markdown",
   "id": "90c90693-8efd-4811-b5bf-ae6a2a2a7f1a",
   "metadata": {},
   "source": [
    "### 2] finally:\n",
    "#### --> The finally statement is used to specify code that should be executed regardless of whether an exception was raised in the try block. "
   ]
  },
  {
   "cell_type": "code",
   "execution_count": null,
   "id": "6de8e62d-2871-466f-943a-842f1e0fdf5b",
   "metadata": {},
   "outputs": [],
   "source": [
    "try:\n",
    "    x = 5 / 0\n",
    "except ZeroDivisionError:\n",
    "    print(\"Error: division by zero\")\n",
    "finally:\n",
    "    print(\"This part will always execute\")"
   ]
  },
  {
   "cell_type": "markdown",
   "id": "ec8e5b34-83d8-4fe4-ae7c-c66b3b574e71",
   "metadata": {},
   "source": [
    "### 3] raise\n",
    "#### --> The raise statement is used to raise an exception in Python. "
   ]
  },
  {
   "cell_type": "code",
   "execution_count": null,
   "id": "ebd9b903-6e80-44f3-8850-e99175400add",
   "metadata": {},
   "outputs": [],
   "source": [
    "a=-2\n",
    "if a<0 :\n",
    "    raise Exception(\"It should be positive\") "
   ]
  },
  {
   "cell_type": "markdown",
   "id": "b402a918-0368-479d-9c29-299ee194ab36",
   "metadata": {},
   "source": [
    "# 5. \n",
    "## What are custom exceptions in python? Why do we need custom exceptions? Explain with an example.\n",
    "#### --> In Python, custom exceptions are exceptions that are defined by the programmer, rather than by the Python language itself. Custom exceptions can be used to represent specific types of errors or exceptional situations in your program, allowing you to handle them more precisely and with more descriptive error messages.\n",
    "\n",
    "#### --> We need custom exceptions to make our code more readable, understandable and maintainable. By creating custom exceptions, we can define a specific error condition that can be handled differently from other exceptions. This can be especially useful when dealing with complex programs or systems where different types of errors can occur in different parts of the code."
   ]
  },
  {
   "cell_type": "code",
   "execution_count": null,
   "id": "6822e803-dfbd-41b9-b4b3-74c623c9875c",
   "metadata": {},
   "outputs": [],
   "source": [
    "class NegativeValueError(Exception):\n",
    "    pass\n",
    "\n",
    "def square(x):\n",
    "    if x < 0:\n",
    "        raise NegativeValueError(\"Cannot calculate square root of negative value\")\n",
    "    return x*x"
   ]
  },
  {
   "cell_type": "code",
   "execution_count": null,
   "id": "5cd88e73-d4dc-4bd4-b23f-f4ff35af9aee",
   "metadata": {},
   "outputs": [],
   "source": [
    "square(3)"
   ]
  },
  {
   "cell_type": "markdown",
   "id": "946676db-9eb6-4b29-a611-146c763d032e",
   "metadata": {},
   "source": [
    "# 6.\n",
    "## Create a custom exception class. Use this class to handle an exception."
   ]
  },
  {
   "cell_type": "code",
   "execution_count": null,
   "id": "c7a61b7b-55f1-4292-8c17-fb94a77807c6",
   "metadata": {},
   "outputs": [],
   "source": [
    "class OutOfStockError(Exception):\n",
    "    pass\n",
    "\n",
    "class Product:\n",
    "    def __init__(self, name, stock):\n",
    "        self.name = name\n",
    "        self.stock = stock\n",
    "        \n",
    "    def buy(self, quantity):\n",
    "        if quantity > self.stock:\n",
    "            raise OutOfStockError(\" Product  is out of stock\")\n",
    "        else:\n",
    "            self.stock -= quantity\n",
    "            print(f\"Bought {quantity} {self.name} and {self.stock} remaining.\")"
   ]
  },
  {
   "cell_type": "code",
   "execution_count": null,
   "id": "166b4a76-c1fc-4413-a880-93ded44af20c",
   "metadata": {},
   "outputs": [],
   "source": [
    "apple = Product(\"Apple\", 10)\n",
    "banana = Product(\"Banana\", 5)\n",
    "\n",
    "try:\n",
    "    apple.buy(15)\n",
    "except OutOfStockError as e:\n",
    "    print(e)\n",
    "\n",
    "try:\n",
    "    banana.buy(2)\n",
    "except OutOfStockError as e:\n",
    "    print(e)"
   ]
  },
  {
   "cell_type": "code",
   "execution_count": null,
   "id": "f51b59c8-5784-41e9-894a-1be9e45fa67c",
   "metadata": {},
   "outputs": [],
   "source": []
  }
 ],
 "metadata": {
  "kernelspec": {
   "display_name": "Python 3 (ipykernel)",
   "language": "python",
   "name": "python3"
  },
  "language_info": {
   "codemirror_mode": {
    "name": "ipython",
    "version": 3
   },
   "file_extension": ".py",
   "mimetype": "text/x-python",
   "name": "python",
   "nbconvert_exporter": "python",
   "pygments_lexer": "ipython3",
   "version": "3.10.8"
  }
 },
 "nbformat": 4,
 "nbformat_minor": 5
}
