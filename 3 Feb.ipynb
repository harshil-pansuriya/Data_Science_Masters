{
 "cells": [
  {
   "cell_type": "markdown",
   "id": "cd1bd2aa-28cc-4b40-9b09-433cb47263fb",
   "metadata": {},
   "source": [
    "## 1.\n",
    "### \"def\" keyword is used to create function "
   ]
  },
  {
   "cell_type": "code",
   "execution_count": 1,
   "id": "6bd11ce9-5c60-41df-9bdc-4f1e318dd729",
   "metadata": {},
   "outputs": [],
   "source": [
    "def oddnum():\n",
    "    l=[]\n",
    "    for i in range(26):\n",
    "        if i%2 != 0 :\n",
    "            l.append(i)\n",
    "    return l"
   ]
  },
  {
   "cell_type": "code",
   "execution_count": 2,
   "id": "c72b83b5-e7e3-4cff-914e-56b1b483269f",
   "metadata": {},
   "outputs": [
    {
     "data": {
      "text/plain": [
       "[1, 3, 5, 7, 9, 11, 13, 15, 17, 19, 21, 23, 25]"
      ]
     },
     "execution_count": 2,
     "metadata": {},
     "output_type": "execute_result"
    }
   ],
   "source": [
    "oddnum()"
   ]
  },
  {
   "cell_type": "markdown",
   "id": "348b703e-0957-447d-a09d-1f95180524f5",
   "metadata": {},
   "source": [
    "## 2. *args and **kwargs"
   ]
  },
  {
   "cell_type": "markdown",
   "id": "cb103f6c-04be-4170-b440-617b87ea6ee0",
   "metadata": {},
   "source": [
    "#### \" *args \" allows a function to accept a non-keyworded, variable-length argument list.\n",
    "#### \" *kwargs\" allows a function to accept a keyworded, variable-length argument list."
   ]
  },
  {
   "cell_type": "code",
   "execution_count": 3,
   "id": "7d5c1fac-8825-4c07-bc37-25d512c1a134",
   "metadata": {},
   "outputs": [],
   "source": [
    "def args1(*args):\n",
    "    \n",
    "    print(\"Args:\", args)"
   ]
  },
  {
   "cell_type": "code",
   "execution_count": 4,
   "id": "22e542b5-fec0-4b11-aa0e-ee9991fd66b8",
   "metadata": {},
   "outputs": [
    {
     "name": "stdout",
     "output_type": "stream",
     "text": [
      "Args: (1, 2, 3, 'xyz', '42')\n"
     ]
    }
   ],
   "source": [
    "args1(1, 2, 3,\"xyz\",\"42\")"
   ]
  },
  {
   "cell_type": "code",
   "execution_count": 5,
   "id": "99d023cd-9402-43f7-9e8f-348d6d10e008",
   "metadata": {},
   "outputs": [],
   "source": [
    "def kwargs(**kwargs):\n",
    "    l=[]\n",
    "    for value in kwargs.items():\n",
    "        l.append(value)\n",
    "    return l"
   ]
  },
  {
   "cell_type": "code",
   "execution_count": 6,
   "id": "871b486d-f5a7-4748-a22a-0ec27a509af8",
   "metadata": {},
   "outputs": [
    {
     "data": {
      "text/plain": [
       "[('series', 'lucifer,'), ('seasons', 6), ('lang', ',english')]"
      ]
     },
     "execution_count": 6,
     "metadata": {},
     "output_type": "execute_result"
    }
   ],
   "source": [
    "kwargs(series=\"lucifer,\",seasons=6,lang=\",english\")"
   ]
  },
  {
   "cell_type": "markdown",
   "id": "1140c45b-a630-4312-aee6-50538c4ca479",
   "metadata": {},
   "source": [
    "## 3.Iterator in python"
   ]
  },
  {
   "cell_type": "markdown",
   "id": "5739edb9-893e-4854-9f67-e5f1f424a628",
   "metadata": {},
   "source": [
    "#### Basically iterator is object which contain countable values in numbers"
   ]
  },
  {
   "cell_type": "markdown",
   "id": "6b2fe98d-0ed4-48a5-a1f1-c94dfab9e5e3",
   "metadata": {},
   "source": [
    "#### Two types of iterating method \n",
    "### 1] iter()\n",
    "### 2] next()"
   ]
  },
  {
   "cell_type": "code",
   "execution_count": 7,
   "id": "5355f918-1847-46d1-afde-163c346c3be8",
   "metadata": {},
   "outputs": [],
   "source": [
    "def iterator(l):\n",
    "    iterator = iter(l)\n",
    "    for i in range(5):\n",
    "        print(next(iterator))"
   ]
  },
  {
   "cell_type": "code",
   "execution_count": 8,
   "id": "1960d748-50e5-4236-b252-9c84d34ebbd7",
   "metadata": {},
   "outputs": [
    {
     "name": "stdout",
     "output_type": "stream",
     "text": [
      "2\n",
      "4\n",
      "6\n",
      "8\n",
      "10\n"
     ]
    }
   ],
   "source": [
    "list1 = [2, 4, 6, 8, 10, 12, 14, 16, 18, 20]\n",
    "iterator(list1)"
   ]
  },
  {
   "cell_type": "markdown",
   "id": "18251041-587b-4539-b910-1a2e92231d8f",
   "metadata": {},
   "source": [
    "## 4. Generator function"
   ]
  },
  {
   "cell_type": "markdown",
   "id": "1ce7cb85-d18d-49cc-9cf8-e214136c704c",
   "metadata": {},
   "source": [
    "#### A generator function in Python is a special type of function that returns a generator iterator.\n",
    "#### The yield keyword is used in a generator function because it allows the function to produce a sequence of values, instead of computing them all at once and returning them in a list."
   ]
  },
  {
   "cell_type": "code",
   "execution_count": 9,
   "id": "a0affa08-0e0e-491d-a28d-417ea77f07f7",
   "metadata": {},
   "outputs": [],
   "source": [
    "def square(num):\n",
    "    n = 1\n",
    "    while n <= num:\n",
    "        yield n * n\n",
    "        n += 1"
   ]
  },
  {
   "cell_type": "code",
   "execution_count": 10,
   "id": "317ea6c4-f93e-41b6-a60b-9e64a88f81aa",
   "metadata": {},
   "outputs": [
    {
     "name": "stdout",
     "output_type": "stream",
     "text": [
      "1\n",
      "4\n",
      "9\n",
      "16\n",
      "25\n",
      "36\n",
      "49\n",
      "64\n",
      "81\n",
      "100\n"
     ]
    }
   ],
   "source": [
    "for i in square(10):\n",
    "    print(i)"
   ]
  },
  {
   "cell_type": "markdown",
   "id": "507b536c-b4f1-43b5-bc28-e71b41b52529",
   "metadata": {},
   "source": [
    "## 5. Prime number Generator"
   ]
  },
  {
   "cell_type": "code",
   "execution_count": 13,
   "id": "28f83951-f7f8-4934-8b05-9e187013c20a",
   "metadata": {},
   "outputs": [],
   "source": [
    "def prime_num():\n",
    "    prime = []\n",
    "    n = 2\n",
    "    while n < 1000:\n",
    "        for p in prime:\n",
    "            if n % p == 0:\n",
    "                break\n",
    "        else:\n",
    "            prime.append(n)\n",
    "            yield n\n",
    "        n += 1"
   ]
  },
  {
   "cell_type": "code",
   "execution_count": 14,
   "id": "b9a720a5-2bc0-49ab-8e8f-fe69c50b824b",
   "metadata": {},
   "outputs": [
    {
     "name": "stdout",
     "output_type": "stream",
     "text": [
      "2\n",
      "3\n",
      "5\n",
      "7\n",
      "11\n",
      "13\n",
      "17\n",
      "19\n",
      "23\n",
      "29\n",
      "31\n",
      "37\n",
      "41\n",
      "43\n",
      "47\n",
      "53\n",
      "59\n",
      "61\n",
      "67\n",
      "71\n"
     ]
    }
   ],
   "source": [
    "prime_gen = prime_num()\n",
    "for i in range(20):\n",
    "    print(next(prime_gen))"
   ]
  },
  {
   "cell_type": "code",
   "execution_count": null,
   "id": "4cefafdd-1eec-4a87-ad3c-da3df7c770f1",
   "metadata": {},
   "outputs": [],
   "source": []
  }
 ],
 "metadata": {
  "kernelspec": {
   "display_name": "Python 3 (ipykernel)",
   "language": "python",
   "name": "python3"
  },
  "language_info": {
   "codemirror_mode": {
    "name": "ipython",
    "version": 3
   },
   "file_extension": ".py",
   "mimetype": "text/x-python",
   "name": "python",
   "nbconvert_exporter": "python",
   "pygments_lexer": "ipython3",
   "version": "3.10.8"
  }
 },
 "nbformat": 4,
 "nbformat_minor": 5
}
