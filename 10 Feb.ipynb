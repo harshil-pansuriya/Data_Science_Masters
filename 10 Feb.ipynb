{
 "cells": [
  {
   "cell_type": "markdown",
   "id": "f4de1f09-1d7c-43e9-a771-07ccd8adc08d",
   "metadata": {},
   "source": [
    "# 1.\n",
    "### Which function is used to open a file? What are the different modes of opening a file? Explain each mode of file opening."
   ]
  },
  {
   "cell_type": "markdown",
   "id": "cf98fa58-d3e9-4d5d-8dce-f0aac74a5071",
   "metadata": {},
   "source": [
    "### open() :\n",
    "\n",
    "#### r : read mode (default). It opens a file for reading only\n",
    "\n",
    "#### w : write mode. It opens a file for writing only.\n",
    "\n",
    "#### a : append mode. It opens a file for writing only. If the file does not exist, it creates a new file. If the file already exists, new data is appended to the end of the file.\n",
    "\n",
    "#### x : exclusive creation mode. It creates a new file and opens it for writing.\n",
    "\n",
    "#### b : binary mode. It opens a file in binary mode. \n",
    "\n",
    "#### t : text mode (default). It opens a file in text mode.\n",
    "\n",
    "#### + :  Open a file for updating (reading and writing)"
   ]
  },
  {
   "cell_type": "markdown",
   "id": "545988fb-7db3-438d-b9d8-da5453b24317",
   "metadata": {},
   "source": [
    "# 2.\n",
    "### Why close() function is used? Why is it important to close a file?\n",
    "### => The close() method closes an open file.\n",
    "### => You should always close your files, in some cases, due to buffering, changes made to a file may not show until you close the file."
   ]
  },
  {
   "cell_type": "markdown",
   "id": "4147598d-45f5-4658-af88-98adc97c154e",
   "metadata": {},
   "source": [
    "# 3. \n",
    "### Write a python program to create a text file. Write ‘I want to become a Data Scientist’ in that file. Then close the file. Open this file and read the content of the file."
   ]
  },
  {
   "cell_type": "code",
   "execution_count": 1,
   "id": "27d5ffbd-4343-4889-b2eb-91c2fbd66675",
   "metadata": {},
   "outputs": [
    {
     "data": {
      "text/plain": [
       "'I want to become a Data Scientist'"
      ]
     },
     "execution_count": 1,
     "metadata": {},
     "output_type": "execute_result"
    }
   ],
   "source": [
    "f=open(\"10Feb.txt\",\"w\")\n",
    "f.write(\"I want to become a Data Scientist\")\n",
    "f.close()\n",
    "data=open(\"10Feb.txt\",\"r\")\n",
    "data.read()"
   ]
  },
  {
   "cell_type": "markdown",
   "id": "89de2030-b40f-4c24-ac7d-b5df9a054aeb",
   "metadata": {},
   "source": [
    "# 4.\n",
    "### Explain the following with python code: read(), readline() and readlines()."
   ]
  },
  {
   "cell_type": "code",
   "execution_count": 2,
   "id": "61bf2e96-36d2-4d99-9ac9-4df1e5f6cf13",
   "metadata": {},
   "outputs": [
    {
     "name": "stdout",
     "output_type": "stream",
     "text": [
      "I want to become a Data Scientist\n"
     ]
    }
   ],
   "source": [
    "with open(\"10Feb.text\",\"w\") as f:\n",
    "    f.write(\"I am student \\nI want to become Data Scientist \\nI will be Data scientist one day\")\n",
    "\n",
    "with open(\"10Feb.txt\", \"r\") as f:\n",
    "    a=f.read()    \n",
    "    print(a)"
   ]
  },
  {
   "cell_type": "code",
   "execution_count": 3,
   "id": "84a3ecb5-d2c3-4471-9655-3e70d5527160",
   "metadata": {},
   "outputs": [
    {
     "name": "stdout",
     "output_type": "stream",
     "text": [
      "I am student \n",
      "\n",
      "I want to become Data Scientist \n",
      "\n"
     ]
    }
   ],
   "source": [
    "with open(\"10Feb.text\", \"r\") as f:\n",
    "    line1 = f.readline()   \n",
    "    line2 = f.readline()   \n",
    "    print(line1)\n",
    "    print(line2)"
   ]
  },
  {
   "cell_type": "code",
   "execution_count": 4,
   "id": "1ad29de6-1a50-4f4b-bc4f-704b1046d30e",
   "metadata": {},
   "outputs": [
    {
     "name": "stdout",
     "output_type": "stream",
     "text": [
      "['I am student \\n', 'I want to become Data Scientist \\n', 'I will be Data scientist one day']\n"
     ]
    }
   ],
   "source": [
    "with open(\"10Feb.text\", \"r\") as f:\n",
    "    lines = f.readlines()  \n",
    "    print(lines)"
   ]
  },
  {
   "cell_type": "markdown",
   "id": "1beffa94-10ca-45db-affd-f9e7675b351e",
   "metadata": {},
   "source": [
    "# 5.\n",
    "### Explain why with statement is used with open(). What is the advantage of using with statement and open() together?\n",
    "\n",
    "#### -->The with statement works with the open() function to open a file. Unlike open() where you have to close the file with the close() method, the with statement closes the file for you without you telling it to. This is because the with statement calls 2 built-in methods behind the scene – enter() and exit()."
   ]
  },
  {
   "cell_type": "markdown",
   "id": "ce0a9852-6297-4b11-9769-9d1697466e6f",
   "metadata": {},
   "source": [
    "# 6.\n",
    "### Explain the write() and writelines() functions. Give a suitable example."
   ]
  },
  {
   "cell_type": "markdown",
   "id": "9e9fe3f8-e3df-42aa-a0af-ced3ebe9faad",
   "metadata": {},
   "source": [
    "#### --> The only difference between the write() and writelines() is that write() is used to write a string to an already opened file while writelines() method is used to write a list of strings in an opened file."
   ]
  },
  {
   "cell_type": "code",
   "execution_count": 9,
   "id": "850a050d-2506-4370-8e45-bded98a91354",
   "metadata": {},
   "outputs": [],
   "source": [
    "with open(\"10Feb2.txt\", \"w\") as f:\n",
    "    f.write(\"Hello world!\\n\")\n",
    "    f.write(\"This is a text file.\\n\")"
   ]
  },
  {
   "cell_type": "code",
   "execution_count": 10,
   "id": "5a11b9de-3d15-4508-85f3-c26019ef630c",
   "metadata": {},
   "outputs": [],
   "source": [
    "with open(\"10Feb3.txt\", \"w\") as f:\n",
    "    lines = [\"Hello Friends!\\n\", \"Nice to meet you.\\n\"]\n",
    "    f.writelines(lines)"
   ]
  },
  {
   "cell_type": "code",
   "execution_count": null,
   "id": "66d2dce5-d62e-46e8-856d-739779b71e51",
   "metadata": {},
   "outputs": [],
   "source": []
  },
  {
   "cell_type": "code",
   "execution_count": null,
   "id": "b5cbd939-c5cc-4a0c-9b98-fff0aaa2fdd0",
   "metadata": {},
   "outputs": [],
   "source": []
  },
  {
   "cell_type": "code",
   "execution_count": null,
   "id": "0c1046c6-c939-4f12-9d63-d0a2841dfd61",
   "metadata": {},
   "outputs": [],
   "source": []
  },
  {
   "cell_type": "code",
   "execution_count": null,
   "id": "ed572294-ba93-4659-b4e8-072eb9c85b48",
   "metadata": {},
   "outputs": [],
   "source": []
  },
  {
   "cell_type": "code",
   "execution_count": null,
   "id": "c8b11a33-c8ef-4603-b138-bd6bdb7446de",
   "metadata": {},
   "outputs": [],
   "source": []
  },
  {
   "cell_type": "code",
   "execution_count": null,
   "id": "b97f9227-1f83-439e-8b0c-43eca99c2ca8",
   "metadata": {},
   "outputs": [],
   "source": []
  },
  {
   "cell_type": "code",
   "execution_count": null,
   "id": "4d72420a-5a2a-4bec-b8c4-12b7f32031d2",
   "metadata": {},
   "outputs": [],
   "source": []
  },
  {
   "cell_type": "code",
   "execution_count": null,
   "id": "6846d8b4-7ce0-4a6c-9929-43b52a5738b9",
   "metadata": {},
   "outputs": [],
   "source": []
  },
  {
   "cell_type": "code",
   "execution_count": null,
   "id": "401090d2-9f16-4d33-a3e2-4b2b8f43ffd4",
   "metadata": {},
   "outputs": [],
   "source": []
  },
  {
   "cell_type": "code",
   "execution_count": null,
   "id": "4016ec18-2efe-4e73-83ff-5919afc57df0",
   "metadata": {},
   "outputs": [],
   "source": []
  },
  {
   "cell_type": "code",
   "execution_count": null,
   "id": "702a0264-2d70-4cac-8763-c69006ea6276",
   "metadata": {},
   "outputs": [],
   "source": []
  },
  {
   "cell_type": "code",
   "execution_count": null,
   "id": "a444db72-75b0-4fad-a952-d586a66a3db9",
   "metadata": {},
   "outputs": [],
   "source": []
  },
  {
   "cell_type": "code",
   "execution_count": null,
   "id": "6e2e9d78-c650-4f4f-af2b-11aa39c25911",
   "metadata": {},
   "outputs": [],
   "source": []
  },
  {
   "cell_type": "code",
   "execution_count": null,
   "id": "f9e56b63-a808-4318-957f-a548ba636b8d",
   "metadata": {},
   "outputs": [],
   "source": []
  },
  {
   "cell_type": "code",
   "execution_count": null,
   "id": "20998b79-c08f-43dd-9b22-b2dc99684281",
   "metadata": {},
   "outputs": [],
   "source": []
  },
  {
   "cell_type": "code",
   "execution_count": null,
   "id": "b1c9b11c-8f45-4934-ad67-cdc5e948c5a8",
   "metadata": {},
   "outputs": [],
   "source": []
  },
  {
   "cell_type": "code",
   "execution_count": null,
   "id": "52dba7bb-aad6-4b69-8ddd-f85e07cfe4a3",
   "metadata": {},
   "outputs": [],
   "source": []
  },
  {
   "cell_type": "code",
   "execution_count": null,
   "id": "266fea4a-6e86-46f6-bc15-20ef0e602513",
   "metadata": {},
   "outputs": [],
   "source": []
  },
  {
   "cell_type": "code",
   "execution_count": null,
   "id": "1bcb4090-21da-4b9d-97f2-197557e91af4",
   "metadata": {},
   "outputs": [],
   "source": []
  },
  {
   "cell_type": "code",
   "execution_count": null,
   "id": "15d04518-c6d3-4e58-89af-30c181a016c2",
   "metadata": {},
   "outputs": [],
   "source": []
  },
  {
   "cell_type": "code",
   "execution_count": null,
   "id": "45c66a4a-2c21-42ad-bcfd-94a79a25e559",
   "metadata": {},
   "outputs": [],
   "source": []
  },
  {
   "cell_type": "code",
   "execution_count": null,
   "id": "944c24bf-fb24-40c7-bf98-9d3a946e660c",
   "metadata": {},
   "outputs": [],
   "source": []
  },
  {
   "cell_type": "code",
   "execution_count": null,
   "id": "da69154b-7c13-442b-85e5-dbd54fb63cb2",
   "metadata": {},
   "outputs": [],
   "source": []
  },
  {
   "cell_type": "code",
   "execution_count": null,
   "id": "d4aded74-d43b-4805-9bb4-6e56d28a0e29",
   "metadata": {},
   "outputs": [],
   "source": []
  },
  {
   "cell_type": "code",
   "execution_count": null,
   "id": "79ba4091-b9ea-476b-a686-5fd07ee6afbe",
   "metadata": {},
   "outputs": [],
   "source": []
  },
  {
   "cell_type": "code",
   "execution_count": null,
   "id": "84cdc0ef-4522-4b53-b57b-ac297d2b25a5",
   "metadata": {},
   "outputs": [],
   "source": [
    "\n"
   ]
  }
 ],
 "metadata": {
  "kernelspec": {
   "display_name": "Python 3 (ipykernel)",
   "language": "python",
   "name": "python3"
  },
  "language_info": {
   "codemirror_mode": {
    "name": "ipython",
    "version": 3
   },
   "file_extension": ".py",
   "mimetype": "text/x-python",
   "name": "python",
   "nbconvert_exporter": "python",
   "pygments_lexer": "ipython3",
   "version": "3.10.8"
  }
 },
 "nbformat": 4,
 "nbformat_minor": 5
}
