{
 "cells": [
  {
   "cell_type": "markdown",
   "id": "6ab952c1-963b-4198-8bd6-0e3dca2e60ba",
   "metadata": {
    "jp-MarkdownHeadingCollapsed": true,
    "tags": []
   },
   "source": [
    "# 1.\n",
    "## Explain the following with an example:\n",
    "## 1] Artificial Intelligence:\n",
    "### --> Artificial Intelligence (AI) refers to the development of computer systems or machines that can perform tasks that typically require human intelligence. \n",
    "### --> Self-driving cars, also known as autonomous vehicles, are a prominent example of AI in action. These vehicles use a combination of sensors, cameras, GPS, and machine learning algorithms to navigate and make decisions on the road, mimicking human driving behavior.\n",
    "## 2] Machine Learning:\n",
    "### --> Machine Learning (ML) is a subset of Artificial Intelligence (AI) that involves training algorithms to recognize patterns in data and make predictions or decisions without being explicitly programmed. Here's an example of machine learning:\n",
    "### --> Spam detection is a common use case of machine learning. Email service providers use machine learning algorithms to automatically identify and filter out spam emails from users' inboxes.\n",
    "## 3] Deep Learning:\n",
    "### --> Deep Learning (DL) is a subset of Machine Learning (ML) that involves training neural networks with multiple layers to learn complex patterns from data. Here's an example of deep learning:\n",
    "### --> Image recognition is a popular application of deep learning. Deep learning models, such as Convolutional Neural Networks (CNNs), can be trained on large datasets of labeled images to automatically recognize and classify objects or scenes in images."
   ]
  },
  {
   "cell_type": "markdown",
   "id": "b462afa4-f52f-4d05-a95d-6ab8582f91a8",
   "metadata": {},
   "source": [
    "# 2.\n",
    "## What is supervised learning? List some examples of supervised learning.\n",
    "### -->Supervised learning is a type of machine learning where an algorithm is trained on labeled data, where the correct outcomes or target labels are provided. The algorithm learns to make predictions or decisions based on the input data and the corresponding labeled outcomes. It is called \"supervised\" because the algorithm is provided with supervision in the form of labeled data during the training process.\n",
    "\n",
    "### 1]Image Classification: An algorithm is trained on a dataset of labeled images to learn how to classify images into different categories, such as cats, dogs, cars, or flowers.\n",
    "\n",
    "### 2]Spam Detection: An algorithm is trained on a dataset of labeled emails, where each email is categorized as spam or non-spam (ham), to learn how to automatically classify incoming emails as spam or non-spam.\n",
    "\n",
    "### 3]Stock Market Prediction: An algorithm is trained on historical stock market data, including stock prices and other relevant factors, to learn how to predict future stock prices.\n",
    "\n",
    "### 4]Medical Diagnosis: An algorithm is trained on a dataset of labeled medical records, including symptoms, patient history, and diagnostic outcomes, to learn how to diagnose diseases or conditions in patients.\n",
    "\n",
    "### 5]Sentiment Analysis: An algorithm is trained on a dataset of labeled text data, such as customer reviews or social media posts, to learn how to classify the sentiment of the text as positive, negative, or neutral."
   ]
  },
  {
   "cell_type": "markdown",
   "id": "25f1a257-388b-4a5c-b470-15142550e58f",
   "metadata": {},
   "source": [
    "# 3.\n",
    "## What is unsupervised learning? List some examples of unsupervised learning.\n",
    "### --> Unsupervised learning is a type of machine learning where an algorithm is trained on unlabeled data, where the correct outcomes or target labels are not provided. The algorithm learns to discover patterns or relationships within the data without any external supervision or guidance. Unsupervised learning is often used when the data is not labeled or when the goal is to explore and uncover hidden patterns in the data.\n",
    "\n",
    "### 1] Clustering: An algorithm is used to group data points into clusters or segments based on their similarities or patterns. For example, customer segmentation in marketing, where customers are grouped into segments based on their purchasing behaviors or demographics.\n",
    "### 2] Anomaly Detection: An algorithm is used to identify unusual or anomalous data points that do not conform to the general patterns or trends of the majority of the data. \n",
    "### 3] Dimensionality Reduction: An algorithm is used to reduce the dimensionality of high-dimensional data by extracting relevant features or representations. "
   ]
  },
  {
   "cell_type": "markdown",
   "id": "f1a7b3ea-36bb-4458-9bfb-8db9b4a03526",
   "metadata": {},
   "source": [
    "# 4.\n",
    "## What is the difference between AI, ML, DL, and DS?\n",
    "### 1] Artificial Intelligence (AI): AI refers to the simulation of human intelligence in machines that are programmed to perform tasks that normally require human intelligence, such as visual perception, speech recognition, decision-making, and problem-solving. AI can be either rule-based or learning-based, and it encompasses a wide range of techniques and technologies.\n",
    "### 2] Machine Learning (ML): Machine Learning is a subset of AI that involves the use of algorithms and statistical models that allow machines to automatically learn from data, improve their performance over time, and make predictions or decisions without being explicitly programmed. ML algorithms can be supervised, unsupervised, or reinforcement-based. \n",
    "### 3] Deep Learning (DL): Deep Learning is a subfield of Machine Learning that focuses on neural networks with multiple layers, also known as deep neural networks. Deep Learning algorithms are designed to automatically learn hierarchical representations of data from raw input data, such as images, speech signals, or text, by using multiple layers of interconnected nodes.\n",
    "### 4] Data Science (DS): Data Science is a multidisciplinary field that involves the extraction of insights and knowledge from data by using various techniques, tools, and methods. It encompasses data analysis, data visualization, statistical modeling, machine learning, and other related disciplines. Data Scientists use their skills and expertise to analyze and interpret data, identify patterns, develop predictive models, and make data-driven decisions."
   ]
  },
  {
   "cell_type": "markdown",
   "id": "862c37e1-7195-48b2-9942-38517e86f967",
   "metadata": {},
   "source": [
    "# 5.\n",
    "## What are the main differences between supervised, unsupervised, and semi-supervised learning?\n",
    "### 1] Supervised Learning: In supervised learning, the algorithm is trained on labeled data, where the correct outcomes or target labels are provided. The algorithm learns to map input data to the corresponding output labels based on the provided labeled examples. Supervised learning is used for tasks where the desired output is known, and the goal is to learn the mapping from input to output based on the labeled data. \n",
    "### 2] Unsupervised Learning: In unsupervised learning, the algorithm is trained on unlabeled data, where the correct outcomes or target labels are not provided. The algorithm learns to discover patterns or relationships within the data without any external supervision or guidance. Unsupervised learning is used for tasks where the data is not labeled or when the goal is to explore and uncover hidden patterns in the data. \n",
    "### 3] Semi-Supervised Learning: Semi-supervised learning is a combination of supervised and unsupervised learning. It uses a small amount of labeled data along with a large amount of unlabeled data for training. The algorithm leverages the labeled data to guide the learning process, while also utilizing the unlabeled data to discover additional patterns or relationships in the data. Semi-supervised learning is used when labeled data is scarce or expensive to obtain, but some labeled examples are available for guidance. "
   ]
  },
  {
   "cell_type": "markdown",
   "id": "278a1974-02d1-4b6b-91ab-9467713d94d4",
   "metadata": {},
   "source": [
    "# 6.\n",
    "## What is train, test and validation split? Explain the importance of each term.\n",
    "### 1] Train Set: The train set, also known as the training set, is a portion of the dataset that is used to train the machine learning model. It contains labeled examples that are used to train the model to learn patterns, relationships, or representations in the data. The model is trained on the train set to adjust its parameters or weights so that it can make accurate predictions or classifications on unseen data.\n",
    "### 2] Test Set: The test set, also known as the testing set or evaluation set, is a portion of the dataset that is used to evaluate the performance of the trained model. It contains labeled examples that are not used during the training phase. The model is applied to the test set to make predictions or classifications.\n",
    "### 3] Validation Set: The validation set, also known as the validation data or development set, is a portion of the dataset that is used to tune the hyperparameters of the machine learning model and perform model selection. Hyperparameters are the settings or configurations of the model that are not learned during training, but need to be manually set.\n",
    "## Importance: \n",
    "### 1] Train Set: The train set is used to train the machine learning model, allowing it to learn patterns, relationships, or representations in the data. It is the foundation for building a model that can make accurate predictions or classifications on unseen data.\n",
    "### 2] Test Set:The test set is used to evaluate the performance of the trained model. It provides an unbiased assessment of the model's ability to generalize to unseen data and make accurate predictions or classifications.\n",
    "### 3] Validation Set: The validation set is used to tune the hyperparameters of the model and perform model selection. It helps in finding the optimal hyperparameter settings for the model, leading to improved model performance."
   ]
  },
  {
   "cell_type": "markdown",
   "id": "6f888413-89ec-4a4f-9339-9ca8c6103cbb",
   "metadata": {},
   "source": [
    "# 7.\n",
    "## How can unsupervised learning be used in anomaly detection?\n",
    "### --> Unsupervised learning can be used in anomaly detection by identifying patterns in the data that are different from the majority of the data points. Anomaly detection refers to the process of detecting unusual or rare events, patterns, or observations in data. Here are some common unsupervised learning techniques that can be used for anomaly detection:\n",
    "### 1] Clustering: Clustering is an unsupervised learning technique that groups similar data points together. In anomaly detection, we can cluster the data points and identify clusters that have significantly fewer points than the others, as these can potentially represent anomalies.\n",
    "### 2] Density-based methods: Density-based methods, such as DBSCAN, can be used to identify regions of the data that have lower density than others. These regions can potentially contain anomalies.\n",
    "### 3] Autoencoders: Autoencoders are neural networks that are trained to reconstruct their input. In anomaly detection, we can train an autoencoder on the normal data and use it to reconstruct new data points. If the reconstruction error is high, it can indicate that the new data point is an anomaly."
   ]
  },
  {
   "cell_type": "markdown",
   "id": "6d1c4416-08cd-47cf-8c5b-db50e4eb1396",
   "metadata": {},
   "source": [
    "# 8.\n",
    "## List down some commonly used supervised learnineg algorithms and unsupervised learning algorithms.\n",
    "### Supervised learning algorithms:\n",
    "\n",
    "#### 1] Linear regression\n",
    "#### 2] Logistic regression\n",
    "#### 3] Decision trees\n",
    "#### 4] Random forests\n",
    "#### 5] Support vector machines (SVM)\n",
    "#### 6] k-nearest neighbors (k-NN)\n",
    "#### 7] Naive Bayes\n",
    "#### 8] Artificial Neural Networks (ANN)\n",
    "\n",
    "### Unsupervised learning algorithms:\n",
    "#### 1] Clustering (K-means, Hierarchical clustering)\n",
    "#### 2] Principal Component Analysis (PCA)\n",
    "#### 3] Independent Component Analysis (ICA)\n",
    "#### 4] Autoencoders\n",
    "#### 5] Generative Adversarial Networks (GAN)\n",
    "#### 6] t-distributed Stochastic Neighbor Embedding (t-SNE)\n",
    "#### 7] Self-organizing maps (SOM)\n",
    "#### 8] Apriori algorithm"
   ]
  },
  {
   "cell_type": "code",
   "execution_count": null,
   "id": "e9dd4bc4-3084-438b-b91b-3eb7b8a05dd6",
   "metadata": {},
   "outputs": [],
   "source": []
  }
 ],
 "metadata": {
  "kernelspec": {
   "display_name": "Python 3 (ipykernel)",
   "language": "python",
   "name": "python3"
  },
  "language_info": {
   "codemirror_mode": {
    "name": "ipython",
    "version": 3
   },
   "file_extension": ".py",
   "mimetype": "text/x-python",
   "name": "python",
   "nbconvert_exporter": "python",
   "pygments_lexer": "ipython3",
   "version": "3.10.8"
  }
 },
 "nbformat": 4,
 "nbformat_minor": 5
}
