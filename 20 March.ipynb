{
 "cells": [
  {
   "cell_type": "markdown",
   "id": "357654a2-7f43-4cb4-8ec8-3b1ff47c319c",
   "metadata": {},
   "source": [
    "# 1. What is data encoding? How is it useful in data science?\n",
    "### --> Data encoding is the process of converting data from one format or representation to another, such as converting text into numerical values that can be processed by a machine learning algorithm. In data science, data encoding is useful for a variety of reasons:\n",
    "### 1] Preparing data for analysis\n",
    "### 2] Handling missing data\n",
    "### 3] Reducing data size\n",
    "### 4] Feature extraction"
   ]
  },
  {
   "cell_type": "markdown",
   "id": "4a0caa3b-c4ea-4c0c-8a1e-3aa5f14ebfc6",
   "metadata": {},
   "source": [
    "# 2. What is nominal encoding? Provide an example of how you would use it in a real-world scenario.\n",
    "### -->Nominal encoding, also known as one-hot encoding, is a data encoding technique used to represent categorical data as binary vectors. Each category is represented by a binary vector with a value of 1 in the position corresponding to the category and a value of 0 in all other positions.\n",
    "\n",
    "### For example let's say you have a dataset of customer information for an online store, and one of the features is \"Payment Method\" with categories \"Credit Card\", \"PayPal\", \"Apple Pay\", and \"Google Wallet\". To use this data in a machine learning model, you could encode this feature using nominal encoding. The resulting binary vectors would look like:\n",
    "\n",
    "#### Credit Card: [1, 0, 0, 0]\n",
    "#### PayPal: [0, 1, 0, 0]\n",
    "#### Apple Pay: [0, 0, 1, 0]\n",
    "#### Google Wallet: [0, 0, 0, 1]\n",
    "### -->This encoding allows the machine learning algorithm to understand the categorical data as numerical values, which is required for most machine learning algorithms to work."
   ]
  },
  {
   "cell_type": "markdown",
   "id": "e0b9c428-41b4-425d-b097-b8206c0246a2",
   "metadata": {},
   "source": [
    "# 3. In what situations is nominal encoding preferred over one-hot encoding? Provide a practical example.\n",
    "#### --> Nominal encoding and one-hot encoding are actually the same thing, and the terms are often used interchangeably. Both methods involve converting categorical data into numerical values by assigning each category a unique integer or binary vector. So, there are no situations where nominal encoding is preferred over one-hot encoding or vice versa, because they are essentially the same thing.\n",
    "\n",
    "#### --> A practical example of when ordinal encoding is preferred over nominal encoding is in the analysis of student grades in a class. Let's say we have a dataset with a categorical variable \"Grade\" with categories \"A\", \"B\", \"C\", \"D\", and \"F\". In this case, the categories have a natural ordering, where \"A\" is the highest grade and \"F\" is the lowest grade. Ordinal encoding would assign the values [5, 4, 3, 2, 1] to the categories \"A\", \"B\", \"C\", \"D\", and \"F\", respectively, whereas nominal encoding would assign unique binary vectors to each category without regard to the ordering. In this scenario, ordinal encoding would be more appropriate as it preserves the natural ordering of the categories."
   ]
  },
  {
   "cell_type": "markdown",
   "id": "926748cf-3752-4c7a-89ea-22a539fef73d",
   "metadata": {},
   "source": [
    "# 4.Suppose you have a dataset containing categorical data with 5 unique values. Which encoding technique would you use to transform this data into a format suitable for machine learning algorithms? Explain why you made this choice.\n",
    "### --> Assuming that the categorical data has no natural ordering, I would use one-hot encoding to transform this data into a format suitable for machine learning algorithms.\n",
    "\n",
    "### --> One-hot encoding would create a binary vector for each unique value in the categorical data, with a value of 1 in the position corresponding to the value and a value of 0 in all other positions. This would allow machine learning algorithms to treat each unique value as a separate feature with a binary value indicating its presence or absence.\n",
    "#### For example, if the categorical data contains the values \"red\", \"blue\", \"green\", \"yellow\", and \"orange\", one-hot encoding would create a binary vector for each value as follows:\n",
    "#### red: [1, 0, 0, 0, 0]\n",
    "#### blue: [0, 1, 0, 0, 0]\n",
    "#### green: [0, 0, 1, 0, 0]\n",
    "#### yellow: [0, 0, 0, 1, 0]\n",
    "#### orange: [0, 0, 0, 0, 1]\n",
    "#### -->Using one-hot encoding ensures that the categorical data is transformed into a format that can be easily processed by machine learning algorithms, without introducing any artificial ordering or relationships between the unique values. Additionally, one-hot encoding allows for the representation of a large number of unique values in the categorical data, without creating issues of sparsity in the encoded feature space."
   ]
  },
  {
   "cell_type": "markdown",
   "id": "a0e46124-d053-44ed-90cc-16f7c7f9a8ae",
   "metadata": {},
   "source": [
    "# 5. In a machine learning project, you have a dataset with 1000 rows and 5 columns. Two of the columns are categorical, and the remaining three columns are numerical. If you were to use nominal encoding to transform the categorical data, how many new columns would be created? Show your calculations.\n",
    "\n",
    "### --> If we use nominal encoding to transform the two categorical columns, we would create new binary columns for each unique category in the original columns. The number of new columns created would depend on the number of unique categories in each column.\n",
    "### --> To calculate the number of new columns created, we can count the number of unique categories in each categorical column, and then sum up the number of unique categories across both columns. For each unique category, we create a new binary column.\n",
    "### -->Assuming the first categorical column has 4 unique categories and the second categorical column has 6 unique categories, we would create:\n",
    "### 4 binary columns for the first categorical column\n",
    "### 6 binary columns for the second categorical column\n",
    "### Therefore, using nominal encoding to transform the categorical data would create a total of 4 + 6 = 10 new columns."
   ]
  },
  {
   "cell_type": "markdown",
   "id": "de2b34ea-ef12-45f8-a7a5-a7a26f79492c",
   "metadata": {},
   "source": [
    "# 6. You are working with a dataset containing information about different types of animals, including their species, habitat, and diet. Which encoding technique would you use to transform the categorical data into a format suitable for machine learning algorithms? Justify your answer.\n",
    "### One-hot encoding is useful for different types of animal.\n",
    "### For species ,habitat and diet we can use label encoding for animals."
   ]
  },
  {
   "cell_type": "markdown",
   "id": "db499976-7686-4555-813c-41d9fb1579f2",
   "metadata": {},
   "source": [
    "# 7. You are working on a project that involves predicting customer churn for a telecommunications company. You have a dataset with 5 features, including the customer's gender, age, contract type, monthly charges, and tenure. Which encoding technique(s) would you use to transform the categorical data into numerical data? Provide a step-by-step explanation of how you would implement the encoding.\n",
    "\n",
    "### For gender and contract type we use one hot encoding because there are only two unique values so there is no problem of dimensionality reduction.\n",
    "### For age,tenure and monthly charges there is no need to use encoding."
   ]
  },
  {
   "cell_type": "code",
   "execution_count": null,
   "id": "438f2d8a-64fa-4bd5-82c1-6240870c2233",
   "metadata": {},
   "outputs": [],
   "source": []
  }
 ],
 "metadata": {
  "kernelspec": {
   "display_name": "Python 3 (ipykernel)",
   "language": "python",
   "name": "python3"
  },
  "language_info": {
   "codemirror_mode": {
    "name": "ipython",
    "version": 3
   },
   "file_extension": ".py",
   "mimetype": "text/x-python",
   "name": "python",
   "nbconvert_exporter": "python",
   "pygments_lexer": "ipython3",
   "version": "3.10.8"
  }
 },
 "nbformat": 4,
 "nbformat_minor": 5
}
