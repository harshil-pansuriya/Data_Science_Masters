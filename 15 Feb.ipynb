{
 "cells": [
  {
   "cell_type": "markdown",
   "id": "8b5022a1-1817-44b0-b0ce-3265d5c2f626",
   "metadata": {},
   "source": [
    "# 1.\n",
    "## What is multiprocessing in python? Why is it useful?\n",
    "### --> Multiprocessing in Python is a way to parallelize the execution of multiple tasks by dividing them among multiple CPU cores or processors. It is useful for speeding up CPU-intensive tasks that can be broken down into smaller, independent units of work.\n",
    "\n",
    "### --> Python's multiprocessing module provides a way to create and manage parallel processes in Python. These processes can run simultaneously and independently of each other, allowing tasks to be executed in parallel, which can significantly improve performance and reduce the time required to complete the task.\n",
    "\n",
    "### --> Multiprocessing is particularly useful for tasks such as data processing, scientific computing, and machine learning, where large amounts of data need to be processed or complex calculations need to be performed. By leveraging the power of multiple CPUs or processors, multiprocessing can significantly reduce the time required to complete these tasks."
   ]
  },
  {
   "cell_type": "markdown",
   "id": "f41ca9be-b60b-438a-8cb7-9eab032f3f48",
   "metadata": {},
   "source": [
    "# 2.\n",
    "## What are the differences between multiprocessing and multithreading?\n",
    "### Some of the key differences between multiprocessing and multithreading are:\n",
    "\n",
    "### 1]Memory: In multiprocessing, each process has its own memory space, while in multithreading, all threads share the same memory space.\n",
    "\n",
    "### 2]Communication: Interprocess communication in multiprocessing is more complex than thread communication in multithreading, as processes need to use specific interprocess communication techniques. In multithreading, threads can easily communicate with each other by sharing data.\n",
    "\n",
    "### 3]Performance: Multiprocessing can provide better performance for CPU-bound tasks, as it can take advantage of multiple CPU cores. Multithreading is better suited for I/O-bound tasks, where waiting for I/O to complete can be done in parallel with other tasks.\n",
    "\n",
    "### 4]Complexity: Multiprocessing can be more complex to implement and debug than multithreading, as each process has its own memory space and resources. Multithreading can be simpler to implement, but care must be taken to avoid common issues such as race conditions and deadlocks."
   ]
  },
  {
   "cell_type": "markdown",
   "id": "45dc4acb-54d2-41cb-9912-1227bbe488f2",
   "metadata": {},
   "source": [
    "# 3.\n",
    "## Write a python code to create a process using the multiprocessing module."
   ]
  },
  {
   "cell_type": "code",
   "execution_count": 1,
   "id": "0888e112-ed1a-4299-a5f4-0c346df89040",
   "metadata": {},
   "outputs": [
    {
     "name": "stdout",
     "output_type": "stream",
     "text": [
      "This is a new process\n"
     ]
    }
   ],
   "source": [
    "import multiprocessing\n",
    "\n",
    "def my_function():\n",
    "    print(\"This is a new process\")\n",
    "\n",
    "if __name__ == '__main__':\n",
    "    \n",
    "    my_process = multiprocessing.Process(target=my_function)\n",
    "    my_process.start()\n",
    "    my_process.join()"
   ]
  },
  {
   "cell_type": "markdown",
   "id": "12632a57-8d1c-4026-b6c5-38c21c569ef9",
   "metadata": {},
   "source": [
    "# 4.\n",
    "## What is a multiprocessing pool in python? Why is it used?\n",
    "### --> A multiprocessing pool in Python is a way to parallelize the execution of a function across multiple input values, distributing the work among a pool of worker processes. It is a high-level abstraction that makes it easy to perform parallel processing tasks with minimal code changes.\n",
    "\n",
    "### --> The multiprocessing.Pool class provides a convenient way to create a pool of worker processes that can execute a given function with different input values in parallel. The input values can be provided as an iterable, such as a list, tuple, or generator, and the function will be executed with each input value assigned to a worker process."
   ]
  },
  {
   "cell_type": "code",
   "execution_count": 3,
   "id": "ee633153-9c42-4d7e-a470-a9feac69fb70",
   "metadata": {},
   "outputs": [
    {
     "name": "stdout",
     "output_type": "stream",
     "text": [
      "[2, 4, 6, 8, 10, 12, 14, 16, 18, 20]\n"
     ]
    }
   ],
   "source": [
    "import multiprocessing\n",
    "\n",
    "def process_data(data):\n",
    "    result = data * 2\n",
    "    return result\n",
    "\n",
    "if __name__ == '__main__':\n",
    "    with multiprocessing.Pool(processes=4) as pool:\n",
    "        input_data = [1, 2, 3, 4, 5, 6, 7, 8, 9, 10]\n",
    "        output_data = pool.map(process_data, input_data)\n",
    "\n",
    "    print(output_data)"
   ]
  },
  {
   "cell_type": "markdown",
   "id": "be909a39-4f54-4227-bfdd-2857a8dfb511",
   "metadata": {},
   "source": [
    "# 5.\n",
    "## How can we create a pool of worker processes in python using the multiprocessing module?"
   ]
  },
  {
   "cell_type": "code",
   "execution_count": 5,
   "id": "8b53047c-89c4-4826-8989-1132e9bd1e01",
   "metadata": {},
   "outputs": [
    {
     "name": "stdout",
     "output_type": "stream",
     "text": [
      "[20, 40, 60, 80, 100, 120, 140, 160, 180, 200]\n"
     ]
    }
   ],
   "source": [
    "import multiprocessing\n",
    "\n",
    "def worker_function(data):\n",
    "    \"\"\"Function to be executed by worker processes\"\"\"\n",
    "    result = data * 2\n",
    "    return result\n",
    "\n",
    "if __name__ == '__main__':\n",
    "    pool = multiprocessing.Pool(processes=4)\n",
    "    input_data = [10, 20, 30, 40, 50, 60, 70, 80, 90, 100]\n",
    "    results = pool.map(worker_function, input_data)\n",
    "    pool.close()\n",
    "    pool.join()\n",
    "\n",
    "    print(results)"
   ]
  },
  {
   "cell_type": "markdown",
   "id": "b1a751d7-3adf-4a56-867d-aacbbe5b3ae9",
   "metadata": {},
   "source": [
    "# 6.\n",
    "## Write a python program to create 4 processes, each process should print a different number using the multiprocessing module in python."
   ]
  },
  {
   "cell_type": "code",
   "execution_count": 6,
   "id": "f638961b-9d83-4682-aded-9ceff94de35f",
   "metadata": {},
   "outputs": [
    {
     "name": "stdout",
     "output_type": "stream",
     "text": [
      "1\n",
      "2\n",
      "3\n",
      "4\n"
     ]
    }
   ],
   "source": [
    "import multiprocessing\n",
    "\n",
    "def print_number(num):\n",
    "    print(num)\n",
    "\n",
    "if __name__ == '__main__':\n",
    "    numbers = [1, 2, 3, 4]\n",
    "\n",
    "    processes = []\n",
    "    for num in numbers:\n",
    "        process = multiprocessing.Process(target=print_number, args=(num,))\n",
    "        processes.append(process)\n",
    "    for process in processes:\n",
    "        process.start()\n",
    "    for process in processes:\n",
    "        process.join()"
   ]
  },
  {
   "cell_type": "code",
   "execution_count": null,
   "id": "52431c1d-d78f-4a79-b96c-5e06285f2a17",
   "metadata": {},
   "outputs": [],
   "source": []
  }
 ],
 "metadata": {
  "kernelspec": {
   "display_name": "Python 3 (ipykernel)",
   "language": "python",
   "name": "python3"
  },
  "language_info": {
   "codemirror_mode": {
    "name": "ipython",
    "version": 3
   },
   "file_extension": ".py",
   "mimetype": "text/x-python",
   "name": "python",
   "nbconvert_exporter": "python",
   "pygments_lexer": "ipython3",
   "version": "3.10.8"
  }
 },
 "nbformat": 4,
 "nbformat_minor": 5
}
