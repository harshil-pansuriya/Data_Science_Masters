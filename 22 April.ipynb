{
 "cells": [
  {
   "cell_type": "code",
   "execution_count": 13,
   "id": "954d1bc2-99ff-4da3-8be4-91a4431c0c33",
   "metadata": {},
   "outputs": [],
   "source": [
    "import numpy as np\n",
    "import pandas as pd\n",
    "from sklearn.neighbors import KNeighborsClassifier,KNeighborsRegressor\n",
    "from sklearn.model_selection import train_test_split,cross_val_score\n",
    "from sklearn.metrics import accuracy_score,mean_squared_error,r2_score\n",
    "from sklearn.preprocessing import StandardScaler,MinMaxScaler"
   ]
  },
  {
   "cell_type": "markdown",
   "id": "cbf1f1b8-2cd6-4c52-83d3-0d46c5021120",
   "metadata": {},
   "source": [
    "# 1.\n",
    "## Write a Python code to implement the KNN classifier algorithm on load_iris dataset in sklearn.datasets."
   ]
  },
  {
   "cell_type": "code",
   "execution_count": 2,
   "id": "ceb3241c-9244-46b1-bec8-704d59ad3adb",
   "metadata": {},
   "outputs": [
    {
     "name": "stdout",
     "output_type": "stream",
     "text": [
      "0.9083333333333333\n"
     ]
    }
   ],
   "source": [
    "from sklearn.datasets import load_iris\n",
    "iris=load_iris()\n",
    "X=iris.data\n",
    "y=iris.target\n",
    "\n",
    "X_test,X_train,y_test,y_train=train_test_split(X,y,test_size=0.2,random_state=42)\n",
    "\n",
    "clf=KNeighborsClassifier( n_neighbors=5)\n",
    "clf.fit(X_train,y_train)\n",
    "\n",
    "y_pred=clf.predict(X_test)\n",
    "print(accuracy_score(y_test,y_pred))"
   ]
  },
  {
   "cell_type": "markdown",
   "id": "19073474-c03b-4596-b386-e05ba077ae7f",
   "metadata": {},
   "source": [
    "# 2.\n",
    "## Write a Python code to implement the KNN regressor algorithm on load_boston dataset in sklearn.datasets."
   ]
  },
  {
   "cell_type": "code",
   "execution_count": 3,
   "id": "3d007b13-cf52-4685-978d-83e044b4334e",
   "metadata": {},
   "outputs": [
    {
     "name": "stdout",
     "output_type": "stream",
     "text": [
      "mean squared error: 535.9291712871287\n",
      "r2_score: 0.31447201596493557\n"
     ]
    }
   ],
   "source": [
    "df=pd.read_csv('Boston.csv')\n",
    "X = df.drop('age', axis=1)  \n",
    "y = df['age'] \n",
    "X_test,X_train,y_test,y_train=train_test_split(X,y,test_size=0.2,random_state=42)\n",
    "\n",
    "reg=KNeighborsRegressor()\n",
    "reg.fit(X_train,y_train)\n",
    "\n",
    "y_pred=reg.predict(X_test)\n",
    "\n",
    "print(\"mean squared error:\",mean_squared_error(y_test, y_pred))\n",
    "print(\"r2_score:\",r2_score(y_test,y_pred))"
   ]
  },
  {
   "cell_type": "markdown",
   "id": "5b00cdce-6973-414c-b5a5-011394e018f6",
   "metadata": {},
   "source": [
    "# 3.\n",
    "## Write a Python code snippet to find the optimal value of K for the KNN classifier algorithm using cross-validation on load_iris dataset in sklearn.datasets."
   ]
  },
  {
   "cell_type": "code",
   "execution_count": 4,
   "id": "4b6eb8c2-aa01-4963-9b0b-99d7dee599bc",
   "metadata": {},
   "outputs": [
    {
     "name": "stdout",
     "output_type": "stream",
     "text": [
      "K = 4: Mean Accuracy = 0.97\n",
      "K = 2: Mean Accuracy = 0.97\n",
      "K = 7: Mean Accuracy = 0.97\n",
      "K = 9: Mean Accuracy = 0.93\n",
      "K = 13: Mean Accuracy = 0.97\n",
      "K = 16: Mean Accuracy = 0.73\n",
      "K = 14: Mean Accuracy = 0.93\n",
      "K = 22: Mean Accuracy = 0.63\n",
      "best k is: 22\n"
     ]
    }
   ],
   "source": [
    "iris=load_iris()\n",
    "X=iris.data\n",
    "y=iris.target\n",
    "\n",
    "X_test,X_train,y_test,y_train=train_test_split(X,y,test_size=0.2,random_state=42)\n",
    "k_value=[4,2,7,9,13,16,14,22]\n",
    "CV={}\n",
    "for k in k_value:\n",
    "    clf=KNeighborsClassifier( n_neighbors=k)\n",
    "    score=cross_val_score(clf,X_train,y_train,cv=5)\n",
    "    CV[k]=np.mean(score)\n",
    "    \n",
    "k=max(CV,key=CV.get)\n",
    "for k,score in CV.items():\n",
    "    print(f\"K = {k}: Mean Accuracy = {score:.2f}\")\n",
    "print(\"best k is:\",k)"
   ]
  },
  {
   "cell_type": "markdown",
   "id": "2b5a5d60-5c56-4e5e-a510-2ae715f99376",
   "metadata": {},
   "source": [
    "# 4.\n",
    "## Implement the KNN regressor algorithm with feature scaling on load_boston dataset in sklearn.datasets."
   ]
  },
  {
   "cell_type": "code",
   "execution_count": 5,
   "id": "e9e97614-2d62-4239-aa6d-42d613ea0fb8",
   "metadata": {},
   "outputs": [
    {
     "data": {
      "text/html": [
       "<style>#sk-container-id-1 {color: black;background-color: white;}#sk-container-id-1 pre{padding: 0;}#sk-container-id-1 div.sk-toggleable {background-color: white;}#sk-container-id-1 label.sk-toggleable__label {cursor: pointer;display: block;width: 100%;margin-bottom: 0;padding: 0.3em;box-sizing: border-box;text-align: center;}#sk-container-id-1 label.sk-toggleable__label-arrow:before {content: \"▸\";float: left;margin-right: 0.25em;color: #696969;}#sk-container-id-1 label.sk-toggleable__label-arrow:hover:before {color: black;}#sk-container-id-1 div.sk-estimator:hover label.sk-toggleable__label-arrow:before {color: black;}#sk-container-id-1 div.sk-toggleable__content {max-height: 0;max-width: 0;overflow: hidden;text-align: left;background-color: #f0f8ff;}#sk-container-id-1 div.sk-toggleable__content pre {margin: 0.2em;color: black;border-radius: 0.25em;background-color: #f0f8ff;}#sk-container-id-1 input.sk-toggleable__control:checked~div.sk-toggleable__content {max-height: 200px;max-width: 100%;overflow: auto;}#sk-container-id-1 input.sk-toggleable__control:checked~label.sk-toggleable__label-arrow:before {content: \"▾\";}#sk-container-id-1 div.sk-estimator input.sk-toggleable__control:checked~label.sk-toggleable__label {background-color: #d4ebff;}#sk-container-id-1 div.sk-label input.sk-toggleable__control:checked~label.sk-toggleable__label {background-color: #d4ebff;}#sk-container-id-1 input.sk-hidden--visually {border: 0;clip: rect(1px 1px 1px 1px);clip: rect(1px, 1px, 1px, 1px);height: 1px;margin: -1px;overflow: hidden;padding: 0;position: absolute;width: 1px;}#sk-container-id-1 div.sk-estimator {font-family: monospace;background-color: #f0f8ff;border: 1px dotted black;border-radius: 0.25em;box-sizing: border-box;margin-bottom: 0.5em;}#sk-container-id-1 div.sk-estimator:hover {background-color: #d4ebff;}#sk-container-id-1 div.sk-parallel-item::after {content: \"\";width: 100%;border-bottom: 1px solid gray;flex-grow: 1;}#sk-container-id-1 div.sk-label:hover label.sk-toggleable__label {background-color: #d4ebff;}#sk-container-id-1 div.sk-serial::before {content: \"\";position: absolute;border-left: 1px solid gray;box-sizing: border-box;top: 0;bottom: 0;left: 50%;z-index: 0;}#sk-container-id-1 div.sk-serial {display: flex;flex-direction: column;align-items: center;background-color: white;padding-right: 0.2em;padding-left: 0.2em;position: relative;}#sk-container-id-1 div.sk-item {position: relative;z-index: 1;}#sk-container-id-1 div.sk-parallel {display: flex;align-items: stretch;justify-content: center;background-color: white;position: relative;}#sk-container-id-1 div.sk-item::before, #sk-container-id-1 div.sk-parallel-item::before {content: \"\";position: absolute;border-left: 1px solid gray;box-sizing: border-box;top: 0;bottom: 0;left: 50%;z-index: -1;}#sk-container-id-1 div.sk-parallel-item {display: flex;flex-direction: column;z-index: 1;position: relative;background-color: white;}#sk-container-id-1 div.sk-parallel-item:first-child::after {align-self: flex-end;width: 50%;}#sk-container-id-1 div.sk-parallel-item:last-child::after {align-self: flex-start;width: 50%;}#sk-container-id-1 div.sk-parallel-item:only-child::after {width: 0;}#sk-container-id-1 div.sk-dashed-wrapped {border: 1px dashed gray;margin: 0 0.4em 0.5em 0.4em;box-sizing: border-box;padding-bottom: 0.4em;background-color: white;}#sk-container-id-1 div.sk-label label {font-family: monospace;font-weight: bold;display: inline-block;line-height: 1.2em;}#sk-container-id-1 div.sk-label-container {text-align: center;}#sk-container-id-1 div.sk-container {/* jupyter's `normalize.less` sets `[hidden] { display: none; }` but bootstrap.min.css set `[hidden] { display: none !important; }` so we also need the `!important` here to be able to override the default hidden behavior on the sphinx rendered scikit-learn.org. See: https://github.com/scikit-learn/scikit-learn/issues/21755 */display: inline-block !important;position: relative;}#sk-container-id-1 div.sk-text-repr-fallback {display: none;}</style><div id=\"sk-container-id-1\" class=\"sk-top-container\"><div class=\"sk-text-repr-fallback\"><pre>KNeighborsRegressor()</pre><b>In a Jupyter environment, please rerun this cell to show the HTML representation or trust the notebook. <br />On GitHub, the HTML representation is unable to render, please try loading this page with nbviewer.org.</b></div><div class=\"sk-container\" hidden><div class=\"sk-item\"><div class=\"sk-estimator sk-toggleable\"><input class=\"sk-toggleable__control sk-hidden--visually\" id=\"sk-estimator-id-1\" type=\"checkbox\" checked><label for=\"sk-estimator-id-1\" class=\"sk-toggleable__label sk-toggleable__label-arrow\">KNeighborsRegressor</label><div class=\"sk-toggleable__content\"><pre>KNeighborsRegressor()</pre></div></div></div></div></div>"
      ],
      "text/plain": [
       "KNeighborsRegressor()"
      ]
     },
     "execution_count": 5,
     "metadata": {},
     "output_type": "execute_result"
    }
   ],
   "source": [
    "scaler=MinMaxScaler()\n",
    "X_trained=scaler.fit_transform(X_train)\n",
    "X_tested=scaler.transform(X_test)\n",
    "\n",
    "reg.fit(X_trained,y_train)"
   ]
  },
  {
   "cell_type": "code",
   "execution_count": 7,
   "id": "18f01ee0-8d91-4e6c-8b68-1e8726fe58b1",
   "metadata": {},
   "outputs": [],
   "source": [
    "y_pred=reg.predict(X_tested)"
   ]
  },
  {
   "cell_type": "code",
   "execution_count": 8,
   "id": "e378b2fd-09c5-47f9-a13f-842b4d271f1c",
   "metadata": {},
   "outputs": [
    {
     "name": "stdout",
     "output_type": "stream",
     "text": [
      "mean squared error: 0.048666666666666664\n",
      "r2_score: 0.9260681506488027\n"
     ]
    }
   ],
   "source": [
    "print(\"mean squared error:\", mean_squared_error(y_test, y_pred))\n",
    "print(\"r2_score:\",r2_score(y_test,y_pred))"
   ]
  },
  {
   "cell_type": "markdown",
   "id": "8418e532-3f1a-4ba3-83e7-6702f2d99718",
   "metadata": {},
   "source": [
    "# 5.\n",
    "## Write a Python code snippet to implement the KNN classifier algorithm with weighted voting on load_iris dataset in sklearn.datasets."
   ]
  },
  {
   "cell_type": "code",
   "execution_count": 27,
   "id": "3431f4c1-b02f-4773-84f5-46d6724b391d",
   "metadata": {},
   "outputs": [
    {
     "name": "stdout",
     "output_type": "stream",
     "text": [
      "Accuracy score:  0.4083333333333333\n"
     ]
    }
   ],
   "source": [
    "iris=load_iris()\n",
    "X=iris.data\n",
    "y=iris.target\n",
    "\n",
    "X_test,X_train,y_test,y_train=train_test_split(X,y,test_size=0.2,random_state=42)\n",
    "\n",
    "scaler=StandardScaler()\n",
    "X_trained=scaler.fit_transform(X_train)\n",
    "x_tested=scaler.fit(X_test)\n",
    "\n",
    "weights='distance'\n",
    "model=KNeighborsClassifier(n_neighbors=5,weights=weights)\n",
    "\n",
    "model.fit(X_trained,y_train)\n",
    "\n",
    "y_pred=model.predict(X_tested)\n",
    "\n",
    "print(\"Accuracy score: \",accuracy_score(y_test,y_pred))"
   ]
  },
  {
   "cell_type": "markdown",
   "id": "7ad1bc84-3753-4338-8ffb-859ad70175f6",
   "metadata": {},
   "source": [
    "# 6.\n",
    "## Implement a function to standardise the features before applying KNN classifier."
   ]
  },
  {
   "cell_type": "code",
   "execution_count": 29,
   "id": "7ef477bd-9d33-442d-8660-1fb8b7db8018",
   "metadata": {},
   "outputs": [],
   "source": [
    "def standardize_features(X):\n",
    "\n",
    "    # Calculate the mean and standard deviation of each feature.\n",
    "    mu = np.mean(X, axis=0)\n",
    "    sigma = np.std(X, axis=0)\n",
    "\n",
    "    # Standardize each feature.\n",
    "    standardized_features = (X - mu) / sigma\n",
    "    return standardized_features"
   ]
  },
  {
   "cell_type": "markdown",
   "id": "6638bb1d-2953-4025-aafb-70f2e8ff8975",
   "metadata": {},
   "source": [
    "# 7.\n",
    "## Write a Python function to calculate the euclidean distance between two points."
   ]
  },
  {
   "cell_type": "code",
   "execution_count": 9,
   "id": "501a9626-d686-4201-a63e-b5d862a4b55c",
   "metadata": {},
   "outputs": [],
   "source": [
    "def euclidean_distance(point1, point2):\n",
    "    x1, y1 = point1\n",
    "    x2, y2 = point2\n",
    "    distance = math.sqrt((x2 - x1)**2 + (y2 - y1)**2)\n",
    "    return distance"
   ]
  },
  {
   "cell_type": "markdown",
   "id": "fdbd0476-0728-419d-83ab-ebbcc37bf449",
   "metadata": {},
   "source": [
    "# 8.\n",
    "## Write a Python function to calculate the manhattan distance between two points."
   ]
  },
  {
   "cell_type": "code",
   "execution_count": 10,
   "id": "50633535-c244-41af-86a7-2938dc7b4a5b",
   "metadata": {},
   "outputs": [],
   "source": [
    "def manhattan_distance(point1, point2):\n",
    "    x1, y1 = point1\n",
    "    x2, y2 = point2\n",
    "    distance = abs(x2 - x1) + abs(y2 - y1)\n",
    "    return distance"
   ]
  },
  {
   "cell_type": "code",
   "execution_count": null,
   "id": "26feecad-515d-4593-8aa4-536ff598f112",
   "metadata": {},
   "outputs": [],
   "source": []
  }
 ],
 "metadata": {
  "kernelspec": {
   "display_name": "Python 3 (ipykernel)",
   "language": "python",
   "name": "python3"
  },
  "language_info": {
   "codemirror_mode": {
    "name": "ipython",
    "version": 3
   },
   "file_extension": ".py",
   "mimetype": "text/x-python",
   "name": "python",
   "nbconvert_exporter": "python",
   "pygments_lexer": "ipython3",
   "version": "3.10.8"
  }
 },
 "nbformat": 4,
 "nbformat_minor": 5
}
