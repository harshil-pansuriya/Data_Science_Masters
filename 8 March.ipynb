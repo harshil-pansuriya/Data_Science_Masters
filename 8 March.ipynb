{
 "cells": [
  {
   "cell_type": "markdown",
   "id": "9b7a4c8c-0edf-4cba-ae0e-973407e520c2",
   "metadata": {},
   "source": [
    "# 1.\n",
    "## What is the Probability density function?\n",
    "#### --> The probability density function (PDF) is a mathematical function that describes the likelihood of a random variable taking on a particular value within a given range. Specifically, the PDF is a function that maps every possible outcome of a random variable to a probability value between 0 and 1.\n",
    "#### --> For a continuous random variable, the PDF is defined as the derivative of the cumulative distribution function (CDF), which gives the probability that the variable takes on a value less than or equal to a given value. The PDF is used to calculate the probability of a random variable falling within a particular interval by integrating the PDF over that interval."
   ]
  },
  {
   "cell_type": "markdown",
   "id": "03cbf777-cefb-47a2-b031-afda2300f305",
   "metadata": {
    "tags": []
   },
   "source": [
    "# 2.\n",
    "## What are the types of Probability distribution?\n",
    "\n",
    "### --> There are several types of probability distributions, each with its own characteristics and uses. Here are some of the most common types of probability distributions:\n",
    "\n",
    "#### 1] Normal distribution: Also known as the Gaussian distribution, it is a continuous probability distribution that is often used to model real-world phenomena that are symmetrical and bell-shaped, such as IQ scores or heights of people.\n",
    "\n",
    "#### 3] Binomial distribution: A discrete probability distribution that describes the number of successes in a fixed number of independent trials with two possible outcomes, such as flipping a coin.\n",
    "\n",
    "#### 4] Poisson distribution: A discrete probability distribution that describes the number of events occurring in a fixed interval of time or space, such as the number of cars passing through a toll booth in an hour.\n",
    "\n",
    "#### 5] Exponential distribution: A continuous probability distribution that describes the time between two events occurring independently of each other, such as the time between successive earthquakes.\n",
    "\n",
    "#### 6] Uniform distribution: A continuous probability distribution where all values in a given range have an equal likelihood of occurring, such as rolling a fair die.\n",
    "\n",
    "#### 7] Gamma distribution: A continuous probability distribution that describes the time until a specified number of events occur, such as the time until a light bulb burns out."
   ]
  },
  {
   "cell_type": "markdown",
   "id": "2a88ab11-d05e-4818-8fd2-135f4da4d175",
   "metadata": {},
   "source": [
    "# 3.\n",
    "## Write a Python function to calculate the probability density function of a normal distribution with given mean and standard deviation at a given point."
   ]
  },
  {
   "cell_type": "code",
   "execution_count": 14,
   "id": "b9d81a60-57d1-4d20-bb6f-422fb4856cd3",
   "metadata": {},
   "outputs": [
    {
     "name": "stdout",
     "output_type": "stream",
     "text": [
      "1.4867195147342977e-06\n"
     ]
    }
   ],
   "source": [
    "import math \n",
    "def normal_pdf(x,mean,std):\n",
    "    exponent = -(x - mean)**2 / (2 * std**2)\n",
    "    coefficient = 1 / (std * math.sqrt(2 * math.pi))\n",
    "    x= coefficient * math.exp(exponent)\n",
    "    print(x)\n",
    "normal_pdf(5,0,1)"
   ]
  },
  {
   "cell_type": "markdown",
   "id": "39dbded9-e5de-447d-95b6-3a7b2b388614",
   "metadata": {},
   "source": [
    "# 4.\n",
    "## What are the properties of Binomial distribution? Give two examples of events where binomial distribution can be applied.\n",
    "### --> he binomial distribution is a discrete probability distribution that describes the number of successes in a fixed number of independent trials with two possible outcomes, such as flipping a coin or rolling a die. Here are some of the properties of the binomial distribution:\n",
    "\n",
    "#### 1]The trials are independent of each other.\n",
    "#### 2]There are only two possible outcomes: success or failure.\n",
    "#### 3]The probability of success is constant across all trials.\n",
    "#### 4]The number of trials is fixed.\n",
    "#### 5]The trials are identical to each other.\n",
    "#### 6]The outcomes of each trial are mutually exclusive.\n",
    "\n",
    "#### Ex: 1] Tossing a fair coin 2] Rolling a fair dice"
   ]
  },
  {
   "cell_type": "markdown",
   "id": "df92dcc1-a2c8-48d8-b3c9-35bd73420f51",
   "metadata": {},
   "source": [
    "# 5.\n",
    "## Generate a random sample of size 1000 from a binomial distribution with probability of success 0.4 and plot a histogram of the results using matplotlib."
   ]
  },
  {
   "cell_type": "code",
   "execution_count": 4,
   "id": "4dffac15-4ad1-4757-96ad-d420c36ce55d",
   "metadata": {},
   "outputs": [
    {
     "data": {
      "image/png": "[encoded data removed]",
      "text/plain": [
       "<Figure size 640x480 with 1 Axes>"
      ]
     },
     "metadata": {},
     "output_type": "display_data"
    }
   ],
   "source": [
    "import matplotlib.pyplot as plt\n",
    "import numpy as np\n",
    "x= np.random.binomial(n=1,p=0.4,size=1000)\n",
    "plt.hist(x)\n",
    "plt.show()"
   ]
  },
  {
   "cell_type": "markdown",
   "id": "94d99aab-d207-4c1d-bacb-c0e3bb490dc4",
   "metadata": {},
   "source": [
    "# 6.\n",
    "## Write a Python function to calculate the cumulative distribution function of a Poisson distribution with given mean at a given point."
   ]
  },
  {
   "cell_type": "code",
   "execution_count": 17,
   "id": "ee3e0e57-1381-4dec-b6fc-df4ab6b03b16",
   "metadata": {},
   "outputs": [],
   "source": [
    "def poisson(x,mean):\n",
    "    ans=0\n",
    "    i=0\n",
    "    while i<=(math.floor(x)):\n",
    "        x=x+((mean**i)/math.factorial(i))\n",
    "        i=i+1\n",
    "    return x*(2.71828182846**(-mean))"
   ]
  },
  {
   "cell_type": "code",
   "execution_count": 19,
   "id": "bfe155aa-f27f-4e87-826d-0401f6389288",
   "metadata": {},
   "outputs": [
    {
     "data": {
      "text/plain": [
       "1.405997541484482"
      ]
     },
     "execution_count": 19,
     "metadata": {},
     "output_type": "execute_result"
    }
   ],
   "source": [
    "poisson(3,2)"
   ]
  },
  {
   "cell_type": "markdown",
   "id": "d8c514ca-8da2-4184-a50d-94427c980b2d",
   "metadata": {},
   "source": [
    "# 7.\n",
    "## How Binomial distribution different from Poisson distribution?\n",
    "\n",
    "#### --> The binomial distribution and the Poisson distribution are both commonly used in probability theory and statistics to model discrete random variables. However, there are some important differences between them.\n",
    "\n",
    "#### Number of trials,Probability of success,Dependence,Range of possible values,Parameterization,etc."
   ]
  },
  {
   "cell_type": "markdown",
   "id": "6975e78b-f631-46c9-a20f-7ed0d7c0e59f",
   "metadata": {},
   "source": [
    "# 8.\n",
    "## Generate a random sample of size 1000 from a Poisson distribution with mean 5 and calculate the sample mean and variance."
   ]
  },
  {
   "cell_type": "code",
   "execution_count": 20,
   "id": "2fc3d29e-afdb-4f86-af21-3af080f21222",
   "metadata": {},
   "outputs": [
    {
     "name": "stdout",
     "output_type": "stream",
     "text": [
      "5.052\n",
      "4.915296\n"
     ]
    }
   ],
   "source": [
    "x=np.random.poisson(lam=5,size=1000)\n",
    "print(np.mean(x))\n",
    "print(np.var(x))"
   ]
  },
  {
   "cell_type": "markdown",
   "id": "f33ad0ea-a9bd-4643-9309-99ebfe3ad895",
   "metadata": {},
   "source": [
    "# 9. \n",
    "## How mean and variance are related in Binomial distribution and Poisson distribution?\n",
    "\n",
    "## Binomial\n",
    "### -> Mean = np\n",
    "### -> Variance = npq\n",
    "## Poisson\n",
    "### -> Mean =  λ\n",
    "### -> Variance =  λ"
   ]
  },
  {
   "cell_type": "markdown",
   "id": "a96b9a8e-4316-444a-9b2a-0131846059c2",
   "metadata": {},
   "source": [
    "# 10.\n",
    "## In normal distribution with respect to mean position, where does the least frequent data appear?\n",
    "\n",
    "### -->In a normal distribution, the least frequent data appears in the tails of the distribution, which are the regions furthest away from the mean."
   ]
  },
  {
   "cell_type": "code",
   "execution_count": null,
   "id": "3c1c70b2-8554-4a46-841b-6bc21d7d400b",
   "metadata": {},
   "outputs": [],
   "source": []
  }
 ],
 "metadata": {
  "kernelspec": {
   "display_name": "Python 3 (ipykernel)",
   "language": "python",
   "name": "python3"
  },
  "language_info": {
   "codemirror_mode": {
    "name": "ipython",
    "version": 3
   },
   "file_extension": ".py",
   "mimetype": "text/x-python",
   "name": "python",
   "nbconvert_exporter": "python",
   "pygments_lexer": "ipython3",
   "version": "3.10.8"
  }
 },
 "nbformat": 4,
 "nbformat_minor": 5
}
