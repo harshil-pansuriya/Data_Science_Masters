{
 "cells": [
  {
   "cell_type": "markdown",
   "id": "526c74bc-4b53-4701-a286-62381ca09079",
   "metadata": {},
   "source": [
    "# 1.\n",
    "### Q1, Create a vehicle class with an init method having instance variables as name_of_vehicle, max_speed and average_of_vehicle."
   ]
  },
  {
   "cell_type": "code",
   "execution_count": 1,
   "id": "9271c45f-d41d-489b-ac6c-53a940da749a",
   "metadata": {},
   "outputs": [],
   "source": [
    "class vehicle:\n",
    "    def __init__(self,vehicle_name ,max_speed,average):\n",
    "        self.vehicle_name =vehicle_name \n",
    "        self.max_speed=max_speed\n",
    "        self.average=average"
   ]
  },
  {
   "cell_type": "markdown",
   "id": "b6879572-c1c7-4eee-9f45-9a0e7c5cb867",
   "metadata": {},
   "source": [
    "# 2.\n",
    "### Create a child class car from the vehicle class created in Que 1, which will inherit the vehicle class. Create a method named seating_capacity which takes capacity as an argument and returns the name of the vehicle and its seating capacity."
   ]
  },
  {
   "cell_type": "code",
   "execution_count": 2,
   "id": "36b5f986-55aa-46f5-8a82-b2c27739da65",
   "metadata": {},
   "outputs": [],
   "source": [
    "class car(vehicle):\n",
    "    def seating_capacity(self,capacity):\n",
    "        self.capacity=capacity\n",
    "        return capacity, self.vehicle_name"
   ]
  },
  {
   "cell_type": "code",
   "execution_count": 3,
   "id": "2a8adf35-1505-4463-8590-df71dcf8a5b5",
   "metadata": {},
   "outputs": [
    {
     "data": {
      "text/plain": [
       "(2, 'Buggati chiron')"
      ]
     },
     "execution_count": 3,
     "metadata": {},
     "output_type": "execute_result"
    }
   ],
   "source": [
    "Car=car(\"Buggati chiron\",490,5.8)\n",
    "Car.seating_capacity(2)"
   ]
  },
  {
   "cell_type": "markdown",
   "id": "2abd4d3d-b5ba-4eea-b559-542ba1fd93ce",
   "metadata": {},
   "source": [
    "# 3 .\n",
    "## What is multiple inheritance? Write a python code to demonstrate multiple inheritance."
   ]
  },
  {
   "cell_type": "markdown",
   "id": "633d61fc-e360-46b0-aef8-011e1771cee8",
   "metadata": {},
   "source": [
    "#### -> Multiple inheritance is a feature in object-oriented programming where a class can inherit properties and methods from multiple parent classes.\n"
   ]
  },
  {
   "cell_type": "code",
   "execution_count": 4,
   "id": "21d0e5f6-34b2-465d-b89b-61e5eac66fcc",
   "metadata": {},
   "outputs": [
    {
     "name": "stdout",
     "output_type": "stream",
     "text": [
      "Mammals is moving.\n",
      "winged animal can flap.\n"
     ]
    }
   ],
   "source": [
    "class animal:\n",
    "    def __init__(self,name):\n",
    "        self.name=name\n",
    "    def move(self):\n",
    "        print(f\"Can't fly {self.name}\")\n",
    "\n",
    "class Mammal(animal):\n",
    "    def mammal_info(self):\n",
    "        print(\"Mammals is moving.\")\n",
    "\n",
    "class Wingedanimal:\n",
    "    def winged_animal_info(self):\n",
    "        print(\"winged animal can flap.\")\n",
    "class bat(Mammal,Wingedanimal):\n",
    "    pass\n",
    "\n",
    "b=bat(\"animal\")\n",
    "b.mammal_info()\n",
    "b.winged_animal_info()"
   ]
  },
  {
   "cell_type": "markdown",
   "id": "d4db2328-7272-408e-8ff1-92f260786275",
   "metadata": {},
   "source": [
    "# 4.\n",
    "### What are getter and setter in python? Create a class and create a getter and a setter method in this class.\n",
    "#### --> In Python, getter and setter methods are used to access and modify the values of class attributes in a controlled way. \n",
    "#### Getter method: It is a method that is used to retrieve the value of a private attribute. It is also known as an accessor method. Getter methods start with the prefix get_ followed by the attribute name. \n",
    "#### Setter method: It is a method that is used to modify the value of a private attribute. It is also known as a mutator method. Setter methods start with the prefix set_ followed by the attribute name."
   ]
  },
  {
   "cell_type": "code",
   "execution_count": 13,
   "id": "5630e48a-ec38-4684-90db-458145a65df6",
   "metadata": {},
   "outputs": [],
   "source": [
    "class Price:\n",
    "    def __init__(self,price=0):\n",
    "        self._price=price\n",
    "        \n",
    "    def get_price(self):\n",
    "        return self._price\n",
    "    \n",
    "    def set_price(self ,a):\n",
    "        self._price = a"
   ]
  },
  {
   "cell_type": "code",
   "execution_count": 18,
   "id": "3c32dda7-e08b-4ee6-9ef5-db75fc2a1f4c",
   "metadata": {},
   "outputs": [
    {
     "name": "stdout",
     "output_type": "stream",
     "text": [
      "0\n",
      "2000\n",
      "2000\n"
     ]
    }
   ],
   "source": [
    "product=Price()\n",
    "print(product.get_price())\n",
    "product.set_price(2000)\n",
    "print(product.get_price())\n",
    "print(product._price)"
   ]
  },
  {
   "cell_type": "markdown",
   "id": "360da387-3139-41a9-86ef-20317bf55ee9",
   "metadata": {},
   "source": [
    "# 5.\n",
    "### What is method overriding in python? Write a python code to demonstrate method overriding.\n",
    "#### --> Method overriding is a feature in object-oriented programming where a subclass provides a different implementation of a method that is already defined in its parent class.\n",
    "#### When a method is called on an instance of the subclass, the implementation in the subclass is used instead of the implementation in the parent class."
   ]
  },
  {
   "cell_type": "code",
   "execution_count": 22,
   "id": "5fb1c30e-5a83-425d-8263-a576930c029c",
   "metadata": {},
   "outputs": [],
   "source": [
    "class animal():\n",
    "    def sound(self):\n",
    "        print(\"sound like:\")\n",
    "        \n",
    "class dog(animal):\n",
    "    def sound(self):\n",
    "        animal.sound(self)\n",
    "        print(\"Bhao Bhao\")"
   ]
  },
  {
   "cell_type": "code",
   "execution_count": 23,
   "id": "a10a3a2f-d26a-4117-a62d-441e2bf9c9bd",
   "metadata": {},
   "outputs": [
    {
     "name": "stdout",
     "output_type": "stream",
     "text": [
      "sound like:\n",
      "Bhao Bhao\n"
     ]
    }
   ],
   "source": [
    "obj=dog()\n",
    "obj.sound()"
   ]
  },
  {
   "cell_type": "code",
   "execution_count": null,
   "id": "57eb567f-46d9-4de6-8aba-0a2eae3915a2",
   "metadata": {},
   "outputs": [],
   "source": []
  },
  {
   "cell_type": "code",
   "execution_count": null,
   "id": "0145efdd-27c7-4219-8aaa-010a468ca8c9",
   "metadata": {},
   "outputs": [],
   "source": []
  },
  {
   "cell_type": "code",
   "execution_count": null,
   "id": "91139cbd-3ad1-4d26-8b88-da4dd958e67a",
   "metadata": {},
   "outputs": [],
   "source": []
  },
  {
   "cell_type": "code",
   "execution_count": null,
   "id": "16595b97-c8a9-4336-80a2-df729dcb8ec6",
   "metadata": {},
   "outputs": [],
   "source": []
  },
  {
   "cell_type": "code",
   "execution_count": null,
   "id": "3e203ff4-41a8-4bc5-b103-9d8bd6bc2c6b",
   "metadata": {},
   "outputs": [],
   "source": []
  },
  {
   "cell_type": "code",
   "execution_count": null,
   "id": "b6abbb58-52e8-4139-8bbd-e6a056329c6d",
   "metadata": {},
   "outputs": [],
   "source": []
  },
  {
   "cell_type": "code",
   "execution_count": null,
   "id": "fcb03af0-c2ae-485a-95db-fb66c43ae127",
   "metadata": {},
   "outputs": [],
   "source": []
  },
  {
   "cell_type": "code",
   "execution_count": null,
   "id": "d564d5b3-4304-4a00-8f04-7cc6156da0f0",
   "metadata": {},
   "outputs": [],
   "source": []
  },
  {
   "cell_type": "code",
   "execution_count": null,
   "id": "4911944d-38cc-4541-8639-85e8f4d6ff21",
   "metadata": {},
   "outputs": [],
   "source": []
  },
  {
   "cell_type": "code",
   "execution_count": null,
   "id": "63a36333-d251-4e73-b137-f27aa7064d4c",
   "metadata": {},
   "outputs": [],
   "source": []
  },
  {
   "cell_type": "code",
   "execution_count": null,
   "id": "a84fa1f5-9d67-4ccf-8424-b795624cf8f5",
   "metadata": {},
   "outputs": [],
   "source": []
  },
  {
   "cell_type": "code",
   "execution_count": null,
   "id": "38e2e478-5af7-4b4a-bac8-b67e42e77e1a",
   "metadata": {},
   "outputs": [],
   "source": []
  },
  {
   "cell_type": "code",
   "execution_count": null,
   "id": "ca5904a2-f333-4629-af8c-f33de55869a2",
   "metadata": {},
   "outputs": [],
   "source": []
  },
  {
   "cell_type": "code",
   "execution_count": null,
   "id": "d713f5be-4463-420d-8c7d-ebeab607c989",
   "metadata": {},
   "outputs": [],
   "source": []
  },
  {
   "cell_type": "code",
   "execution_count": null,
   "id": "b40c1da6-d41a-47dc-88d4-82181581c459",
   "metadata": {},
   "outputs": [],
   "source": []
  },
  {
   "cell_type": "code",
   "execution_count": null,
   "id": "6c00c36f-158b-4659-a6ba-b962b5ecbd58",
   "metadata": {},
   "outputs": [],
   "source": []
  },
  {
   "cell_type": "code",
   "execution_count": null,
   "id": "2393c327-0d6f-472e-a46c-360a57e2d771",
   "metadata": {},
   "outputs": [],
   "source": []
  },
  {
   "cell_type": "code",
   "execution_count": null,
   "id": "f12aaa07-bacd-41fa-8451-0a3f50741567",
   "metadata": {},
   "outputs": [],
   "source": []
  },
  {
   "cell_type": "code",
   "execution_count": null,
   "id": "7a5efd61-2e12-4b16-94bc-4d6ad45ecd2b",
   "metadata": {},
   "outputs": [],
   "source": [
    "\n"
   ]
  }
 ],
 "metadata": {
  "kernelspec": {
   "display_name": "Python 3 (ipykernel)",
   "language": "python",
   "name": "python3"
  },
  "language_info": {
   "codemirror_mode": {
    "name": "ipython",
    "version": 3
   },
   "file_extension": ".py",
   "mimetype": "text/x-python",
   "name": "python",
   "nbconvert_exporter": "python",
   "pygments_lexer": "ipython3",
   "version": "3.10.8"
  }
 },
 "nbformat": 4,
 "nbformat_minor": 5
}
