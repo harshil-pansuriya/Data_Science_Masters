{
 "cells": [
  {
   "cell_type": "markdown",
   "id": "87b65641-5f1f-44ff-b0c1-b388c4826049",
   "metadata": {},
   "source": [
    "## 1.  Create a function which will take a list as an argument and return the product of all the numbers after creating a flat list.\n",
    "\n",
    "## Use the below-given list as an argument for your function."
   ]
  },
  {
   "cell_type": "code",
   "execution_count": 43,
   "id": "546f1da5-45de-4ef8-82c9-dacbd8d461cf",
   "metadata": {},
   "outputs": [],
   "source": [
    "from functools import reduce\n",
    "\n",
    "def flat_list(lst):\n",
    "    lst1=[]\n",
    "    \n",
    "    for i in lst:\n",
    "        if type(i) == set or type(i) == tuple or type(i) == list:\n",
    "            lst1.extend(list(i))\n",
    "            \n",
    "        elif type(i) == dict:\n",
    "            lst1.extend(list(i.keys()))\n",
    "            \n",
    "            for j  in list(i.values()):\n",
    "                if type(j) == set or type(j) == tuple or type(j) == list:\n",
    "                    lst1.extend(list(j))\n",
    "                elif type(j) == int or type(j) == float: \n",
    "                    lst1.append(j)\n",
    "                    \n",
    "        elif type(i) == int or type(i) == float: \n",
    "            lst1.append(i)\n",
    "            \n",
    "    flatten_list = list(filter(lambda x : type(x) == int or type(x) == float,lst1))\n",
    "    print(flatten_list)\n",
    "    return reduce(lambda x,y : x*y , flatten_list)"
   ]
  },
  {
   "cell_type": "code",
   "execution_count": 44,
   "id": "e0feebc5-cab3-4ae7-ad35-53e70ce0da56",
   "metadata": {},
   "outputs": [],
   "source": [
    "list1 = [1,2,3,4, [44,55,66, True], False, (34,56,78,89,34), {1,2,3,3,2,1}, {1:34, \"key2\": [55, 67, 78, 89], 4: (45,22, 61, 34)}, [56, 'data science'], 'Machine Learning']"
   ]
  },
  {
   "cell_type": "code",
   "execution_count": 45,
   "id": "2b131c3f-d3f6-46f4-877c-e051ad0bca4d",
   "metadata": {},
   "outputs": [
    {
     "name": "stdout",
     "output_type": "stream",
     "text": [
      "[1, 2, 3, 4, 44, 55, 66, 34, 56, 78, 89, 34, 1, 2, 3, 1, 4, 34, 55, 67, 78, 89, 45, 22, 61, 34, 56]\n",
      "\n",
      "\n",
      "4134711838987085478833841242112000\n"
     ]
    }
   ],
   "source": [
    "ans=flat_list(list1)\n",
    "print(\"\\n\")\n",
    "print(ans)"
   ]
  },
  {
   "cell_type": "code",
   "execution_count": null,
   "id": "037b8bea-dc20-4ca7-a5a6-032aecb4ad71",
   "metadata": {},
   "outputs": [],
   "source": []
  },
  {
   "cell_type": "markdown",
   "id": "f30aab89-ac43-4ad8-aa2d-ab98554325e4",
   "metadata": {},
   "source": [
    "## 2.  Write a python program for encrypting a message sent to you by your friend. The logic of encryption should be such that, for a the output should be z. For b, the output should be y. For c, the output should be x respectively. Also, the whitespace should be replaced with a dollar sign. Keep the punctuation marks unchanged."
   ]
  },
  {
   "cell_type": "code",
   "execution_count": null,
   "id": "39b9757f-81c5-4c6e-9dbc-8939b0d9fd4f",
   "metadata": {},
   "outputs": [],
   "source": [
    "sentence= input()\n",
    "sentence = sentence.lower()\n",
    "sentence = sentence.replace(\"a\",\"z\")\n",
    "sentence = sentence.replace(\"b\",\"y\")\n",
    "sentence = sentence.replace(\"c\",\"x\")\n",
    "sentence = sentence.replace(\" \",\"$\")\n",
    "print(sentence)"
   ]
  },
  {
   "cell_type": "code",
   "execution_count": null,
   "id": "188d5c93-cc1f-4356-8c1d-687458214a99",
   "metadata": {},
   "outputs": [],
   "source": []
  }
 ],
 "metadata": {
  "kernelspec": {
   "display_name": "Python 3 (ipykernel)",
   "language": "python",
   "name": "python3"
  },
  "language_info": {
   "codemirror_mode": {
    "name": "ipython",
    "version": 3
   },
   "file_extension": ".py",
   "mimetype": "text/x-python",
   "name": "python",
   "nbconvert_exporter": "python",
   "pygments_lexer": "ipython3",
   "version": "3.10.8"
  }
 },
 "nbformat": 4,
 "nbformat_minor": 5
}
