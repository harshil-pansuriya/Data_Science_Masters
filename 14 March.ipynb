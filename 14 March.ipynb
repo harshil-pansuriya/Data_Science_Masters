{
 "cells": [
  {
   "cell_type": "markdown",
   "id": "2801f24f-78ac-4192-8ecc-56312df1c663",
   "metadata": {},
   "source": [
    "# 1.\n",
    "## Write a Python function that takes in two arrays of data and calculates the F-value for a variance ratio test. The function should return the F-value and the corresponding p-value for the test."
   ]
  },
  {
   "cell_type": "code",
   "execution_count": 1,
   "id": "0c7978d9-f4aa-4753-8073-592e3d82d2d0",
   "metadata": {},
   "outputs": [],
   "source": [
    "from scipy.stats import f\n",
    "\n",
    "def variance_ratio(data1, data2):\n",
    "    var1 = np.var(data1, ddof=1)\n",
    "    var2 = np.var(data2, ddof=1)\n",
    "    F = var1 / var2\n",
    "    df1 = len(data1) - 1\n",
    "    df2 = len(data2) - 1\n",
    "    p_value = f.sf(F, df1, df2)\n",
    "    return F, p_value"
   ]
  },
  {
   "cell_type": "markdown",
   "id": "a15db2a0-375e-4a80-9376-3c781179bc16",
   "metadata": {},
   "source": [
    "# 2.\n",
    "## Given a significance level of 0.05 and the degrees of freedom for the numerator and denominator of an F-distribution, write a Python function that returns the critical F-value for a two-tailed test."
   ]
  },
  {
   "cell_type": "code",
   "execution_count": 2,
   "id": "83dbe26c-dedd-4d10-ada9-1e4664b63e14",
   "metadata": {},
   "outputs": [],
   "source": [
    "from scipy.stats import f\n",
    "\n",
    "def critical_f_value(alpha, dfn, dfd):\n",
    "    return f.ppf(alpha / 2, dfn, dfd, loc=0, scale=1)"
   ]
  },
  {
   "cell_type": "markdown",
   "id": "dc91fd7d-1a30-40ae-8116-25bf96ff7d52",
   "metadata": {},
   "source": [
    "# 3.\n",
    "## Write a Python program that generates random samples from two normal distributions with known variances and uses an F-test to determine if the variances are equal. The program should output the F- value, degrees of freedom, and p-value for the test."
   ]
  },
  {
   "cell_type": "code",
   "execution_count": 3,
   "id": "71ac7f76-f906-49c5-836c-3712ebba8d9c",
   "metadata": {},
   "outputs": [
    {
     "name": "stdout",
     "output_type": "stream",
     "text": [
      "F-value: 1.2520948942477963\n",
      "Degrees of freedom: 49 , 49\n",
      "p-value: 0.2170951365468026\n"
     ]
    }
   ],
   "source": [
    "import numpy as np\n",
    "from scipy.stats import f\n",
    "\n",
    "np.random.seed(123)\n",
    "\n",
    "n1 = n2 = 50\n",
    "mean1 = mean2 = 0\n",
    "var1 = var2 = 4\n",
    "\n",
    "data1 = np.random.normal(mean1, np.sqrt(var1), n1)\n",
    "data2 = np.random.normal(mean2, np.sqrt(var2), n2)\n",
    "var1 = np.var(data1, ddof=1)\n",
    "var2 = np.var(data2, ddof=1)\n",
    "F = var1 / var2\n",
    "\n",
    "dfn = n1 - 1\n",
    "dfd = n2 - 1\n",
    "p_value = f.sf(F, dfn, dfd)\n",
    "print(\"F-value:\", F)\n",
    "print(\"Degrees of freedom:\", dfn, \",\", dfd)\n",
    "print(\"p-value:\", p_value)\n"
   ]
  },
  {
   "cell_type": "markdown",
   "id": "a9f88be4-cdf0-41dc-b4c2-3488ba93206d",
   "metadata": {},
   "source": [
    "# 4.\n",
    "## The variances of two populations are known to be 10 and 15. A sample of 12 observations is taken from each population. Conduct an F-test at the 5% significance level to determine if the variances are significantly different."
   ]
  },
  {
   "cell_type": "code",
   "execution_count": 4,
   "id": "6e0e2e75-40aa-4912-92a9-c500d7e9eeb4",
   "metadata": {},
   "outputs": [
    {
     "name": "stdout",
     "output_type": "stream",
     "text": [
      "There is no significant difference in the variances (p = 0.9696)\n"
     ]
    }
   ],
   "source": [
    "import numpy as np\n",
    "from scipy.stats import f\n",
    "\n",
    "alpha = 0.05\n",
    "df_num = 11  \n",
    "df_denom = 11 \n",
    "n1 = n2 = 12\n",
    "var1 = 10\n",
    "var2 = 15\n",
    "sample1 = np.random.normal(0, np.sqrt(var1), size=n1)\n",
    "sample2 = np.random.normal(0, np.sqrt(var2), size=n2)\n",
    "s1 = np.var(sample1, ddof=1)\n",
    "s2 = np.var(sample2, ddof=1)\n",
    "\n",
    "F = s1 / s2 if s1 > s2 else s2 / s1\n",
    "p = 2 * min(f.cdf(F, df_num, df_denom), 1 - f.cdf(F, df_num, df_denom))\n",
    "if p < alpha:\n",
    "    print(\"The variances are significantly different (p = {:.4f})\".format(p))\n",
    "else:\n",
    "    print(\"There is no significant difference in the variances (p = {:.4f})\".format(p))"
   ]
  },
  {
   "cell_type": "markdown",
   "id": "46d5b8e1-50c3-4763-9a6c-77fd49994f02",
   "metadata": {},
   "source": [
    "# 5.\n",
    "## A manufacturer claims that the variance of the diameter of a certain product is 0.005. A sample of 25 products is taken, and the sample variance is found to be 0.006. Conduct an F-test at the 1% significance level to determine if the claim is justified."
   ]
  },
  {
   "cell_type": "code",
   "execution_count": 5,
   "id": "a4666362-f599-4773-a794-e468db7bebbd",
   "metadata": {},
   "outputs": [
    {
     "name": "stdout",
     "output_type": "stream",
     "text": [
      "The claim is justified (p = 0.6706)\n"
     ]
    }
   ],
   "source": [
    "import numpy as np\n",
    "from scipy.stats import f\n",
    "\n",
    "alpha = 0.01\n",
    "df_num = 24  \n",
    "df_denom = 24  \n",
    "sigma_sq_claimed = 0.005\n",
    "n = 25\n",
    "sample_var = 0.006\n",
    "\n",
    "F = sample_var / sigma_sq_claimed\n",
    "p = f.cdf(F, df_num, df_denom)\n",
    "if p < alpha / 2 or p > 1 - alpha / 2:\n",
    "    print(\"The claim is not justified (p = {:.4f})\".format(p))\n",
    "else:\n",
    "    print(\"The claim is justified (p = {:.4f})\".format(p))"
   ]
  },
  {
   "cell_type": "markdown",
   "id": "781e4809-84ca-458b-93fb-482021846c93",
   "metadata": {},
   "source": [
    "# 6\n",
    "## Write a Python function that takes in the degrees of freedom for the numerator and denominator of an F-distribution and calculates the mean and variance of the distribution. The function should return the mean and variance as a tuple."
   ]
  },
  {
   "cell_type": "code",
   "execution_count": 7,
   "id": "2e994e1e-bbf8-491f-9c2e-cf9c5ffc3eee",
   "metadata": {},
   "outputs": [],
   "source": [
    "def f_dist_mean_variance(df_num, df_denom):\n",
    "    if df_denom <= 2:\n",
    "        mean = np.inf  \n",
    "    else:\n",
    "        mean = df_denom / (df_denom - 2)\n",
    "    if df_denom <= 4:\n",
    "        var = np.inf \n",
    "    else:\n",
    "        var = (2 * df_denom ** 2 * (df_num + df_denom - 2)) / (df_num * (df_denom - 2) ** 2 * (df_denom - 4))\n",
    "    \n",
    "    return mean, var"
   ]
  },
  {
   "cell_type": "markdown",
   "id": "99dbaec7-b6e7-47c6-911b-d51779a4ad76",
   "metadata": {},
   "source": [
    "# 7.\n",
    "## A random sample of 10 measurements is taken from a normal population with unknown variance. The sample variance is found to be 25. Another random sample of 15 measurements is taken from another normal population with unknown variance, and the sample variance is found to be 20. Conduct an F-test at the 10% significance level to determine if the variances are significantly different."
   ]
  },
  {
   "cell_type": "code",
   "execution_count": 8,
   "id": "e7e83639-68ac-4f61-8b51-82ab4a86bd37",
   "metadata": {},
   "outputs": [
    {
     "name": "stdout",
     "output_type": "stream",
     "text": [
      "We reject the null hypothesis at the 10.0 percent level of significance.\n"
     ]
    }
   ],
   "source": [
    "import scipy.stats as stat\n",
    "\n",
    "alpha = 0.10\n",
    "s1_sq = 25\n",
    "s2_sq = 20\n",
    "F = s1_sq / s2_sq\n",
    "df1 = 9  \n",
    "df2 = 14 \n",
    "\n",
    "F_crit = stat.f.ppf(alpha/2, df1, df2)\n",
    "\n",
    "if F > F_crit or F < 1/F_crit:\n",
    "    print(\"We reject the null hypothesis at the\", alpha*100, \"percent level of significance.\")\n",
    "else:\n",
    "    print(\"We fail to reject the null hypothesis at the\", alpha*100, \"percent level of significance.\")\n"
   ]
  },
  {
   "cell_type": "markdown",
   "id": "b3b82c85-2c4b-43cc-8b5c-961542819d01",
   "metadata": {},
   "source": [
    "# 8.\n",
    "## The following data represent the waiting times in minutes at two different restaurants on a Saturday night: Restaurant A: 24, 25, 28, 23, 22, 20, 27; Restaurant B: 31, 33, 35, 30, 32, 36. Conduct an F-test at the 5% significance level to determine if the variances are significantly different."
   ]
  },
  {
   "cell_type": "code",
   "execution_count": 9,
   "id": "3bd30137-dc68-4556-8d76-3b7d7748e234",
   "metadata": {},
   "outputs": [
    {
     "name": "stdout",
     "output_type": "stream",
     "text": [
      "F-statistic: 1.4551907719609583\n",
      "Degrees of freedom: numerator = 6 , denominator = 5\n",
      "P-value: 0.3487407873968742\n"
     ]
    }
   ],
   "source": [
    "import numpy as np\n",
    "from scipy.stats import f\n",
    "\n",
    "a = np.array([24, 25, 28, 23, 22, 20, 27])\n",
    "b = np.array([31, 33, 35, 30, 32, 36])\n",
    "var1 = np.var(a, ddof=1)\n",
    "var2 = np.var(b, ddof=1)\n",
    "f_stat = var1 / var2\n",
    "df_a = len(a) - 1\n",
    "df_b = len(b) - 1\n",
    "\n",
    "p_value = 1 - f.cdf(f_stat, df_a, df_b)\n",
    "print(\"F-statistic:\", f_stat)\n",
    "print(\"Degrees of freedom: numerator =\", df_a, \", denominator =\", df_b)\n",
    "print(\"P-value:\", p_value)\n"
   ]
  },
  {
   "cell_type": "markdown",
   "id": "452f5ac8-80a5-4dd2-8ab0-82f28a8a9f46",
   "metadata": {},
   "source": [
    "# 9.\n",
    "## The following data represent the test scores of two groups of students: Group A: 80, 85, 90, 92, 87, 83; Group B: 75, 78, 82, 79, 81, 84. Conduct an F-test at the 1% significance level to determine if the variances are significantly different."
   ]
  },
  {
   "cell_type": "code",
   "execution_count": 1,
   "id": "e0a18cdc-bf43-4c96-86a7-c8e1e5f12c1c",
   "metadata": {},
   "outputs": [
    {
     "name": "stdout",
     "output_type": "stream",
     "text": [
      "The variances are not significantly different (fail to reject null hypothesis).\n",
      "F-value: 1.9442622950819677\n",
      "P-value: 0.4831043549070688\n",
      "Degrees of freedom: (5, 5)\n"
     ]
    }
   ],
   "source": [
    "import numpy as np\n",
    "from scipy.stats import f\n",
    "\n",
    "group_a = np.array([80, 85, 90, 92, 87, 83])\n",
    "group_b = np.array([75, 78, 82, 79, 81, 84])\n",
    "\n",
    "var_a = np.var(group_a, ddof=1)\n",
    "var_b = np.var(group_b, ddof=1)\n",
    "\n",
    "f_value = var_a/var_b\n",
    "\n",
    "df_a = len(group_a) - 1\n",
    "df_b = len(group_b) - 1\n",
    "\n",
    "p_value = f.cdf(f_value, df_a, df_b)\n",
    "p_value = min(p_value, 1-p_value)*2  # two-tailed test\n",
    "\n",
    "alpha = 0.01\n",
    "\n",
    "if p_value < alpha:\n",
    "    print(\"The variances are significantly different (reject null hypothesis).\")\n",
    "else:\n",
    "    print(\"The variances are not significantly different (fail to reject null hypothesis).\")\n",
    "\n",
    "print(\"F-value:\", f_value)\n",
    "print(\"P-value:\", p_value)\n",
    "print(\"Degrees of freedom: (%d, %d)\" % (df_a, df_b))"
   ]
  },
  {
   "cell_type": "code",
   "execution_count": null,
   "id": "b3f1a717-1201-43af-8e98-d4dc5af346d7",
   "metadata": {},
   "outputs": [],
   "source": []
  }
 ],
 "metadata": {
  "kernelspec": {
   "display_name": "Python 3 (ipykernel)",
   "language": "python",
   "name": "python3"
  },
  "language_info": {
   "codemirror_mode": {
    "name": "ipython",
    "version": 3
   },
   "file_extension": ".py",
   "mimetype": "text/x-python",
   "name": "python",
   "nbconvert_exporter": "python",
   "pygments_lexer": "ipython3",
   "version": "3.10.8"
  }
 },
 "nbformat": 4,
 "nbformat_minor": 5
}
