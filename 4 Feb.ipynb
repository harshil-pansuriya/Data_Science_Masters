{
 "cells": [
  {
   "cell_type": "markdown",
   "id": "378b960f-1e30-4987-b849-927279b274e5",
   "metadata": {},
   "source": [
    "### 1.  Create a python program to sort the given list of tuples based on integer value using a lambda function. "
   ]
  },
  {
   "cell_type": "code",
   "execution_count": 1,
   "id": "96d13104-35ca-4510-9ec1-4b74bb63b4c3",
   "metadata": {},
   "outputs": [
    {
     "name": "stdout",
     "output_type": "stream",
     "text": [
      "[('Virat Kohli', 24936), ('Jack Kallis', 25534), ('Ricky Ponting', 27483), ('Sachin Tendulkar', 34357)]\n"
     ]
    }
   ],
   "source": [
    "list1=[('Sachin Tendulkar', 34357), ('Ricky Ponting', 27483), ('Jack Kallis', 25534), ('Virat Kohli', 24936)]\n",
    "def sort(list1):\n",
    "  return sorted(list1, key=lambda x: x[1])\n",
    "print(sort(list1))"
   ]
  },
  {
   "cell_type": "markdown",
   "id": "760fbd5b-6dac-4fab-9fef-d6fbba284864",
   "metadata": {},
   "source": [
    "### 2.Write a Python Program to find the squares of all the numbers in the given list of integers using lambda and map functions."
   ]
  },
  {
   "cell_type": "code",
   "execution_count": 2,
   "id": "39694a83-be9b-46fd-acb0-ecd0b027dc15",
   "metadata": {},
   "outputs": [
    {
     "data": {
      "text/plain": [
       "[1, 4, 9, 16, 25, 36, 49, 64, 81, 100]"
      ]
     },
     "execution_count": 2,
     "metadata": {},
     "output_type": "execute_result"
    }
   ],
   "source": [
    "lst2=[1,2,3,4,5,6,7,8,9,10]\n",
    "list(map(lambda x : x**2 ,lst2))"
   ]
  },
  {
   "cell_type": "markdown",
   "id": "bdafad8c-6cc7-439a-a9c8-0a86fcd257be",
   "metadata": {},
   "source": [
    "### 3. Write a python program to convert the given list of integers into a tuple of strings. Use map and lambda functions"
   ]
  },
  {
   "cell_type": "code",
   "execution_count": 3,
   "id": "597d4c00-d766-4a58-a76f-ac4eb9146987",
   "metadata": {},
   "outputs": [
    {
     "data": {
      "text/plain": [
       "('1', '2', '3', '4', '5', '6', '7', '8', '9', '10')"
      ]
     },
     "execution_count": 3,
     "metadata": {},
     "output_type": "execute_result"
    }
   ],
   "source": [
    "given_list = [1, 2, 3, 4, 5, 6, 7, 8, 9, 10]\n",
    "## Expected output: ('1', '2', '3', '4', '5', '6', '7', '8', '9', '10')\n",
    "tuple(map(lambda x : str(x) , given_list))"
   ]
  },
  {
   "cell_type": "markdown",
   "id": "ef020233-8119-4653-ac27-f302dd027cc7",
   "metadata": {},
   "source": [
    "### 4.   Write a python program using reduce function to compute the product of a list containing numbers from 1 to 25."
   ]
  },
  {
   "cell_type": "code",
   "execution_count": 7,
   "id": "ab5faad9-2155-447f-a696-22dee8322485",
   "metadata": {},
   "outputs": [
    {
     "data": {
      "text/plain": [
       "15511210043330985984000000"
      ]
     },
     "execution_count": 7,
     "metadata": {},
     "output_type": "execute_result"
    }
   ],
   "source": [
    "from functools import reduce\n",
    "given_list= [i for i in range(1,26)]\n",
    "reduce(lambda x,y : x*y, given_list)"
   ]
  },
  {
   "cell_type": "markdown",
   "id": "5369e78c-bc63-439d-9154-b563b0f520b0",
   "metadata": {},
   "source": [
    "### 5. Write a python program to filter the numbers in a given list that are divisible by 2 and 3 using the filter function."
   ]
  },
  {
   "cell_type": "code",
   "execution_count": 9,
   "id": "4fa0dced-4d5b-4946-b218-2a653eee4c81",
   "metadata": {},
   "outputs": [
    {
     "data": {
      "text/plain": [
       "[6, 60, 90, 120]"
      ]
     },
     "execution_count": 9,
     "metadata": {},
     "output_type": "execute_result"
    }
   ],
   "source": [
    "given_list = [2, 3, 6, 9, 27, 60, 90, 120, 55, 46]\n",
    "list(filter(lambda x : x%2 == 0 and x%3 == 0,given_list))"
   ]
  },
  {
   "cell_type": "markdown",
   "id": "5f9d3c5c-230d-4112-b2d7-63de9f02d09d",
   "metadata": {},
   "source": [
    "### 6.  Write a python program to find palindromes in the given list of strings using lambda and filter function."
   ]
  },
  {
   "cell_type": "code",
   "execution_count": 12,
   "id": "adaf2878-8b2e-484c-bc24-45646cb93b51",
   "metadata": {},
   "outputs": [
    {
     "data": {
      "text/plain": [
       "['php', 'aba', 'radar', 'level']"
      ]
     },
     "execution_count": 12,
     "metadata": {},
     "output_type": "execute_result"
    }
   ],
   "source": [
    "given_list=['python', 'php', 'aba', 'radar', 'level']\n",
    "list(filter(lambda x : x==x[::-1],given_list))"
   ]
  },
  {
   "cell_type": "code",
   "execution_count": null,
   "id": "9bc5ba47-6a9b-485e-ad2a-45b2c7585bf3",
   "metadata": {},
   "outputs": [],
   "source": []
  }
 ],
 "metadata": {
  "kernelspec": {
   "display_name": "Python 3 (ipykernel)",
   "language": "python",
   "name": "python3"
  },
  "language_info": {
   "codemirror_mode": {
    "name": "ipython",
    "version": 3
   },
   "file_extension": ".py",
   "mimetype": "text/x-python",
   "name": "python",
   "nbconvert_exporter": "python",
   "pygments_lexer": "ipython3",
   "version": "3.10.8"
  }
 },
 "nbformat": 4,
 "nbformat_minor": 5
}
