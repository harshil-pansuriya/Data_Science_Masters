{
 "cells": [
  {
   "cell_type": "markdown",
   "id": "f32861dd-f8b2-4c8f-9d27-5c2e8dbe89e3",
   "metadata": {},
   "source": [
    "# 1.\n",
    "## What is Estimation Statistics? Explain point estimate and interval estimate.\n",
    "### Estimation statistics is a branch of inferential statistics that deals with estimating population parameters based on sample statistics. It involves using sample data to make inferences about an unknown population parameter. The two main types of estimation statistics are point estimate and interval estimate.\n",
    "\n",
    "### -->A point estimate is a single value that is used to estimate an unknown population parameter. It is typically calculated using a sample statistic, such as the sample mean or sample proportion. For example, if we want to estimate the population mean height of a group of people, we can take a sample of heights and calculate the sample mean height as our point estimate.\n",
    "\n",
    "### -->An interval estimate, on the other hand, is a range of values within which the population parameter is likely to fall. It is typically calculated using a confidence interval, which is a range of values that is likely to contain the population parameter with a certain level of confidence. For example, a 95% confidence interval for the population mean height would provide a range of values within which we are 95% confident that the true population mean height lies."
   ]
  },
  {
   "cell_type": "markdown",
   "id": "d721f2eb-f949-4ee6-bc5c-76ecc9f1c178",
   "metadata": {},
   "source": [
    "# 2.\n",
    "## Write a Python function to estimate the population mean using a sample mean and standard deviation."
   ]
  },
  {
   "cell_type": "code",
   "execution_count": 1,
   "id": "e51667e4-7086-45b4-915b-4621ba281996",
   "metadata": {},
   "outputs": [],
   "source": [
    "import math\n",
    "def population_mean(s_mean,s_std,s_size,z=1.96):\n",
    "    return (s_mean-z*s_std/math.sqrt(s_size),s_mean+z*s_std/math.sqrt(s_size))"
   ]
  },
  {
   "cell_type": "code",
   "execution_count": 2,
   "id": "2a964735-0aba-40ff-9ccc-7ac5ec0881b7",
   "metadata": {},
   "outputs": [
    {
     "data": {
      "text/plain": [
       "(3.8926463787289873, 4.107353621271012)"
      ]
     },
     "execution_count": 2,
     "metadata": {},
     "output_type": "execute_result"
    }
   ],
   "source": [
    "population_mean(4,0.3,30)"
   ]
  },
  {
   "cell_type": "markdown",
   "id": "1781bf55-1c14-4b43-9133-72671ebf8953",
   "metadata": {},
   "source": [
    "# 3.\n",
    "## What is Hypothesis testing? Why is it used? State the importance of Hypothesis testing.\n",
    "### -->Hypothesis testing is a statistical method used to evaluate whether an assumption or hypothesis about a population parameter is supported by sample data. \n",
    "### IMportance: The importance of hypothesis testing lies in its ability to provide a structured framework for making decisions based on data. It allows us to make quantitative statements about the probability of observing a certain result if the null hypothesis is true, and to assess the strength of evidence against the null hypothesis"
   ]
  },
  {
   "cell_type": "markdown",
   "id": "600672ed-0a94-4778-88ed-0f06cf248ca5",
   "metadata": {},
   "source": [
    "# 4.\n",
    "## Create a hypothesis that states whether the average weight of male college students is greater than the average weight of female college students.\n",
    "\n",
    "### --> Null Hypothesis (H0): The average weight of male college students is equal to or less than the average weight of female college students.\n",
    "#### H0: µm ≤ µf\n",
    "\n",
    "### --> Alternative Hypothesis (Ha): The average weight of male college students is greater than the average weight of female college students.\n",
    "#### Ha: µm > µf"
   ]
  },
  {
   "cell_type": "markdown",
   "id": "148a8fe9-6fc9-4b37-bae5-a844b0a00e02",
   "metadata": {},
   "source": [
    "# 5.\n",
    "## Write a Python script to conduct a hypothesis test on the difference between two population means, given a sample from each population."
   ]
  },
  {
   "cell_type": "code",
   "execution_count": 11,
   "id": "1d76dd6a-e70c-4fbc-869b-b77ffe4b8bdc",
   "metadata": {},
   "outputs": [
    {
     "name": "stdout",
     "output_type": "stream",
     "text": [
      "we reject the null hypothesis\n"
     ]
    }
   ],
   "source": [
    "from scipy import stats as stat\n",
    "import numpy as np\n",
    "\n",
    "marks1 = np.array([84, 72, 68, 89, 78, 82, 75, 96, 81, 86])\n",
    "marks2 = np.array([72, 67, 65, 70, 76, 73, 68, 74, 79, 72])\n",
    "\n",
    "m1=np.mean(marks1)\n",
    "std1=np.std(marks1)\n",
    "m2=np.mean(marks2)\n",
    "std2=np.std(marks2)\n",
    "\n",
    "df=len(marks1) + len(marks2) - 2\n",
    "t_stat, p_val = stat.ttest_ind(marks1, marks2)\n",
    "\n",
    "if p_val<0.05:\n",
    "    print(\"we reject the null hypothesis\")\n",
    "else:\n",
    "    print(\"we fail to reject the null hypothesis\")"
   ]
  },
  {
   "cell_type": "markdown",
   "id": "80d2fe3d-585f-466a-aa32-81d59e52e615",
   "metadata": {},
   "source": [
    "# 6.\n",
    "## What is a null and alternative hypothesis? Give some examples.\n",
    "### --> A null hypothesis (H0) is a statement or assumption that there is no significant difference between two or more variables or that there is no relationship between them. The alternative hypothesis (Ha), on the other hand, is a statement or assumption that there is a significant difference or relationship between the variables being tested.\n",
    "### Ex:\n",
    "#### A null hypothesis might be that the mean income of male and female employees in a company is the same. The alternative hypothesis could be that the mean income of male employees is higher than the mean income of female employees.\n",
    "#### A null hypothesis might be that there is no relationship between the amount of time spent studying and exam scores. The alternative hypothesis could be that there is a positive relationship between the amount of time spent studying and exam scores."
   ]
  },
  {
   "cell_type": "markdown",
   "id": "03d5f014-f091-44a9-b76d-2458f27c7165",
   "metadata": {},
   "source": [
    "# 7.\n",
    "## Write down the steps involved in hypothesis testing.\n",
    "\n",
    "#### 1]State the null hypothesis (H0) and the alternative hypothesis (Ha).\n",
    "#### 2]Determine the appropriate test statistic and level of significance.\n",
    "#### 3]Collect sample data.\n",
    "#### 4]Calculate the test statistic.\n",
    "#### 5]Determine the p-value.\n",
    "#### 6]Make a decision about the null hypothesis.\n",
    "#### 7]Interpret the results.\n",
    "#### 8]Draw conclusions and make recommendations."
   ]
  },
  {
   "cell_type": "markdown",
   "id": "e712555f-35bd-4c89-b68d-f4259a4ff505",
   "metadata": {},
   "source": [
    "# 8.\n",
    "## Define p-value and explain its significance in hypothesis testing.\n",
    "\n",
    "### -->In statistics, the p-value is a measure of the strength of evidence against a null hypothesis. Specifically, it represents the probability of observing a result as extreme or more extreme than the one observed, assuming that the null hypothesis is true.\n",
    "### --> The p-value is compared to a predetermined significance level (usually 0.05 or 0.01) to determine whether to reject or fail to reject the null hypothesis. If the p-value is less than or equal to the significance level, the result is considered statistically significant, and the null hypothesis is rejected in favor of the alternative hypothesis. Conversely, if the p-value is greater than the significance level, the result is not statistically significant, and the null hypothesis cannot be rejected."
   ]
  },
  {
   "cell_type": "markdown",
   "id": "5f4b6175-bb4a-421e-b0af-f5cc90b6c566",
   "metadata": {},
   "source": [
    "# 9.\n",
    "## Generate a Student's t-distribution plot using Python's matplotlib library, with the degrees of freedom parameter set to 10."
   ]
  },
  {
   "cell_type": "code",
   "execution_count": 14,
   "id": "917a529c-272f-426e-800a-2a9f7366f1df",
   "metadata": {},
   "outputs": [],
   "source": [
    "import matplotlib.pyplot as plt\n",
    "import numpy as np"
   ]
  },
  {
   "cell_type": "code",
   "execution_count": 15,
   "id": "343e3000-2940-4469-aec5-aefbb185bec1",
   "metadata": {},
   "outputs": [
    {
     "data": {
      "image/png": "[encoded data removed]",
      "text/plain": [
       "<Figure size 640x480 with 1 Axes>"
      ]
     },
     "metadata": {},
     "output_type": "display_data"
    }
   ],
   "source": [
    "t_dist=np.random.standard_t(10,100)\n",
    "plt.hist(t_dist)\n",
    "plt.show()"
   ]
  },
  {
   "cell_type": "markdown",
   "id": "b8e69c45-8625-41e6-a28a-8bc6ab7c1924",
   "metadata": {},
   "source": [
    "# 10.\n",
    "## Write a Python program to calculate the two-sample t-test for independent samples, given two random samples of equal size and a null hypothesis that the population means are equal."
   ]
  },
  {
   "cell_type": "code",
   "execution_count": 17,
   "id": "2e50f44b-f812-4820-b18a-cc6a5fb8f9b1",
   "metadata": {},
   "outputs": [
    {
     "name": "stdout",
     "output_type": "stream",
     "text": [
      "Reject null hypothesis\n"
     ]
    }
   ],
   "source": [
    "std1 = np.std(marks1)\n",
    "mean2 = np.mean(marks2)\n",
    "std2 = np.std(marks2)\n",
    "\n",
    "df = len(marks1) + len(marks2) - 2\n",
    "t_stat, p_val = stat.ttest_ind(marks1, marks2)\n",
    "alpha = 0.05\n",
    "\n",
    "if p_val < alpha:\n",
    "    print(\"We Reject null hypothesis\")\n",
    "else:\n",
    "    print(\"Fail to reject null hypothesis\")"
   ]
  },
  {
   "cell_type": "markdown",
   "id": "7d8900ca-1aaf-4464-9928-603f9d944c00",
   "metadata": {},
   "source": [
    "# 11.\n",
    "## What is Student’s t distribution? When to use the t-Distribution.\n",
    "### Student's t-distribution is a probability distribution that is used to model the distribution of sample means when the sample size is small and/or the population standard deviation is unknown. The t-distribution is similar to the standard normal distribution, but it has heavier tails, meaning that it has a greater probability of producing extreme values.\n",
    "\n",
    "### The t-distribution is commonly used in hypothesis testing when the population standard deviation is unknown and must be estimated from the sample data. It is also used when the sample size is small (typically less than 30) and the population distribution is approximately normal.\n",
    "\n",
    "### In summary, the t-distribution is used when:\n",
    "#### 1]The population standard deviation is unknown and must be estimated from the sample data.\n",
    "#### 2]The sample size is small (typically less than 30).\n",
    "#### 3]The population distribution is approximately normal.\n",
    "#### 4]The goal is to estimate the population mean or compare the means of two or more samples."
   ]
  },
  {
   "cell_type": "markdown",
   "id": "134114db-5204-4be5-b6e2-fc19b0a1b7a6",
   "metadata": {},
   "source": [
    "# 12. What is t-statistic? State the formula for t-statistic.\n",
    "### -->In statistics, the t-statistic is the ratio of the departure of the estimated value of a parameter from its hypothesized value to its standard error.\n",
    "#### t statistic = [ (x - μ) / {s / sqrt(n)}]"
   ]
  },
  {
   "cell_type": "markdown",
   "id": "d6cef47e-1e7f-4a29-b551-515a9a751eae",
   "metadata": {},
   "source": [
    "# 13.\n",
    "##  A coffee shop owner wants to estimate the average daily revenue for their shop. They take a random sample of 50 days and find the sample mean revenue to be 500 dollar with a standard deviation of 50 dollar. Estimate the population mean revenue with a 95% confidence interval."
   ]
  },
  {
   "cell_type": "code",
   "execution_count": 19,
   "id": "afe647c1-c3c5-4afa-855f-fd7dfd0a5c82",
   "metadata": {},
   "outputs": [
    {
     "data": {
      "text/plain": [
       "(486.1407070887437, 513.8592929112564)"
      ]
     },
     "execution_count": 19,
     "metadata": {},
     "output_type": "execute_result"
    }
   ],
   "source": [
    "x=population_mean(500,50,50)\n",
    "x"
   ]
  },
  {
   "cell_type": "markdown",
   "id": "e4280377-bcc8-4803-b45c-0555bb735eb6",
   "metadata": {},
   "source": [
    "# 14.\n",
    "##  A researcher hypothesizes that a new drug will decrease blood pressure by 10 mmHg. They conduct a clinical trial with 100 patients and find that the sample mean decrease in blood pressure is 8 mmHg with a standard deviation of 3 mmHg. Test the hypothesis with a significance level of 0.05.\n",
    "\n",
    "### Null hypothesis: The new drug does not decrease blood pressure by 10 mmHg.\n",
    "### Alternative hypothesis: The new drug decreases blood pressure by 10 mmHg.\n",
    "\n",
    "#### t = (sample mean - hypothesized population mean) / (standard deviation / sqrt(sample size))\n",
    "#### t = (8 - 10) / (3 / sqrt(100))\n",
    "#### t = -2 * sqrt(100) / 3\n",
    "#### t = -6.67 (rounded to two decimal places)\n",
    "#### The degrees of freedom for this test is n-1 = 100-1 = 99. Using a t-table or calculator, we can find the p-value associated with this test statistic.\n",
    "#### At a significance level of 0.05, the critical value for a two-tailed test with 99 degrees of freedom is ±1.984.\n",
    "#### Since our calculated t-value of -6.67 is less than the critical value of -1.984, we reject the null hypothesis in favor of the alternative hypothesis.\n",
    "#### we can conclude that the new drug is effective in decreasing blood pressure."
   ]
  },
  {
   "cell_type": "markdown",
   "id": "0a31adac-8c47-43ce-a61f-e7165775c6d0",
   "metadata": {},
   "source": [
    "# 15.\n",
    "## An electronics company produces a certain type of product with a mean weight of 5 pounds and a standard deviation of 0.5 pounds. A random sample of 25 products is taken, and the sample mean weight is found to be 4.8 pounds. Test the hypothesis that the true mean weight of the products is less than 5 pounds with a significance level of 0.01.\n",
    "\n",
    "#### t = (sample mean - hypothesized population mean) / (standard deviation / sqrt(sample size))\n",
    "#### t = (4.8 - 5) / (0.5 / sqrt(25))\n",
    "#### t = -2 (rounded to two decimal places)\n",
    "#### The degrees of freedom for this test is n-1 = 25-1 = 24. Using a t-table or calculator, we can find the p-value associated with this test statistic.\n",
    "#### At a significance level of 0.01 and 24 degrees of freedom, the critical value for a one-tailed test is -2.492.\n",
    "#### Since our calculated t-value of -2 is greater than the critical value of -2.492, we reject the null hypothesis in favor of the alternative hypothesis."
   ]
  },
  {
   "cell_type": "markdown",
   "id": "bc3a44f5-01f5-4f99-97fc-49cf567cb3b3",
   "metadata": {},
   "source": [
    "# 16.\n",
    "##  Two groups of students are given different study materials to prepare for a test. The first group (n1 = 30) has a mean score of 80 with a standard deviation of 10, and the second group (n2 = 40) has a mean score of 75 with a standard deviation of 8. Test the hypothesis that the population means for the two groups are equal with a significance level of 0.01.\n",
    "\n",
    "#### t = (x̄1 - x̄2) / s * sqrt(1/n1 + 1/n2)\n",
    "#### s = sqrt[(n1 * s1^2 + n2 * s2^2) / n1 + n2 - 2]\n",
    "#### t = 1.5089\n",
    "#### The critical t-value is 2.6495.\n",
    "#### --> Since the calculated value is less than the critical value.we fail to reject the null hypothesis.\n",
    "#### --> we conclude that there is sufficient evidence that the population means for the two groups are equal"
   ]
  },
  {
   "cell_type": "markdown",
   "id": "a2d5a838-f676-4aae-8d27-49df5f61b81c",
   "metadata": {},
   "source": [
    "# 17.\n",
    "## A marketing company wants to estimate the average number of ads watched by viewers during a TV program. They take a random sample of 50 viewers and find that the sample mean is 4 with a standard deviation of 1.5. Estimate the population mean with a 99% confidence interval"
   ]
  },
  {
   "cell_type": "code",
   "execution_count": 24,
   "id": "effe124c-8a24-49f9-85d0-d10d472451a2",
   "metadata": {},
   "outputs": [
    {
     "data": {
      "text/plain": [
       "(3.452699351361612, 4.547300648638387)"
      ]
     },
     "execution_count": 24,
     "metadata": {},
     "output_type": "execute_result"
    }
   ],
   "source": [
    "x=population_mean(4,1.5,50)\n",
    "x"
   ]
  },
  {
   "cell_type": "code",
   "execution_count": null,
   "id": "4cd68a6f-0ec8-469c-84db-fbe0623440b3",
   "metadata": {},
   "outputs": [],
   "source": []
  }
 ],
 "metadata": {
  "kernelspec": {
   "display_name": "Python 3 (ipykernel)",
   "language": "python",
   "name": "python3"
  },
  "language_info": {
   "codemirror_mode": {
    "name": "ipython",
    "version": 3
   },
   "file_extension": ".py",
   "mimetype": "text/x-python",
   "name": "python",
   "nbconvert_exporter": "python",
   "pygments_lexer": "ipython3",
   "version": "3.10.8"
  }
 },
 "nbformat": 4,
 "nbformat_minor": 5
}
